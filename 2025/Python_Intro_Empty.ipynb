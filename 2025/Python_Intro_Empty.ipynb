{
  "cells": [
    {
      "cell_type": "markdown",
      "metadata": {
        "id": "BDhtP1bhCK63"
      },
      "source": [
        "## Учимся Python!\n",
        "\n",
        "Написать самую простую программу на Python очень просто:"
      ]
    },
    {
      "cell_type": "code",
      "execution_count": null,
      "metadata": {
        "colab": {
          "base_uri": "https://localhost:8080/"
        },
        "id": "-kjtWEs_GtB7",
        "outputId": "09ac44b1-1f9e-46f4-faf5-0ec78a7c86f9"
      },
      "outputs": [],
      "source": [
        "print(\"Hello, human!\")"
      ]
    },
    {
      "cell_type": "markdown",
      "metadata": {
        "id": "VdIA_ovmEbXL"
      },
      "source": [
        "Мы можем не писать `print`, если код в ячейке содержит несколько простых операций. Например, посчитаем число часов в году:"
      ]
    },
    {
      "cell_type": "code",
      "execution_count": null,
      "metadata": {
        "colab": {
          "base_uri": "https://localhost:8080/"
        },
        "id": "nksO17pfCTz_",
        "outputId": "85d0c2a7-de44-4102-a97a-e40bb12759fb"
      },
      "outputs": [],
      "source": [
        "365*24"
      ]
    },
    {
      "cell_type": "markdown",
      "metadata": {
        "id": "2Qt6wr-JEv3A"
      },
      "source": [
        "### Переменные\n",
        "\n",
        "Для запоминания каких-то промежуточных значений используют **переменные**. Например:"
      ]
    },
    {
      "cell_type": "code",
      "execution_count": null,
      "metadata": {
        "colab": {
          "base_uri": "https://localhost:8080/"
        },
        "id": "KDAOpMpeEm36",
        "outputId": "e2d8a0cd-cae9-4143-f117-be70cc6f4428"
      },
      "outputs": [],
      "source": [
        "seconds_in_a_day = 24*60*60\n",
        "print('Секунд в году: ',seconds_in_a_day*365)\n",
        "print('Миллион секунд в днях:',1000000/seconds_in_a_day)"
      ]
    },
    {
      "cell_type": "markdown",
      "metadata": {
        "id": "AmLPNZCoFEAx"
      },
      "source": [
        "Можно представлять себе, что переменная является своего рода корзиной, в которой могут храниться **значения** различных видов (называемые **типами**). Основные типы:\n",
        " * int (Целочисленные значения): 1,2,13, ...\n",
        " * float (Вещественные значения): 3.1415, 0.5\n",
        " * str (Строки): \"привет\"\n",
        "\n",
        "С переменными разных типов можно выполнять разные операции:"
      ]
    },
    {
      "cell_type": "code",
      "execution_count": null,
      "metadata": {
        "colab": {
          "base_uri": "https://localhost:8080/"
        },
        "id": "Uc05c9upE9Q9",
        "outputId": "db079601-0763-488f-801d-cc58af931faf"
      },
      "outputs": [],
      "source": [
        "name = \"Peter\"\n",
        "print(\"Hello, \"+name)"
      ]
    },
    {
      "cell_type": "markdown",
      "metadata": {
        "id": "EVnN7HezFXz3"
      },
      "source": [
        "В зависимости от типа операции будут выполняться по-разному:"
      ]
    },
    {
      "cell_type": "code",
      "execution_count": null,
      "metadata": {
        "colab": {
          "base_uri": "https://localhost:8080/"
        },
        "id": "J1fo3vV9FU8i",
        "outputId": "de178504-8610-4b13-e358-9c4da1ea2eea"
      },
      "outputs": [],
      "source": [
        "print(\"13\"+\"7\")\n",
        "print(13+7)"
      ]
    },
    {
      "cell_type": "markdown",
      "metadata": {
        "id": "_EwEygzvFecH"
      },
      "source": [
        "А что будет, если сложить строку и число?"
      ]
    },
    {
      "cell_type": "code",
      "execution_count": null,
      "metadata": {
        "colab": {
          "base_uri": "https://localhost:8080/",
          "height": 144
        },
        "id": "e-sqSD-KFbl4",
        "outputId": "7a8973cb-63f1-480b-9f4c-4c78bf45afbc"
      },
      "outputs": [],
      "source": [
        "\"Привет\"+7"
      ]
    },
    {
      "cell_type": "markdown",
      "metadata": {
        "id": "D6FXLnfyFmDo"
      },
      "source": [
        "Вы видите **сообщение об ошибке**. Если Python не может выполнить какую-то команду: он пишет об этом.\n",
        "\n",
        "## Библиотеки\n",
        "\n",
        "Основная мощь Python - это возможность подключать **библиотеки**, чтобы делать что-то интересно: от создания чат-ботов до компьютерных игр!\n",
        "\n",
        "Например, чтобы вычислять сложные математические выражения - подключаем библиотеку `math`"
      ]
    },
    {
      "cell_type": "code",
      "execution_count": null,
      "metadata": {
        "colab": {
          "base_uri": "https://localhost:8080/"
        },
        "id": "AgjTRW9cFiia",
        "outputId": "9eb9b648-33c0-429b-fe79-6d2e486fe962"
      },
      "outputs": [],
      "source": [
        "import math\n",
        "math.sin(math.pi/2)"
      ]
    },
    {
      "cell_type": "markdown",
      "metadata": {
        "id": "F6tBhpaXSlru"
      },
      "source": [
        "Или так:"
      ]
    },
    {
      "cell_type": "code",
      "execution_count": null,
      "metadata": {
        "colab": {
          "base_uri": "https://localhost:8080/"
        },
        "id": "g284GXi9Sd0R",
        "outputId": "4bedb425-ed20-48f6-9f90-e8a6bd4445c5"
      },
      "outputs": [],
      "source": [
        "from math import sin, pi\n",
        "sin(pi/2)"
      ]
    },
    {
      "cell_type": "markdown",
      "metadata": {
        "id": "GxMxzbGFSnma"
      },
      "source": [
        "Нестандартные библиотеки нужно сначала установить специальной командой `pip`. Например, чтобы работать с **черепашьей графикой**, установим библиотеку `jturtle`:"
      ]
    },
    {
      "cell_type": "code",
      "execution_count": null,
      "metadata": {
        "colab": {
          "base_uri": "https://localhost:8080/"
        },
        "id": "W17xzJQMSk88",
        "outputId": "9709a077-fa7a-4ebd-b5b8-0449468f2b25"
      },
      "outputs": [],
      "source": [
        "!pip install jturtle"
      ]
    },
    {
      "cell_type": "markdown",
      "metadata": {
        "id": "4xeun8kTTBoZ"
      },
      "source": [
        "### Черепашья Графика\n",
        "\n",
        "Библиотека, которую мы только что установили, позволяет нам использовать несколько простых команд рисования - так называемая **черепашья графика**. Эти команды управляют воображаемой *черепахой*, которая может перемещаться по экрану, поворачиваться и т.д., Оставляя след позади. Например, если я хочу нарисовать треугольник, я могу использовать следующие команды:"
      ]
    },
    {
      "cell_type": "code",
      "execution_count": null,
      "metadata": {
        "colab": {
          "base_uri": "https://localhost:8080/",
          "height": 406
        },
        "id": "wsfnLbckS8RR",
        "outputId": "6fadaf70-3153-41e3-a59f-8b4e5a379ed7"
      },
      "outputs": [],
      "source": [
        "import jturtle as turtle\n",
        "turtle.forward(100)\n",
        "turtle.right(120)\n",
        "turtle.forward(100)\n",
        "turtle.right(120)\n",
        "turtle.forward(100)\n",
        "turtle.right(120)\n",
        "turtle.done()"
      ]
    },
    {
      "cell_type": "markdown",
      "metadata": {
        "id": "9A7ZP7J9wSfy"
      },
      "source": [
        "## Циклы\n",
        "\n",
        "Для рисования треугольника нам нужно повторять одни и те же действия три раза. Чтобы не писать много раз одно и то же, существует специальная конструкция: **цикл**.\n",
        "\n",
        "Предположим, нам нужно поздравить всех наших друзей:"
      ]
    },
    {
      "cell_type": "code",
      "execution_count": null,
      "metadata": {
        "colab": {
          "base_uri": "https://localhost:8080/"
        },
        "id": "QiZY2PIQTJiL",
        "outputId": "31b7e8da-0cc0-4014-edf9-b7c5e2f27c75"
      },
      "outputs": [],
      "source": [
        "for friend in [\"Вася\", \"Петя\", \"Коля\"]:\n",
        "  print(\"Привет, \"+friend)"
      ]
    },
    {
      "cell_type": "markdown",
      "metadata": {
        "id": "H56sR2aqWlqJ"
      },
      "source": [
        "Перечисленные имена друзей в квадратных скобках называются **списком**. Конструкция `for` позволяет выполнить какие-то действия над каждым элементом списка.\n",
        "\n",
        "Обратите внимание на отступ! Он показывает, что именно будет выполняться несколько раз внутри цикла, а что - после. Например, попробуйте в следующем коде расставить отсупы по-разному:"
      ]
    },
    {
      "cell_type": "code",
      "execution_count": null,
      "metadata": {
        "colab": {
          "base_uri": "https://localhost:8080/"
        },
        "id": "OWY__j4dwl2j",
        "outputId": "61c26e76-1d3c-42d1-db85-1b8abc5934eb"
      },
      "outputs": [],
      "source": [
        "for friend in [\"Вася\", \"Петя\", \"Коля\"]:\n",
        "  print(\"Привет, \"+friend)\n",
        "print(\"Идём гулять!\")"
      ]
    },
    {
      "cell_type": "markdown",
      "metadata": {
        "id": "ipUuK5b-XI7r"
      },
      "source": [
        "С помощью цикла упростим рисование треугольника. Чтобы повторить код заданное число раз, вместо списка можно писать `range(n)`:"
      ]
    },
    {
      "cell_type": "code",
      "execution_count": null,
      "metadata": {
        "colab": {
          "base_uri": "https://localhost:8080/",
          "height": 406
        },
        "id": "456D-tJGXA2i",
        "outputId": "c5a34bdb-ebc3-499e-be33-545c7cd19e61"
      },
      "outputs": [],
      "source": [
        "for i in range(3):\n",
        "  turtle.forward(100)\n",
        "  turtle.right(120)\n",
        "\n",
        "turtle.done()"
      ]
    },
    {
      "cell_type": "markdown",
      "metadata": {
        "id": "Azq7N4WJXszO"
      },
      "source": [
        "**Задание**: Нарисуй какой-нибудь интересный узор с помощью циклов"
      ]
    },
    {
      "cell_type": "code",
      "execution_count": null,
      "metadata": {
        "id": "zmBm0mO2Xyhi"
      },
      "outputs": [],
      "source": [
        "# Решение"
      ]
    },
    {
      "cell_type": "markdown",
      "metadata": {
        "id": "WDq99V5HXfsT"
      },
      "source": [
        "## Вложенные циклы\n",
        "\n",
        "Предположим, мы хотим напечатать таблицу умножения. В этом случае нам нужно будет перебрать все числа от 1 до 9, и для каждого числа напечатать все варианты его умножения на все числа от 1 до 9. Для этого придётся один цикл повторять внутри другого"
      ]
    },
    {
      "cell_type": "code",
      "execution_count": null,
      "metadata": {
        "colab": {
          "base_uri": "https://localhost:8080/"
        },
        "id": "YjFx7V1qYOPL",
        "outputId": "edc5b5ba-649e-4d1d-9c6d-d05e0105b64e"
      },
      "outputs": [],
      "source": [
        "for a in range(1,10):\n",
        "  print(f\"Таблица умножения на {a}\")\n",
        "  for b in range(1,10):\n",
        "    print(f\"{b} * {a} = {b*a}\")"
      ]
    },
    {
      "cell_type": "markdown",
      "metadata": {
        "id": "sGZ3Ks98YiIn"
      },
      "source": [
        "Обратите внимание, как мы печатали значения переменных внутри строк! Это специальный приём, называемый **f-строки**.\n",
        "\n",
        "Можем попробовать напечатать более красивую компактную таблицу умножения:"
      ]
    },
    {
      "cell_type": "code",
      "execution_count": null,
      "metadata": {
        "colab": {
          "base_uri": "https://localhost:8080/"
        },
        "id": "CgwNSElYYu8O",
        "outputId": "288bade5-94d3-4d17-d7c7-54fb04ca6cb6"
      },
      "outputs": [],
      "source": [
        "for a in range(1,10):\n",
        "  for b in range(1,10):\n",
        "    print(f\"{b} * {a} = {b*a:2}  |  \",end='')\n",
        "  print()"
      ]
    },
    {
      "cell_type": "markdown",
      "metadata": {
        "id": "oIQh1a_NbkT1"
      },
      "source": [
        "Здесь мы используем хитрые приёмы:\n",
        "* Пишем `end=''`, чтобы операция print не переводила печать на другую строку\n",
        "* Используем **формат печати** `:2` - это значит, что число будет всегда занимать две позиции. Так таблица получается ровной.\n",
        "\n",
        "------\n",
        "\n",
        "**Задание**: Нарисуйте ещё что-то красивое с помощью вложенных циклов"
      ]
    },
    {
      "cell_type": "code",
      "execution_count": null,
      "metadata": {
        "id": "RIFWKJ0rbshi"
      },
      "outputs": [],
      "source": [
        "# Решение"
      ]
    },
    {
      "cell_type": "markdown",
      "metadata": {
        "id": "HEYgNsFWXaS6"
      },
      "source": [
        "\n",
        "## Функции\n",
        "\n",
        "Вернёмся к геометрическим фигурам. Предположим, мы хотим нарисовать домик. У него квадратная форма, треугольная крыша и квадратное окно. Чтобы не писать много раз код для рисования квадратов, мы можем описать **функцию** рисования многоугольника со стороной заданной длины `x`:"
      ]
    },
    {
      "cell_type": "code",
      "execution_count": null,
      "metadata": {
        "colab": {
          "base_uri": "https://localhost:8080/",
          "height": 406
        },
        "id": "3lTNApWvXTE8",
        "outputId": "742adaa3-7512-4109-b453-e1cba8252533"
      },
      "outputs": [],
      "source": [
        "def poly(x,n):\n",
        "  for i in range(n):\n",
        "    turtle.forward(x)\n",
        "    turtle.right(360/n)\n",
        "\n",
        "poly(100,6)\n",
        "turtle.done()"
      ]
    },
    {
      "cell_type": "markdown",
      "metadata": {
        "id": "7qP2iBVraVcW"
      },
      "source": [
        "Теперь, чтобы нарисовать домик, рисуем квадрат, а потом треугольник:"
      ]
    },
    {
      "cell_type": "code",
      "execution_count": null,
      "metadata": {
        "colab": {
          "base_uri": "https://localhost:8080/",
          "height": 406
        },
        "id": "BQARcwOoaOqU",
        "outputId": "cc03655c-013f-47c2-8134-406882b2014b"
      },
      "outputs": [],
      "source": [
        "poly(100,4)\n",
        "turtle.penup()\n",
        "turtle.forward(100)\n",
        "turtle.right(30)\n",
        "turtle.pendown()\n",
        "poly(100,3)\n",
        "turtle.done()"
      ]
    },
    {
      "cell_type": "markdown",
      "metadata": {
        "id": "Zklij6yga6sH"
      },
      "source": [
        "Здесь мы использовали функцию `penup` и `pendown` для поднятия и опускания пера. Попробуйте использовать эти функции, чтобы нарисовать внутри домика окно.\n",
        "\n",
        "## Условия\n",
        "\n",
        "Предположим, мы хотим нарисовать узор вот такого вида:\n",
        "\n"
      ]
    },
    {
      "cell_type": "code",
      "execution_count": null,
      "metadata": {
        "colab": {
          "base_uri": "https://localhost:8080/",
          "height": 406
        },
        "id": "mqSaWmlZaK9z",
        "outputId": "4afb5229-ff92-4105-eb30-9ef4dafef890"
      },
      "outputs": [],
      "source": [
        "turtle.right(90)\n",
        "for i in range(5):\n",
        "  turtle.forward(10)\n",
        "  turtle.left(90)\n",
        "  turtle.forward(10)\n",
        "  turtle.right(90)\n",
        "  turtle.forward(10)\n",
        "  turtle.right(90)\n",
        "  turtle.forward(10)\n",
        "  turtle.left(90)\n",
        "turtle.done()"
      ]
    },
    {
      "cell_type": "markdown",
      "metadata": {
        "id": "3jRX5IAsdr8H"
      },
      "source": [
        "Видим, что внутри цикла действия очень похожи, но отличаются лишь направлением поворота. Мы можем упростить этот код, добавив условие на направление поворота:"
      ]
    },
    {
      "cell_type": "code",
      "execution_count": null,
      "metadata": {
        "colab": {
          "base_uri": "https://localhost:8080/",
          "height": 406
        },
        "id": "v8D_HxdcdVKV",
        "outputId": "e0eefb1f-8147-4e7c-b19a-ae7b59d01f80"
      },
      "outputs": [],
      "source": [
        "turtle.right(90)\n",
        "for i in range(20):\n",
        "  turtle.forward(10)\n",
        "  if i%4==0 or i%4==3:\n",
        "    turtle.left(90)\n",
        "  else:\n",
        "    turtle.right(90)\n",
        "turtle.done()"
      ]
    },
    {
      "cell_type": "markdown",
      "metadata": {
        "id": "ML4JgXb2eCaq"
      },
      "source": [
        "Здесь `i%4` означает остаток от деления `i` на 4, т.е. это число, которое меняется в диапазоне от 0 до 3. Когда оно равно 0 или 3 - мы поворачиваем влево, в противном случае - вправо.\n",
        "\n",
        "## Красота программирования\n",
        "\n",
        "Программирование - удивительное занятие, потому что мы можем написать очень короткий код для рисования бесконечно сложных вещей. Попробуем, например, нарисовать **снежинку Коха**\n",
        "\n",
        "![](https://github.com/shwars/pycourse/blob/master/images/KochFlake.PNG?raw=true)"
      ]
    },
    {
      "cell_type": "code",
      "execution_count": null,
      "metadata": {
        "colab": {
          "base_uri": "https://localhost:8080/",
          "height": 406
        },
        "id": "9ddIgsnDd-1Z",
        "outputId": "2a400161-3dd1-4468-8c34-63e679353cfe"
      },
      "outputs": [],
      "source": [
        "def koch_curve(n,x):\n",
        "    if n==0:\n",
        "        turtle.forward(x)\n",
        "    else:\n",
        "        koch_curve(n-1,x/3)\n",
        "        turtle.left(60)\n",
        "        koch_curve(n-1,x/3)\n",
        "        turtle.right(120)\n",
        "        koch_curve(n-1,x/3)\n",
        "        turtle.left(60)\n",
        "        koch_curve(n-1,x/3)\n",
        "\n",
        "turtle.right(90)\n",
        "koch_curve(4,100)\n",
        "turtle.done()"
      ]
    },
    {
      "cell_type": "code",
      "execution_count": null,
      "metadata": {
        "colab": {
          "base_uri": "https://localhost:8080/",
          "height": 406
        },
        "id": "U59_BmG-gec5",
        "outputId": "9f298cf7-b66f-42ed-b5cc-9bbc5f165fd1"
      },
      "outputs": [],
      "source": [
        "def koch_snowflake(n,x):\n",
        "    for _ in range(3):\n",
        "        koch_curve(n,x)\n",
        "        turtle.right(120)\n",
        "\n",
        "koch_snowflake(3,100)\n",
        "turtle.done()"
      ]
    },
    {
      "cell_type": "markdown",
      "metadata": {
        "id": "uERvXhlWgsi-"
      },
      "source": [
        "## А как устроен анализ данных?\n",
        "\n",
        "Python очень часто используется для анализа данных! Данные часто организованы в **таблицы**. Для работы с таблицами используется библиотека Pandas.\n",
        "\n",
        "Рассмотрим пример. Все вы наверняка знаете историю с Титаником. Возьмём данные пассажиров Титаника:"
      ]
    },
    {
      "cell_type": "code",
      "execution_count": null,
      "metadata": {
        "colab": {
          "base_uri": "https://localhost:8080/",
          "height": 826
        },
        "id": "u3vj1jCtg9qe",
        "outputId": "f47325c1-0488-4834-8886-11c723cd7b63"
      },
      "outputs": [],
      "source": [
        "import pandas as pd\n",
        "\n",
        "df = pd.read_csv(\"https://storage.yandexcloud.net/mypub/data/ctitanic.csv\")\n",
        "df"
      ]
    },
    {
      "cell_type": "markdown",
      "metadata": {
        "id": "00pY9j5qK58q"
      },
      "source": [
        "Какова средняя вероятность выживания? Для этого посчитаем среднее значение колонки \"Survived\":"
      ]
    },
    {
      "cell_type": "code",
      "execution_count": null,
      "metadata": {
        "colab": {
          "base_uri": "https://localhost:8080/"
        },
        "id": "eK5XRwOjgoe1",
        "outputId": "408ce2d2-d58e-479c-b2d1-5a4a896d331a"
      },
      "outputs": [],
      "source": [
        "df['survived'].mean()"
      ]
    },
    {
      "cell_type": "markdown",
      "metadata": {
        "id": "VhhyR5QmLobX"
      },
      "source": [
        "Давайте поймём, кому было проще выжить: мужчинам или женщинам? Пропускали ли мужчины женщин вперёд, или сражались за свою жизнь?"
      ]
    },
    {
      "cell_type": "code",
      "execution_count": null,
      "metadata": {
        "colab": {
          "base_uri": "https://localhost:8080/",
          "height": 178
        },
        "id": "fvV_F9loigN-",
        "outputId": "8463b766-611f-4c83-f117-044bacd7d371"
      },
      "outputs": [],
      "source": [
        "df.groupby('gender')['survived'].mean()"
      ]
    },
    {
      "cell_type": "markdown",
      "metadata": {
        "id": "2Nv8CTiWMcjb"
      },
      "source": [
        "Можем построить это в виде графика:"
      ]
    },
    {
      "cell_type": "code",
      "execution_count": null,
      "metadata": {
        "colab": {
          "base_uri": "https://localhost:8080/",
          "height": 501
        },
        "id": "FEhageIkMetd",
        "outputId": "67975aa9-ead4-49df-8c9a-12205e4054c0"
      },
      "outputs": [],
      "source": [
        "df.groupby('gender')['survived'].mean().plot.bar()"
      ]
    },
    {
      "cell_type": "markdown",
      "metadata": {
        "id": "xkRUU2h4MR6t"
      },
      "source": [
        "**Задание**: Посмотрите, как меняется вероятность выживания в зависимости от класса пассажира?"
      ]
    },
    {
      "cell_type": "code",
      "execution_count": null,
      "metadata": {
        "id": "YY9IK5a0L0Zx"
      },
      "outputs": [],
      "source": [
        "# Решение"
      ]
    },
    {
      "cell_type": "markdown",
      "metadata": {
        "id": "5awZr2SvMuWu"
      },
      "source": [
        "А как понять, как влияет возраст? Можно построить **гистограмму**, для разных значений колонки **survived**:"
      ]
    },
    {
      "cell_type": "code",
      "execution_count": null,
      "metadata": {
        "colab": {
          "base_uri": "https://localhost:8080/",
          "height": 470
        },
        "id": "2NL9fGrTMZWo",
        "outputId": "19a0a742-f13c-4418-fdff-71e8122d46f2"
      },
      "outputs": [],
      "source": [
        "import seaborn as sns\n",
        "sns.histplot(df,x='age',kde=True,hue='survived')"
      ]
    },
    {
      "cell_type": "markdown",
      "metadata": {
        "id": "WvGpQP4OhAci"
      },
      "source": [
        "## Анализируем фото\n",
        "\n",
        "Теперь задействуем искусственный интеллект чтобы решить сложную задачу - понять, насколько дети счастливы в летних школах. Для этого возьмём фотографии с предыдущей школы:"
      ]
    },
    {
      "cell_type": "code",
      "execution_count": null,
      "metadata": {
        "colab": {
          "base_uri": "https://localhost:8080/"
        },
        "id": "sCNFajX0U3tL",
        "outputId": "7a80b97d-eadc-45e1-f73f-f65e2899b0e0"
      },
      "outputs": [],
      "source": [
        "!wget https://storage.yandexcloud.net/junpub/junling2024.zip\n",
        "!7za x junling2024.zip"
      ]
    },
    {
      "cell_type": "markdown",
      "metadata": {
        "id": "sNvnCjYbhiKA"
      },
      "source": [
        "Для работы с лицами на фото установим библиотеку `deepface`:"
      ]
    },
    {
      "cell_type": "code",
      "execution_count": null,
      "metadata": {
        "colab": {
          "base_uri": "https://localhost:8080/"
        },
        "id": "ncxOffsPhORs",
        "outputId": "6babe19c-30c4-45c0-836b-0804388a5037"
      },
      "outputs": [],
      "source": [
        "!pip install deepface"
      ]
    },
    {
      "cell_type": "markdown",
      "metadata": {
        "id": "dqLD8b73htie"
      },
      "source": [
        "Посмотрим, что можно извлечь из фото с помощью этой библиотеки:"
      ]
    },
    {
      "cell_type": "code",
      "execution_count": null,
      "metadata": {
        "colab": {
          "base_uri": "https://localhost:8080/"
        },
        "id": "GWpwtJZDhoER",
        "outputId": "c03ab790-ba02-4b6e-d58f-2a7b8812311b"
      },
      "outputs": [],
      "source": [
        "from deepface import DeepFace\n",
        "DeepFace.analyze('images/img_0000.jpg')"
      ]
    },
    {
      "cell_type": "markdown",
      "metadata": {
        "id": "9P6zKEwJsWYI"
      },
      "source": [
        "Теперь обработаем все фотографии. На стадартном Google Colab это будет выполняться очень долго."
      ]
    },
    {
      "cell_type": "code",
      "execution_count": null,
      "metadata": {
        "id": "YomY5_ynh2bZ"
      },
      "outputs": [],
      "source": [
        "from tqdm.auto import tqdm\n",
        "from glob import glob\n",
        "res = []\n",
        "for fn in tqdm(glob('images/*')):\n",
        "  try:\n",
        "    z = DeepFace.analyze(fn,silent=True)\n",
        "  except ValueError:\n",
        "    z = []\n",
        "  for f in z:\n",
        "    t = {\n",
        "        \"gender\" : f['dominant_gender'],\n",
        "        \"age\" : f['age'],\n",
        "        \"confidence\" : f['face_confidence']\n",
        "    }\n",
        "    for k,v in f['emotion'].items():\n",
        "      t[k] = v\n",
        "    res.append(t)"
      ]
    },
    {
      "cell_type": "markdown",
      "metadata": {
        "id": "pWV0ri7asfp8"
      },
      "source": [
        "Чтобы не ждать ответа, загрузим уже готовые данные:"
      ]
    },
    {
      "cell_type": "code",
      "execution_count": null,
      "metadata": {
        "colab": {
          "base_uri": "https://localhost:8080/",
          "height": 444
        },
        "id": "278mfBJQjkYV",
        "outputId": "41523ddf-e574-4a4f-f757-d5873e2b2b72"
      },
      "outputs": [],
      "source": [
        "import pandas as pd\n",
        "df = pd.read_csv(\"https://storage.yandexcloud.net/junpub/junling2024.csv\")\n",
        "df"
      ]
    },
    {
      "cell_type": "markdown",
      "metadata": {
        "id": "XtO3q0xeuC_0"
      },
      "source": [
        "Посмотрим на возраст участников"
      ]
    },
    {
      "cell_type": "code",
      "execution_count": null,
      "metadata": {
        "colab": {
          "base_uri": "https://localhost:8080/",
          "height": 467
        },
        "id": "WIt-NJSIrxCI",
        "outputId": "8afa3e10-1abd-4352-f1c4-23f139608792"
      },
      "outputs": [],
      "source": [
        "sns.histplot(df,x='age',kde=True)"
      ]
    },
    {
      "cell_type": "markdown",
      "metadata": {
        "id": "D6PrWieZuGDf"
      },
      "source": [
        "Давайте ответим на интересный вопрос: кто счастливее, мужчины или женщины?"
      ]
    },
    {
      "cell_type": "code",
      "execution_count": null,
      "metadata": {
        "colab": {
          "base_uri": "https://localhost:8080/",
          "height": 506
        },
        "id": "GNcSuQNvsuAp",
        "outputId": "b7695646-7b6c-4d65-b7e9-50c2663d8b49"
      },
      "outputs": [],
      "source": [
        "df.groupby('gender')['happy'].mean().plot.bar()"
      ]
    },
    {
      "cell_type": "markdown",
      "metadata": {
        "id": "QmX86piluRV0"
      },
      "source": [
        "А как уровень счастья зависит от возраста?"
      ]
    },
    {
      "cell_type": "code",
      "execution_count": null,
      "metadata": {
        "colab": {
          "base_uri": "https://localhost:8080/",
          "height": 473
        },
        "id": "2Exa38ZGtu9A",
        "outputId": "cb781b72-3b70-4468-8489-c3eda37b495a"
      },
      "outputs": [],
      "source": [
        "df['agegroup'] = df['age'] // 10 * 10\n",
        "df.groupby('agegroup')['happy'].mean().plot.bar()"
      ]
    },
    {
      "cell_type": "markdown",
      "metadata": {
        "id": "h-WHOh6HwZAD"
      },
      "source": [
        "А каких эмоций больше?"
      ]
    },
    {
      "cell_type": "code",
      "execution_count": null,
      "metadata": {
        "colab": {
          "base_uri": "https://localhost:8080/",
          "height": 304
        },
        "id": "1OFeBmTCud_X",
        "outputId": "09262cec-7a87-45f5-8fad-3240e5c7effb"
      },
      "outputs": [],
      "source": [
        "import numpy as np\n",
        "\n",
        "emotions = ['angry','disgust','fear','happy','sad','surprise','neutral']\n",
        "df[emotions].apply(lambda x:emotions[x.argmax()],axis=1).value_counts()\n"
      ]
    },
    {
      "cell_type": "markdown",
      "metadata": {
        "id": "Kw2oLMbTxUCx"
      },
      "source": [
        "## Выводы\n",
        "\n",
        "Мы познакомились с языком Python. Он позволяет:\n",
        "* Легко проводить вычисления прямо в интернет\n",
        "* Рисовать бесконечно сложные узоры с помощью коротких фрагментов кода\n",
        "* Анализировать данные и строить графики\n",
        "* Работать с искусственным интеллектом"
      ]
    }
  ],
  "metadata": {
    "colab": {
      "provenance": []
    },
    "kernelspec": {
      "display_name": "Python 3",
      "name": "python3"
    },
    "language_info": {
      "name": "python"
    }
  },
  "nbformat": 4,
  "nbformat_minor": 0
}
