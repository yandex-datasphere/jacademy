{
 "cells": [
  {
   "cell_type": "code",
   "execution_count": 1,
   "id": "218729ad",
   "metadata": {},
   "outputs": [],
   "source": [
    "from yandex_cloud_ml_sdk import YCloudML\n",
    "import os\n",
    "\n",
    "folder_id = os.environ[\"folder_id\"]\n",
    "api_key = os.environ[\"api_key\"]\n",
    "sdk = YCloudML(folder_id=folder_id, auth=api_key)\n",
    "model = sdk.models.completions(\"yandexgpt\", model_version=\"rc\")"
   ]
  },
  {
   "cell_type": "code",
   "execution_count": 11,
   "id": "64e737be",
   "metadata": {},
   "outputs": [],
   "source": [
    "l = [\n",
    "    ('overall.txt','О лагере','Основные сведения о лагере: где дети живут, какие есть корпуса (бассейн, спортзал, учебный корпус), кто преподаватели, чему лагерь научит за лето'),\n",
    "    ('schedule.txt','Расписание','Расписание основных активностей лагеря'),\n",
    "    ('food.txt','Питание','Питание в лагере: что едят дети, есть ли возможность выбора блюд, какие блюда подаются на завтрак, обед, полдник, ужин'),\n",
    "    ('price.txt','Стоимость','Стоимость проживания в лагере, варианты поехать на 1,2 или 3 смены, даты смен'),\n",
    "    ('rules.txt','Правила','Правила лагеря: правила поведения детей, запрещенные действия, правила безопасности, правила для взрослых'),\n",
    "    ('lessons.txt','Кружки','Кружки и занятия в лагере: чем можно заняться, есть ли возможность выбрать дополнительные занятия'),\n",
    "    ('sport.txt','Спорт','Спортивные занятия в лагере: какие виды спорта проводят, есть ли спортзал или бассейн, как часто проводят занятия'),\n",
    "    ('teachers.txt','Преподаватели','Преподаватели лагеря: кто они, чем занимаются, какие курсы проводят'),\n",
    "    ('emergency.txt','Экстренные ситуации','Как реагировать на экстренные ситуации, где находятся спасательные средства, медпункт, как вызвать спасательную службу'),\n",
    "]"
   ]
  },
  {
   "cell_type": "code",
   "execution_count": 12,
   "id": "ac08a9c3",
   "metadata": {},
   "outputs": [],
   "source": [
    "sys_prompt = \"\"\"\n",
    "Ты - редактор, задача которого - написать тексты к буклету про детский лагерь \"Компьютик\". Он расположен\n",
    "под городом Тверь на берегу реки, и оборудован хорошими спальными номерами, в которых дети живут по 2-3 человека\n",
    "в номере. Твоя задача - описывать как можно более подробно разные аспекты жизни в лагере, ориентируясь на\n",
    "ребенка 8-10 лет. Пиши простым и понятным языком, избегай формализмов.\n",
    "Придумывай как можно больше подробностей от себя, включая даты смен в 2025 году, стоимость смен,\n",
    "конкретное время активностей в течение дня, названия кружков и фамилии и регалии преподавателей. Используй \n",
    "markdown для форматирования, включая таблицы при необходимости.\n",
    "\"\"\"\n",
    "\n",
    "hist = [\n",
    "    {\n",
    "            \"role\" : \"system\", \"text\" : sys_prompt\n",
    "    }\n",
    "]"
   ]
  },
  {
   "cell_type": "code",
   "execution_count": 13,
   "id": "f1e869d4",
   "metadata": {},
   "outputs": [
    {
     "name": "stdout",
     "output_type": "stream",
     "text": [
      "Generating: О лагере\n",
      "Generating: Расписание\n",
      "Generating: Питание\n",
      "Generating: Стоимость\n",
      "Generating: Правила\n",
      "Generating: Кружки\n",
      "Generating: Спорт\n",
      "Generating: Преподаватели\n",
      "Generating: Экстренные ситуации\n"
     ]
    }
   ],
   "source": [
    "for file_name, name, descr in l:\n",
    "    msg = f\"Опиши следующий аспект жизни в лагере {name}. Не забудь упомянуть: {descr}. Обращай внимание на предыдущую переписку. Пиши как можно более подробно.\"\n",
    "    print(f\"Generating: {name}\")\n",
    "    hist.append({\"role\": \"user\", \"text\": msg})\n",
    "    res = model.run(hist)\n",
    "    hist.append({\"role\": \"assistant\", \"text\": res.text})\n",
    "    with open(file_name, \"w\", encoding='utf-8') as f:\n",
    "        f.write(res.text)\n"
   ]
  },
  {
   "cell_type": "code",
   "execution_count": null,
   "id": "a52ca7b4",
   "metadata": {},
   "outputs": [],
   "source": []
  }
 ],
 "metadata": {
  "kernelspec": {
   "display_name": "fresh",
   "language": "python",
   "name": "python3"
  },
  "language_info": {
   "codemirror_mode": {
    "name": "ipython",
    "version": 3
   },
   "file_extension": ".py",
   "mimetype": "text/x-python",
   "name": "python",
   "nbconvert_exporter": "python",
   "pygments_lexer": "ipython3",
   "version": "3.10.13"
  }
 },
 "nbformat": 4,
 "nbformat_minor": 5
}
