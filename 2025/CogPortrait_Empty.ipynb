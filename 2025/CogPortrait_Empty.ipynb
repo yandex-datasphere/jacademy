{
  "cells": [
    {
      "cell_type": "markdown",
      "metadata": {
        "id": "snGqpEf9Fug0"
      },
      "source": [
        "# Создаём свой когнитивный портрет\n",
        "\n",
        "Привет! Сейчас мы погрузимся в мир **Science Art**, где наука -- а именно **искусственный интеллект** -- поможет нам создавать произведения искусства! А именно, мы познакомимся с техникой [когнитивного портрета](http://bit.do/peopleblending).\n",
        "\n",
        "<img src=\"https://soshnikov.com/images/art/PhoBoGuy.png\" width=\"30%\"/>\n",
        "\n",
        "В этой технике мы используем **нейросеть** для выделения ключевых точек лица на серии фотографий, с последующим поворотом и масштабированием фотографий таким образом, чтобы глаза и рот на всех снимках совпадали. Совмещая такие снимки, мы получаем интересный визуальный эффект. \n",
        "\n"
      ]
    },
    {
      "cell_type": "markdown",
      "metadata": {
        "id": "mSHxV_xyrB0M"
      },
      "source": [
        "## Загружаем фотографии\n",
        "\n",
        "Для экспериментов нам потребуется несколько изображений. Поместите изображения в директорию `images`. В демонстрационных целях я буду использовать набор фотографий, который скачаю в следующей ячейке. Если же в хотите нарисовать свой портрет - то загрузите туда свои изобажения"
      ]
    },
    {
      "cell_type": "code",
      "execution_count": null,
      "metadata": {
        "colab": {
          "base_uri": "https://localhost:8080/"
        },
        "id": "6BOfUi-MrBNr",
        "outputId": "5a078f25-8c37-4abd-b20f-db7ec4e8a947"
      },
      "outputs": [],
      "source": [
        "!wget http://www.soshnikov.com/permanent/data/dsh-images.zip\n",
        "!unzip dsh-images.zip"
      ]
    },
    {
      "cell_type": "markdown",
      "metadata": {},
      "source": [
        "Далее скачиваем и импортируем все необходимые библиотеки:"
      ]
    },
    {
      "cell_type": "code",
      "execution_count": null,
      "metadata": {},
      "outputs": [],
      "source": [
        "!wget https://raw.githubusercontent.com/yandex-datasphere/jacademy/refs/heads/main/2025/jlib.py"
      ]
    },
    {
      "cell_type": "code",
      "execution_count": null,
      "metadata": {
        "id": "T-MORAMlFuhE",
        "trusted": true
      },
      "outputs": [],
      "source": [
        "from jlib import *"
      ]
    },
    {
      "cell_type": "markdown",
      "metadata": {},
      "source": [
        "Можем посмотреть, как выглядят наши фотографии:"
      ]
    },
    {
      "cell_type": "code",
      "execution_count": null,
      "metadata": {},
      "outputs": [],
      "source": [
        "photos = [load_image(x) for x in sample_files(\"images/*.*\")]\n",
        "display_images(photos)"
      ]
    },
    {
      "cell_type": "markdown",
      "metadata": {
        "id": "fVuE-h8YTRqs"
      },
      "source": [
        "## Обнаруживаем лица на фотографии\n",
        "\n",
        "Для начала, научимся находить лица на фотографии:"
      ]
    },
    {
      "cell_type": "code",
      "execution_count": null,
      "metadata": {
        "colab": {
          "base_uri": "https://localhost:8080/",
          "height": 286
        },
        "id": "DzNBmYNgTQE7",
        "outputId": "8d6677ec-38bf-47b2-bbc6-ca02fbe7fb34"
      },
      "outputs": [],
      "source": [
        "img = load_image(sample_file(\"images/*.*\"))\n",
        "display_images(img)"
      ]
    },
    {
      "cell_type": "markdown",
      "metadata": {},
      "source": [
        "Находим лица:"
      ]
    },
    {
      "cell_type": "code",
      "execution_count": null,
      "metadata": {
        "colab": {
          "base_uri": "https://localhost:8080/",
          "height": 286
        },
        "id": "rXEsDbwLUFUV",
        "outputId": "f23ac189-9f56-48f7-ba25-b85435dbb547"
      },
      "outputs": [],
      "source": [
        "faces = detect_faces(img)\n",
        "print(f\"Найдено {len(faces)} лиц\")\n",
        "plot_face(img,faces)"
      ]
    },
    {
      "cell_type": "markdown",
      "metadata": {
        "id": "EBjZ8hFHFuhF"
      },
      "source": [
        "### Извлекаем опорные точки лица\n",
        "\n",
        "Далее мы выбираем какое-то лицо на фотографии и извлекаем для него **опорные точки**."
      ]
    },
    {
      "cell_type": "code",
      "execution_count": null,
      "metadata": {
        "colab": {
          "base_uri": "https://localhost:8080/",
          "height": 269
        },
        "id": "puxLoKnnWJKg",
        "outputId": "4652a425-df3a-43fd-cd71-d017baf22c78"
      },
      "outputs": [],
      "source": [
        "pts = detect_keypoints(img,faces[0])\n",
        "\n",
        "plot_face(img,faces,pts)"
      ]
    },
    {
      "cell_type": "markdown",
      "metadata": {
        "id": "Qa4-A7OL_egD"
      },
      "source": [
        "### Обработка фотографий\n",
        "\n",
        "Теперь мы пройдёмся по всем изображениям в нашей директории и извлечём из них опорные точки. Если на фотографии найдено несколько лиц - будем брать первое из них. Если лиц не найдено - будем эту фотографию игнорировать."
      ]
    },
    {
      "cell_type": "code",
      "execution_count": null,
      "metadata": {
        "colab": {
          "base_uri": "https://localhost:8080/"
        },
        "id": "_-UT1ZNVFuhJ",
        "outputId": "9f91e4cd-cbdd-4054-add6-06a9d8e745f4",
        "trusted": true
      },
      "outputs": [],
      "source": [
        "from glob import glob\n",
        "\n",
        "images = []\n",
        "imagepoints = []\n",
        "\n",
        "for fn in glob(\"images/*\"):\n",
        "    print(f\"Обрабатываю картинку {fn}..\",end='')\n",
        "    try:\n",
        "      img = load_image(fn)\n",
        "      faces = detect_faces(img)\n",
        "      print(f' найдено {len(faces)} лиц')\n",
        "      if len(faces)>0:\n",
        "          images.append(img)\n",
        "          imagepoints.append(detect_keypoints(img,faces[0]))\n",
        "    except:\n",
        "      print('ошибка')"
      ]
    },
    {
      "cell_type": "markdown",
      "metadata": {
        "id": "xBYlWNHDFuhK"
      },
      "source": [
        "**Важно**: Если вдруг вы увидите сообщение **ОШИБКА**, это означает, фотография не смогла быть загружена, или возникла какая-то другая проблема. Такая фотография будет проигнорирована. Если несколько картинок оказались с ошибкой - не беда, главное, чтобы какое-то количество лиц было найдено!"
      ]
    },
    {
      "cell_type": "markdown",
      "metadata": {
        "id": "eqAsb1wtFuhK"
      },
      "source": [
        "Посмотрим на несколько загруженных нами изображений:"
      ]
    },
    {
      "cell_type": "code",
      "execution_count": null,
      "metadata": {
        "colab": {
          "base_uri": "https://localhost:8080/",
          "height": 363
        },
        "id": "c27zm2dcFuhK",
        "outputId": "b17e5525-d27e-4fc1-dc0a-9320b7ffab51",
        "trusted": true
      },
      "outputs": [],
      "source": [
        "display_images(images[:5])"
      ]
    },
    {
      "cell_type": "markdown",
      "metadata": {
        "id": "RMFc3RgcFuhL"
      },
      "source": [
        "## Преобразования изображений\n",
        "\n",
        "Чтобы выровнять все изображения по глазам, нам необходимо повернуть и масштабировать их. Для этого используем функцию `transform_image`, куда передаём координаты опорных точек, размер целевого изображения, и координаты глаз и середины рта на изображении.\n",
        "\n",
        "Будем ориентироваться на размер финального изображения $300\\times300$ точек, тогда для координат глаз выберем точки $(130,120)$ и $(170,120)$. "
      ]
    },
    {
      "cell_type": "code",
      "execution_count": null,
      "metadata": {
        "id": "1vRZa5tkFuhL",
        "trusted": true
      },
      "outputs": [],
      "source": [
        "size = 600\n",
        "\n",
        "target_triangle = [\n",
        "    [130.0/300*size,120.0/300*size],\n",
        "    [170.0/300*size,120.0/300*size],\n",
        "    [150.0/300*size,160.0/300*size]]\n",
        "\n",
        "img_aligned = [transform_image(i,a,size,target_triangle) for i,a in zip(images,imagepoints)]\n",
        "display_images(img_aligned[:5])"
      ]
    },
    {
      "cell_type": "markdown",
      "metadata": {
        "id": "GYu7nWm4FuhM"
      },
      "source": [
        "## Смешивание изображений\n",
        "\n",
        "Для получения результата нам осталось смешать все эти изображения:"
      ]
    },
    {
      "cell_type": "code",
      "execution_count": null,
      "metadata": {
        "colab": {
          "base_uri": "https://localhost:8080/",
          "height": 405
        },
        "id": "xgFsuYkpFuhM",
        "outputId": "58fc16b1-d5c5-43b8-afc5-22c47f29f61a",
        "trusted": true
      },
      "outputs": [],
      "source": [
        "res = merge(img_aligned)\n",
        "display_images(res)"
      ]
    },
    {
      "cell_type": "markdown",
      "metadata": {
        "id": "D6nPo6n3FuhN"
      },
      "source": [
        "Получившийся результат можно записать:"
      ]
    },
    {
      "cell_type": "code",
      "execution_count": null,
      "metadata": {
        "colab": {
          "base_uri": "https://localhost:8080/",
          "height": 286
        },
        "id": "bYHU3PjUFuhN",
        "outputId": "3fb9a8c7-5ce5-4532-a792-c58a49aed58c",
        "trusted": true
      },
      "outputs": [],
      "source": [
        "save_image(res,'result.jpg')"
      ]
    },
    {
      "cell_type": "markdown",
      "metadata": {},
      "source": [
        "## Выводы\n",
        "\n",
        "Python позволяет легко работать с изображениями и с нейросетями. Это позволяет нам решать сложные задачи несколькими строчками кода!"
      ]
    }
  ],
  "metadata": {
    "colab": {
      "collapsed_sections": [],
      "name": "CognitivePortraitWorkshop.ipynb",
      "provenance": []
    },
    "kernelspec": {
      "display_name": "temp",
      "language": "python",
      "name": "python3"
    },
    "language_info": {
      "codemirror_mode": {
        "name": "ipython",
        "version": 3
      },
      "file_extension": ".py",
      "mimetype": "text/x-python",
      "name": "python",
      "nbconvert_exporter": "python",
      "pygments_lexer": "ipython3",
      "version": "3.9.12"
    }
  },
  "nbformat": 4,
  "nbformat_minor": 0
}
