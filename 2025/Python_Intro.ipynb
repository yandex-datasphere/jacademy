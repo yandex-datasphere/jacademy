{
  "nbformat": 4,
  "nbformat_minor": 0,
  "metadata": {
    "colab": {
      "provenance": []
    },
    "kernelspec": {
      "name": "python3",
      "display_name": "Python 3"
    },
    "language_info": {
      "name": "python"
    }
  },
  "cells": [
    {
      "cell_type": "markdown",
      "source": [
        "## Учимся Python!\n",
        "\n",
        "Написать самую простую программу на Python очень просто:"
      ],
      "metadata": {
        "id": "BDhtP1bhCK63"
      }
    },
    {
      "cell_type": "code",
      "source": [
        "print(\"Hello, human!\")"
      ],
      "metadata": {
        "colab": {
          "base_uri": "https://localhost:8080/"
        },
        "id": "-kjtWEs_GtB7",
        "outputId": "09ac44b1-1f9e-46f4-faf5-0ec78a7c86f9"
      },
      "execution_count": 3,
      "outputs": [
        {
          "output_type": "stream",
          "name": "stdout",
          "text": [
            "Hello, human!\n"
          ]
        }
      ]
    },
    {
      "cell_type": "markdown",
      "source": [
        "Мы можем не писать `print`, если код в ячейке содержит несколько простых операций. Например, посчитаем число часов в году:"
      ],
      "metadata": {
        "id": "VdIA_ovmEbXL"
      }
    },
    {
      "cell_type": "code",
      "source": [
        "365*24"
      ],
      "metadata": {
        "colab": {
          "base_uri": "https://localhost:8080/"
        },
        "id": "nksO17pfCTz_",
        "outputId": "85d0c2a7-de44-4102-a97a-e40bb12759fb"
      },
      "execution_count": 4,
      "outputs": [
        {
          "output_type": "execute_result",
          "data": {
            "text/plain": [
              "8760"
            ]
          },
          "metadata": {},
          "execution_count": 4
        }
      ]
    },
    {
      "cell_type": "markdown",
      "source": [
        "### Переменные\n",
        "\n",
        "Для запоминания каких-то промежуточных значений используют **переменные**. Например:"
      ],
      "metadata": {
        "id": "2Qt6wr-JEv3A"
      }
    },
    {
      "cell_type": "code",
      "source": [
        "seconds_in_a_day = 24*60*60\n",
        "print('Секунд в году: ',seconds_in_a_day*365)\n",
        "print('Миллион секунд в днях:',1000000/seconds_in_a_day)"
      ],
      "metadata": {
        "colab": {
          "base_uri": "https://localhost:8080/"
        },
        "id": "KDAOpMpeEm36",
        "outputId": "e2d8a0cd-cae9-4143-f117-be70cc6f4428"
      },
      "execution_count": 5,
      "outputs": [
        {
          "output_type": "stream",
          "name": "stdout",
          "text": [
            "Секунд в году:  31536000\n",
            "Миллион секунд в днях: 11.574074074074074\n"
          ]
        }
      ]
    },
    {
      "cell_type": "markdown",
      "source": [
        "Можно представлять себе, что переменная является своего рода корзиной, в которой могут храниться **значения** различных видов (называемые **типами**). Основные типы:\n",
        " * int (Целочисленные значения): 1,2,13, ...\n",
        " * float (Вещественные значения): 3.1415, 0.5\n",
        " * str (Строки): \"привет\"\n",
        "\n",
        "С переменными разных типов можно выполнять разные операции:"
      ],
      "metadata": {
        "id": "AmLPNZCoFEAx"
      }
    },
    {
      "cell_type": "code",
      "source": [
        "name = \"Peter\"\n",
        "print(\"Hello, \"+name)"
      ],
      "metadata": {
        "colab": {
          "base_uri": "https://localhost:8080/"
        },
        "id": "Uc05c9upE9Q9",
        "outputId": "db079601-0763-488f-801d-cc58af931faf"
      },
      "execution_count": 6,
      "outputs": [
        {
          "output_type": "stream",
          "name": "stdout",
          "text": [
            "Hello, Peter\n"
          ]
        }
      ]
    },
    {
      "cell_type": "markdown",
      "source": [
        "В зависимости от типа операции будут выполняться по-разному:"
      ],
      "metadata": {
        "id": "EVnN7HezFXz3"
      }
    },
    {
      "cell_type": "code",
      "source": [
        "print(\"13\"+\"7\")\n",
        "print(13+7)"
      ],
      "metadata": {
        "colab": {
          "base_uri": "https://localhost:8080/"
        },
        "id": "J1fo3vV9FU8i",
        "outputId": "de178504-8610-4b13-e358-9c4da1ea2eea"
      },
      "execution_count": 7,
      "outputs": [
        {
          "output_type": "stream",
          "name": "stdout",
          "text": [
            "137\n",
            "20\n"
          ]
        }
      ]
    },
    {
      "cell_type": "markdown",
      "source": [
        "А что будет, если сложить строку и число?"
      ],
      "metadata": {
        "id": "_EwEygzvFecH"
      }
    },
    {
      "cell_type": "code",
      "source": [
        "\"Привет\"+7"
      ],
      "metadata": {
        "colab": {
          "base_uri": "https://localhost:8080/",
          "height": 144
        },
        "id": "e-sqSD-KFbl4",
        "outputId": "7a8973cb-63f1-480b-9f4c-4c78bf45afbc"
      },
      "execution_count": 8,
      "outputs": [
        {
          "output_type": "error",
          "ename": "TypeError",
          "evalue": "can only concatenate str (not \"int\") to str",
          "traceback": [
            "\u001b[0;31m---------------------------------------------------------------------------\u001b[0m",
            "\u001b[0;31mTypeError\u001b[0m                                 Traceback (most recent call last)",
            "\u001b[0;32m<ipython-input-8-d4d7eec75642>\u001b[0m in \u001b[0;36m<cell line: 0>\u001b[0;34m()\u001b[0m\n\u001b[0;32m----> 1\u001b[0;31m \u001b[0;34m\"Привет\"\u001b[0m\u001b[0;34m+\u001b[0m\u001b[0;36m7\u001b[0m\u001b[0;34m\u001b[0m\u001b[0;34m\u001b[0m\u001b[0m\n\u001b[0m",
            "\u001b[0;31mTypeError\u001b[0m: can only concatenate str (not \"int\") to str"
          ]
        }
      ]
    },
    {
      "cell_type": "markdown",
      "source": [
        "Вы видите **сообщение об ошибке**. Если Python не может выполнить какую-то команду: он пишет об этом.\n",
        "\n",
        "## Библиотеки\n",
        "\n",
        "Основная мощь Python - это возможность подключать **библиотеки**, чтобы делать что-то интересно: от создания чат-ботов до компьютерных игр!\n",
        "\n",
        "Например, чтобы вычислять сложные математические выражения - подключаем библиотеку `math`"
      ],
      "metadata": {
        "id": "D6FXLnfyFmDo"
      }
    },
    {
      "cell_type": "code",
      "source": [
        "import math\n",
        "math.sin(math.pi/2)"
      ],
      "metadata": {
        "colab": {
          "base_uri": "https://localhost:8080/"
        },
        "id": "AgjTRW9cFiia",
        "outputId": "9eb9b648-33c0-429b-fe79-6d2e486fe962"
      },
      "execution_count": 9,
      "outputs": [
        {
          "output_type": "execute_result",
          "data": {
            "text/plain": [
              "1.0"
            ]
          },
          "metadata": {},
          "execution_count": 9
        }
      ]
    },
    {
      "cell_type": "markdown",
      "source": [
        "Или так:"
      ],
      "metadata": {
        "id": "F6tBhpaXSlru"
      }
    },
    {
      "cell_type": "code",
      "source": [
        "from math import sin, pi\n",
        "sin(pi/2)"
      ],
      "metadata": {
        "colab": {
          "base_uri": "https://localhost:8080/"
        },
        "id": "g284GXi9Sd0R",
        "outputId": "4bedb425-ed20-48f6-9f90-e8a6bd4445c5"
      },
      "execution_count": 10,
      "outputs": [
        {
          "output_type": "execute_result",
          "data": {
            "text/plain": [
              "1.0"
            ]
          },
          "metadata": {},
          "execution_count": 10
        }
      ]
    },
    {
      "cell_type": "markdown",
      "source": [
        "Нестандартные библиотеки нужно сначала установить специальной командой `pip`. Например, чтобы работать с **черепашьей графикой**, установим библиотеку `jturtle`:"
      ],
      "metadata": {
        "id": "GxMxzbGFSnma"
      }
    },
    {
      "cell_type": "code",
      "source": [
        "!pip install jturtle"
      ],
      "metadata": {
        "colab": {
          "base_uri": "https://localhost:8080/"
        },
        "id": "W17xzJQMSk88",
        "outputId": "9709a077-fa7a-4ebd-b5b8-0449468f2b25"
      },
      "execution_count": 11,
      "outputs": [
        {
          "output_type": "stream",
          "name": "stdout",
          "text": [
            "Collecting jturtle\n",
            "  Downloading jturtle-0.0.4.tar.gz (3.8 kB)\n",
            "  Preparing metadata (setup.py) ... \u001b[?25l\u001b[?25hdone\n",
            "Requirement already satisfied: matplotlib in /usr/local/lib/python3.11/dist-packages (from jturtle) (3.10.0)\n",
            "Requirement already satisfied: contourpy>=1.0.1 in /usr/local/lib/python3.11/dist-packages (from matplotlib->jturtle) (1.3.2)\n",
            "Requirement already satisfied: cycler>=0.10 in /usr/local/lib/python3.11/dist-packages (from matplotlib->jturtle) (0.12.1)\n",
            "Requirement already satisfied: fonttools>=4.22.0 in /usr/local/lib/python3.11/dist-packages (from matplotlib->jturtle) (4.58.1)\n",
            "Requirement already satisfied: kiwisolver>=1.3.1 in /usr/local/lib/python3.11/dist-packages (from matplotlib->jturtle) (1.4.8)\n",
            "Requirement already satisfied: numpy>=1.23 in /usr/local/lib/python3.11/dist-packages (from matplotlib->jturtle) (2.0.2)\n",
            "Requirement already satisfied: packaging>=20.0 in /usr/local/lib/python3.11/dist-packages (from matplotlib->jturtle) (24.2)\n",
            "Requirement already satisfied: pillow>=8 in /usr/local/lib/python3.11/dist-packages (from matplotlib->jturtle) (11.2.1)\n",
            "Requirement already satisfied: pyparsing>=2.3.1 in /usr/local/lib/python3.11/dist-packages (from matplotlib->jturtle) (3.2.3)\n",
            "Requirement already satisfied: python-dateutil>=2.7 in /usr/local/lib/python3.11/dist-packages (from matplotlib->jturtle) (2.9.0.post0)\n",
            "Requirement already satisfied: six>=1.5 in /usr/local/lib/python3.11/dist-packages (from python-dateutil>=2.7->matplotlib->jturtle) (1.17.0)\n",
            "Building wheels for collected packages: jturtle\n",
            "  Building wheel for jturtle (setup.py) ... \u001b[?25l\u001b[?25hdone\n",
            "  Created wheel for jturtle: filename=jturtle-0.0.4-py3-none-any.whl size=4129 sha256=34e4df02306c8841db9a219dce516813e636fbc336dc8b3d93d6b3c22c38b7b3\n",
            "  Stored in directory: /root/.cache/pip/wheels/62/bd/22/bb8e179a43d10ecfff1934b5b9251d9e151e64e2442d074daf\n",
            "Successfully built jturtle\n",
            "Installing collected packages: jturtle\n",
            "Successfully installed jturtle-0.0.4\n"
          ]
        }
      ]
    },
    {
      "cell_type": "markdown",
      "source": [
        "### Черепашья Графика\n",
        "\n",
        "Библиотека, которую мы только что установили, позволяет нам использовать несколько простых команд рисования - так называемая **черепашья графика**. Эти команды управляют воображаемой *черепахой*, которая может перемещаться по экрану, поворачиваться и т.д., Оставляя след позади. Например, если я хочу нарисовать треугольник, я могу использовать следующие команды:"
      ],
      "metadata": {
        "id": "4xeun8kTTBoZ"
      }
    },
    {
      "cell_type": "code",
      "source": [
        "import jturtle as turtle\n",
        "turtle.forward(100)\n",
        "turtle.right(120)\n",
        "turtle.forward(100)\n",
        "turtle.right(120)\n",
        "turtle.forward(100)\n",
        "turtle.right(120)\n",
        "turtle.done()"
      ],
      "metadata": {
        "colab": {
          "base_uri": "https://localhost:8080/",
          "height": 406
        },
        "id": "wsfnLbckS8RR",
        "outputId": "6fadaf70-3153-41e3-a59f-8b4e5a379ed7"
      },
      "execution_count": 12,
      "outputs": [
        {
          "output_type": "display_data",
          "data": {
            "text/plain": [
              "<Figure size 640x480 with 1 Axes>"
            ],
            "image/png": "[encoded data removed]"
          },
          "metadata": {}
        }
      ]
    },
    {
      "cell_type": "markdown",
      "source": [
        "## Циклы\n",
        "\n",
        "Для рисования треугольника нам нужно повторять одни и те же действия три раза. Чтобы не писать много раз одно и то же, существует специальная конструкция: **цикл**.\n",
        "\n",
        "Предположим, нам нужно поздравить всех наших друзей:"
      ],
      "metadata": {
        "id": "9A7ZP7J9wSfy"
      }
    },
    {
      "cell_type": "code",
      "source": [
        "for friend in [\"Вася\", \"Петя\", \"Коля\"]:\n",
        "  print(\"Привет, \"+friend)"
      ],
      "metadata": {
        "id": "QiZY2PIQTJiL",
        "colab": {
          "base_uri": "https://localhost:8080/"
        },
        "outputId": "31b7e8da-0cc0-4014-edf9-b7c5e2f27c75"
      },
      "execution_count": 13,
      "outputs": [
        {
          "output_type": "stream",
          "name": "stdout",
          "text": [
            "Привет, Вася\n",
            "Привет, Петя\n",
            "Привет, Коля\n"
          ]
        }
      ]
    },
    {
      "cell_type": "markdown",
      "source": [
        "Перечисленные имена друзей в квадратных скобках называются **списком**. Конструкция `for` позволяет выполнить какие-то действия над каждым элементом списка.\n",
        "\n",
        "Обратите внимание на отступ! Он показывает, что именно будет выполняться несколько раз внутри цикла, а что - после. Например, попробуйте в следующем коде расставить отсупы по-разному:"
      ],
      "metadata": {
        "id": "H56sR2aqWlqJ"
      }
    },
    {
      "cell_type": "code",
      "source": [
        "for friend in [\"Вася\", \"Петя\", \"Коля\"]:\n",
        "  print(\"Привет, \"+friend)\n",
        "print(\"Идём гулять!\")"
      ],
      "metadata": {
        "id": "OWY__j4dwl2j",
        "colab": {
          "base_uri": "https://localhost:8080/"
        },
        "outputId": "61c26e76-1d3c-42d1-db85-1b8abc5934eb"
      },
      "execution_count": 14,
      "outputs": [
        {
          "output_type": "stream",
          "name": "stdout",
          "text": [
            "Привет, Вася\n",
            "Привет, Петя\n",
            "Привет, Коля\n",
            "Идём гулять!\n"
          ]
        }
      ]
    },
    {
      "cell_type": "markdown",
      "source": [
        "С помощью цикла упростим рисование треугольника. Чтобы повторить код заданное число раз, вместо списка можно писать `range(n)`:"
      ],
      "metadata": {
        "id": "ipUuK5b-XI7r"
      }
    },
    {
      "cell_type": "code",
      "source": [
        "for i in range(3):\n",
        "  turtle.forward(100)\n",
        "  turtle.right(120)\n",
        "\n",
        "turtle.done()"
      ],
      "metadata": {
        "colab": {
          "base_uri": "https://localhost:8080/",
          "height": 406
        },
        "id": "456D-tJGXA2i",
        "outputId": "c5a34bdb-ebc3-499e-be33-545c7cd19e61"
      },
      "execution_count": 15,
      "outputs": [
        {
          "output_type": "display_data",
          "data": {
            "text/plain": [
              "<Figure size 640x480 with 1 Axes>"
            ],
            "image/png": "[encoded data removed]"
          },
          "metadata": {}
        }
      ]
    },
    {
      "cell_type": "markdown",
      "source": [
        "**Задание**: Нарисуй какой-нибудь интересный узор с помощью циклов"
      ],
      "metadata": {
        "id": "Azq7N4WJXszO"
      }
    },
    {
      "cell_type": "code",
      "source": [
        "# Решение"
      ],
      "metadata": {
        "id": "zmBm0mO2Xyhi"
      },
      "execution_count": 16,
      "outputs": []
    },
    {
      "cell_type": "markdown",
      "source": [
        "## Вложенные циклы\n",
        "\n",
        "Предположим, мы хотим напечатать таблицу умножения. В этом случае нам нужно будет перебрать все числа от 1 до 9, и для каждого числа напечатать все варианты его умножения на все числа от 1 до 9. Для этого придётся один цикл повторять внутри другого"
      ],
      "metadata": {
        "id": "WDq99V5HXfsT"
      }
    },
    {
      "cell_type": "code",
      "source": [
        "for a in range(1,10):\n",
        "  print(f\"Таблица умножения на {a}\")\n",
        "  for b in range(1,10):\n",
        "    print(f\"{b} * {a} = {b*a}\")"
      ],
      "metadata": {
        "colab": {
          "base_uri": "https://localhost:8080/"
        },
        "id": "YjFx7V1qYOPL",
        "outputId": "edc5b5ba-649e-4d1d-9c6d-d05e0105b64e"
      },
      "execution_count": 17,
      "outputs": [
        {
          "output_type": "stream",
          "name": "stdout",
          "text": [
            "Таблица умножения на 1\n",
            "1 * 1 = 1\n",
            "2 * 1 = 2\n",
            "3 * 1 = 3\n",
            "4 * 1 = 4\n",
            "5 * 1 = 5\n",
            "6 * 1 = 6\n",
            "7 * 1 = 7\n",
            "8 * 1 = 8\n",
            "9 * 1 = 9\n",
            "Таблица умножения на 2\n",
            "1 * 2 = 2\n",
            "2 * 2 = 4\n",
            "3 * 2 = 6\n",
            "4 * 2 = 8\n",
            "5 * 2 = 10\n",
            "6 * 2 = 12\n",
            "7 * 2 = 14\n",
            "8 * 2 = 16\n",
            "9 * 2 = 18\n",
            "Таблица умножения на 3\n",
            "1 * 3 = 3\n",
            "2 * 3 = 6\n",
            "3 * 3 = 9\n",
            "4 * 3 = 12\n",
            "5 * 3 = 15\n",
            "6 * 3 = 18\n",
            "7 * 3 = 21\n",
            "8 * 3 = 24\n",
            "9 * 3 = 27\n",
            "Таблица умножения на 4\n",
            "1 * 4 = 4\n",
            "2 * 4 = 8\n",
            "3 * 4 = 12\n",
            "4 * 4 = 16\n",
            "5 * 4 = 20\n",
            "6 * 4 = 24\n",
            "7 * 4 = 28\n",
            "8 * 4 = 32\n",
            "9 * 4 = 36\n",
            "Таблица умножения на 5\n",
            "1 * 5 = 5\n",
            "2 * 5 = 10\n",
            "3 * 5 = 15\n",
            "4 * 5 = 20\n",
            "5 * 5 = 25\n",
            "6 * 5 = 30\n",
            "7 * 5 = 35\n",
            "8 * 5 = 40\n",
            "9 * 5 = 45\n",
            "Таблица умножения на 6\n",
            "1 * 6 = 6\n",
            "2 * 6 = 12\n",
            "3 * 6 = 18\n",
            "4 * 6 = 24\n",
            "5 * 6 = 30\n",
            "6 * 6 = 36\n",
            "7 * 6 = 42\n",
            "8 * 6 = 48\n",
            "9 * 6 = 54\n",
            "Таблица умножения на 7\n",
            "1 * 7 = 7\n",
            "2 * 7 = 14\n",
            "3 * 7 = 21\n",
            "4 * 7 = 28\n",
            "5 * 7 = 35\n",
            "6 * 7 = 42\n",
            "7 * 7 = 49\n",
            "8 * 7 = 56\n",
            "9 * 7 = 63\n",
            "Таблица умножения на 8\n",
            "1 * 8 = 8\n",
            "2 * 8 = 16\n",
            "3 * 8 = 24\n",
            "4 * 8 = 32\n",
            "5 * 8 = 40\n",
            "6 * 8 = 48\n",
            "7 * 8 = 56\n",
            "8 * 8 = 64\n",
            "9 * 8 = 72\n",
            "Таблица умножения на 9\n",
            "1 * 9 = 9\n",
            "2 * 9 = 18\n",
            "3 * 9 = 27\n",
            "4 * 9 = 36\n",
            "5 * 9 = 45\n",
            "6 * 9 = 54\n",
            "7 * 9 = 63\n",
            "8 * 9 = 72\n",
            "9 * 9 = 81\n"
          ]
        }
      ]
    },
    {
      "cell_type": "markdown",
      "source": [
        "Обратите внимание, как мы печатали значения переменных внутри строк! Это специальный приём, называемый **f-строки**.\n",
        "\n",
        "Можем попробовать напечатать более красивую компактную таблицу умножения:"
      ],
      "metadata": {
        "id": "sGZ3Ks98YiIn"
      }
    },
    {
      "cell_type": "code",
      "source": [
        "for a in range(1,10):\n",
        "  for b in range(1,10):\n",
        "    print(f\"{b} * {a} = {b*a:2}  |  \",end='')\n",
        "  print()"
      ],
      "metadata": {
        "colab": {
          "base_uri": "https://localhost:8080/"
        },
        "id": "CgwNSElYYu8O",
        "outputId": "288bade5-94d3-4d17-d7c7-54fb04ca6cb6"
      },
      "execution_count": 18,
      "outputs": [
        {
          "output_type": "stream",
          "name": "stdout",
          "text": [
            "1 * 1 =  1  |  2 * 1 =  2  |  3 * 1 =  3  |  4 * 1 =  4  |  5 * 1 =  5  |  6 * 1 =  6  |  7 * 1 =  7  |  8 * 1 =  8  |  9 * 1 =  9  |  \n",
            "1 * 2 =  2  |  2 * 2 =  4  |  3 * 2 =  6  |  4 * 2 =  8  |  5 * 2 = 10  |  6 * 2 = 12  |  7 * 2 = 14  |  8 * 2 = 16  |  9 * 2 = 18  |  \n",
            "1 * 3 =  3  |  2 * 3 =  6  |  3 * 3 =  9  |  4 * 3 = 12  |  5 * 3 = 15  |  6 * 3 = 18  |  7 * 3 = 21  |  8 * 3 = 24  |  9 * 3 = 27  |  \n",
            "1 * 4 =  4  |  2 * 4 =  8  |  3 * 4 = 12  |  4 * 4 = 16  |  5 * 4 = 20  |  6 * 4 = 24  |  7 * 4 = 28  |  8 * 4 = 32  |  9 * 4 = 36  |  \n",
            "1 * 5 =  5  |  2 * 5 = 10  |  3 * 5 = 15  |  4 * 5 = 20  |  5 * 5 = 25  |  6 * 5 = 30  |  7 * 5 = 35  |  8 * 5 = 40  |  9 * 5 = 45  |  \n",
            "1 * 6 =  6  |  2 * 6 = 12  |  3 * 6 = 18  |  4 * 6 = 24  |  5 * 6 = 30  |  6 * 6 = 36  |  7 * 6 = 42  |  8 * 6 = 48  |  9 * 6 = 54  |  \n",
            "1 * 7 =  7  |  2 * 7 = 14  |  3 * 7 = 21  |  4 * 7 = 28  |  5 * 7 = 35  |  6 * 7 = 42  |  7 * 7 = 49  |  8 * 7 = 56  |  9 * 7 = 63  |  \n",
            "1 * 8 =  8  |  2 * 8 = 16  |  3 * 8 = 24  |  4 * 8 = 32  |  5 * 8 = 40  |  6 * 8 = 48  |  7 * 8 = 56  |  8 * 8 = 64  |  9 * 8 = 72  |  \n",
            "1 * 9 =  9  |  2 * 9 = 18  |  3 * 9 = 27  |  4 * 9 = 36  |  5 * 9 = 45  |  6 * 9 = 54  |  7 * 9 = 63  |  8 * 9 = 72  |  9 * 9 = 81  |  \n"
          ]
        }
      ]
    },
    {
      "cell_type": "markdown",
      "source": [
        "Здесь мы используем хитрые приёмы:\n",
        "* Пишем `end=''`, чтобы операция print не переводила печать на другую строку\n",
        "* Используем **формат печати** `:2` - это значит, что число будет всегда занимать две позиции. Так таблица получается ровной.\n",
        "\n",
        "------\n",
        "\n",
        "**Задание**: Нарисуйте ещё что-то красивое с помощью вложенных циклов"
      ],
      "metadata": {
        "id": "oIQh1a_NbkT1"
      }
    },
    {
      "cell_type": "code",
      "source": [
        "# Решение"
      ],
      "metadata": {
        "id": "RIFWKJ0rbshi"
      },
      "execution_count": 19,
      "outputs": []
    },
    {
      "cell_type": "markdown",
      "source": [
        "\n",
        "## Функции\n",
        "\n",
        "Вернёмся к геометрическим фигурам. Предположим, мы хотим нарисовать домик. У него квадратная форма, треугольная крыша и квадратное окно. Чтобы не писать много раз код для рисования квадратов, мы можем описать **функцию** рисования многоугольника со стороной заданной длины `x`:"
      ],
      "metadata": {
        "id": "HEYgNsFWXaS6"
      }
    },
    {
      "cell_type": "code",
      "source": [
        "def poly(x,n):\n",
        "  for i in range(n):\n",
        "    turtle.forward(x)\n",
        "    turtle.right(360/n)\n",
        "\n",
        "poly(100,6)\n",
        "turtle.done()"
      ],
      "metadata": {
        "colab": {
          "base_uri": "https://localhost:8080/",
          "height": 406
        },
        "id": "3lTNApWvXTE8",
        "outputId": "742adaa3-7512-4109-b453-e1cba8252533"
      },
      "execution_count": 20,
      "outputs": [
        {
          "output_type": "display_data",
          "data": {
            "text/plain": [
              "<Figure size 640x480 with 1 Axes>"
            ],
            "image/png": "[encoded data removed]"
          },
          "metadata": {}
        }
      ]
    },
    {
      "cell_type": "markdown",
      "source": [
        "Теперь, чтобы нарисовать домик, рисуем квадрат, а потом треугольник:"
      ],
      "metadata": {
        "id": "7qP2iBVraVcW"
      }
    },
    {
      "cell_type": "code",
      "source": [
        "poly(100,4)\n",
        "turtle.penup()\n",
        "turtle.forward(100)\n",
        "turtle.right(30)\n",
        "turtle.pendown()\n",
        "poly(100,3)\n",
        "turtle.done()"
      ],
      "metadata": {
        "colab": {
          "base_uri": "https://localhost:8080/",
          "height": 406
        },
        "id": "BQARcwOoaOqU",
        "outputId": "cc03655c-013f-47c2-8134-406882b2014b"
      },
      "execution_count": 21,
      "outputs": [
        {
          "output_type": "display_data",
          "data": {
            "text/plain": [
              "<Figure size 640x480 with 1 Axes>"
            ],
            "image/png": "[encoded data removed]"
          },
          "metadata": {}
        }
      ]
    },
    {
      "cell_type": "markdown",
      "source": [
        "Здесь мы использовали функцию `penup` и `pendown` для поднятия и опускания пера. Попробуйте использовать эти функции, чтобы нарисовать внутри домика окно.\n",
        "\n",
        "## Условия\n",
        "\n",
        "Предположим, мы хотим нарисовать узор вот такого вида:\n",
        "\n"
      ],
      "metadata": {
        "id": "Zklij6yga6sH"
      }
    },
    {
      "cell_type": "code",
      "source": [
        "turtle.right(90)\n",
        "for i in range(5):\n",
        "  turtle.forward(10)\n",
        "  turtle.left(90)\n",
        "  turtle.forward(10)\n",
        "  turtle.right(90)\n",
        "  turtle.forward(10)\n",
        "  turtle.right(90)\n",
        "  turtle.forward(10)\n",
        "  turtle.left(90)\n",
        "turtle.done()"
      ],
      "metadata": {
        "colab": {
          "base_uri": "https://localhost:8080/",
          "height": 406
        },
        "id": "mqSaWmlZaK9z",
        "outputId": "4afb5229-ff92-4105-eb30-9ef4dafef890"
      },
      "execution_count": 22,
      "outputs": [
        {
          "output_type": "display_data",
          "data": {
            "text/plain": [
              "<Figure size 640x480 with 1 Axes>"
            ],
            "image/png": "[encoded data removed]"
          },
          "metadata": {}
        }
      ]
    },
    {
      "cell_type": "markdown",
      "source": [
        "Видим, что внутри цикла действия очень похожи, но отличаются лишь направлением поворота. Мы можем упростить этот код, добавив условие на направление поворота:"
      ],
      "metadata": {
        "id": "3jRX5IAsdr8H"
      }
    },
    {
      "cell_type": "code",
      "source": [
        "turtle.right(90)\n",
        "for i in range(20):\n",
        "  turtle.forward(10)\n",
        "  if i%4==0 or i%4==3:\n",
        "    turtle.left(90)\n",
        "  else:\n",
        "    turtle.right(90)\n",
        "turtle.done()"
      ],
      "metadata": {
        "colab": {
          "base_uri": "https://localhost:8080/",
          "height": 406
        },
        "id": "v8D_HxdcdVKV",
        "outputId": "e0eefb1f-8147-4e7c-b19a-ae7b59d01f80"
      },
      "execution_count": 23,
      "outputs": [
        {
          "output_type": "display_data",
          "data": {
            "text/plain": [
              "<Figure size 640x480 with 1 Axes>"
            ],
            "image/png": "[encoded data removed]"
          },
          "metadata": {}
        }
      ]
    },
    {
      "cell_type": "markdown",
      "source": [
        "Здесь `i%4` означает остаток от деления `i` на 4, т.е. это число, которое меняется в диапазоне от 0 до 3. Когда оно равно 0 или 3 - мы поворачиваем влево, в противном случае - вправо.\n",
        "\n",
        "## Красота программирования\n",
        "\n",
        "Программирование - удивительное занятие, потому что мы можем написать очень короткий код для рисования бесконечно сложных вещей. Попробуем, например, нарисовать **снежинку Коха**\n",
        "\n",
        "![](https://github.com/shwars/pycourse/blob/master/images/KochFlake.PNG?raw=true)"
      ],
      "metadata": {
        "id": "ML4JgXb2eCaq"
      }
    },
    {
      "cell_type": "code",
      "source": [
        "def koch_curve(n,x):\n",
        "    if n==0:\n",
        "        turtle.forward(x)\n",
        "    else:\n",
        "        koch_curve(n-1,x/3)\n",
        "        turtle.left(60)\n",
        "        koch_curve(n-1,x/3)\n",
        "        turtle.right(120)\n",
        "        koch_curve(n-1,x/3)\n",
        "        turtle.left(60)\n",
        "        koch_curve(n-1,x/3)\n",
        "\n",
        "turtle.right(90)\n",
        "koch_curve(4,100)\n",
        "turtle.done()"
      ],
      "metadata": {
        "colab": {
          "base_uri": "https://localhost:8080/",
          "height": 406
        },
        "id": "9ddIgsnDd-1Z",
        "outputId": "2a400161-3dd1-4468-8c34-63e679353cfe"
      },
      "execution_count": 24,
      "outputs": [
        {
          "output_type": "display_data",
          "data": {
            "text/plain": [
              "<Figure size 640x480 with 1 Axes>"
            ],
            "image/png": "[encoded data removed]"
          },
          "metadata": {}
        }
      ]
    },
    {
      "cell_type": "code",
      "source": [
        "def koch_snowflake(n,x):\n",
        "    for _ in range(3):\n",
        "        koch_curve(n,x)\n",
        "        turtle.right(120)\n",
        "\n",
        "koch_snowflake(3,100)\n",
        "turtle.done()"
      ],
      "metadata": {
        "colab": {
          "base_uri": "https://localhost:8080/",
          "height": 406
        },
        "id": "U59_BmG-gec5",
        "outputId": "9f298cf7-b66f-42ed-b5cc-9bbc5f165fd1"
      },
      "execution_count": 25,
      "outputs": [
        {
          "output_type": "display_data",
          "data": {
            "text/plain": [
              "<Figure size 640x480 with 1 Axes>"
            ],
            "image/png": "[encoded data removed]"
          },
          "metadata": {}
        }
      ]
    },
    {
      "cell_type": "markdown",
      "source": [
        "## А как устроен анализ данных?\n",
        "\n",
        "Python очень часто используется для анализа данных! Данные часто организованы в **таблицы**. Для работы с таблицами используется библиотека Pandas.\n",
        "\n",
        "Рассмотрим пример. Все вы наверняка знаете историю с Титаником. Возьмём данные пассажиров Титаника:"
      ],
      "metadata": {
        "id": "uERvXhlWgsi-"
      }
    },
    {
      "cell_type": "code",
      "source": [
        "import pandas as pd\n",
        "\n",
        "df = pd.read_csv(\"https://storage.yandexcloud.net/mypub/data/ctitanic.csv\")\n",
        "df"
      ],
      "metadata": {
        "colab": {
          "base_uri": "https://localhost:8080/",
          "height": 826
        },
        "id": "u3vj1jCtg9qe",
        "outputId": "f47325c1-0488-4834-8886-11c723cd7b63"
      },
      "execution_count": 26,
      "outputs": [
        {
          "output_type": "execute_result",
          "data": {
            "text/plain": [
              "      pclass  survived                                             name  \\\n",
              "0          1         1                    Allen. Miss. Elisabeth Walton   \n",
              "1          1         1                   Allison. Master. Hudson Trevor   \n",
              "2          1         0                     Allison. Miss. Helen Loraine   \n",
              "3          1         0             Allison. Mr. Hudson Joshua Creighton   \n",
              "4          1         0  Allison. Mrs. Hudson J C (Bessie Waldo Daniels)   \n",
              "...      ...       ...                                              ...   \n",
              "1304       3         0                             Zabour. Miss. Hileni   \n",
              "1305       3         0                            Zabour. Miss. Thamine   \n",
              "1306       3         0                        Zakarian. Mr. Mapriededer   \n",
              "1307       3         0                              Zakarian. Mr. Ortin   \n",
              "1308       3         0                               Zimmerman. Mr. Leo   \n",
              "\n",
              "      gender      age  sibsp  parch  ticket      fare    cabin embarked boat  \\\n",
              "0     female  29.0000      0      0   24160  211.3375       B5        S    2   \n",
              "1       male   0.9167      1      2  113781  151.5500  C22 C26        S   11   \n",
              "2     female   2.0000      1      2  113781  151.5500  C22 C26        S  NaN   \n",
              "3       male  30.0000      1      2  113781  151.5500  C22 C26        S  NaN   \n",
              "4     female  25.0000      1      2  113781  151.5500  C22 C26        S  NaN   \n",
              "...      ...      ...    ...    ...     ...       ...      ...      ...  ...   \n",
              "1304  female  14.5000      1      0    2665   14.4542      NaN        C  NaN   \n",
              "1305  female      NaN      1      0    2665   14.4542      NaN        C  NaN   \n",
              "1306    male  26.5000      0      0    2656    7.2250      NaN        C  NaN   \n",
              "1307    male  27.0000      0      0    2670    7.2250      NaN        C  NaN   \n",
              "1308    male  29.0000      0      0  315082    7.8750      NaN        S  NaN   \n",
              "\n",
              "       body                        home.dest  \n",
              "0       NaN                     St Louis. MO  \n",
              "1       NaN  Montreal. PQ / Chesterville. ON  \n",
              "2       NaN  Montreal. PQ / Chesterville. ON  \n",
              "3     135.0  Montreal. PQ / Chesterville. ON  \n",
              "4       NaN  Montreal. PQ / Chesterville. ON  \n",
              "...     ...                              ...  \n",
              "1304  328.0                              NaN  \n",
              "1305    NaN                              NaN  \n",
              "1306  304.0                              NaN  \n",
              "1307    NaN                              NaN  \n",
              "1308    NaN                              NaN  \n",
              "\n",
              "[1309 rows x 14 columns]"
            ],
            "text/html": [
              "\n",
              "  <div id=\"df-d4c7544f-0775-4bce-803d-8e3ff29fcb18\" class=\"colab-df-container\">\n",
              "    <div>\n",
              "<style scoped>\n",
              "    .dataframe tbody tr th:only-of-type {\n",
              "        vertical-align: middle;\n",
              "    }\n",
              "\n",
              "    .dataframe tbody tr th {\n",
              "        vertical-align: top;\n",
              "    }\n",
              "\n",
              "    .dataframe thead th {\n",
              "        text-align: right;\n",
              "    }\n",
              "</style>\n",
              "<table border=\"1\" class=\"dataframe\">\n",
              "  <thead>\n",
              "    <tr style=\"text-align: right;\">\n",
              "      <th></th>\n",
              "      <th>pclass</th>\n",
              "      <th>survived</th>\n",
              "      <th>name</th>\n",
              "      <th>gender</th>\n",
              "      <th>age</th>\n",
              "      <th>sibsp</th>\n",
              "      <th>parch</th>\n",
              "      <th>ticket</th>\n",
              "      <th>fare</th>\n",
              "      <th>cabin</th>\n",
              "      <th>embarked</th>\n",
              "      <th>boat</th>\n",
              "      <th>body</th>\n",
              "      <th>home.dest</th>\n",
              "    </tr>\n",
              "  </thead>\n",
              "  <tbody>\n",
              "    <tr>\n",
              "      <th>0</th>\n",
              "      <td>1</td>\n",
              "      <td>1</td>\n",
              "      <td>Allen. Miss. Elisabeth Walton</td>\n",
              "      <td>female</td>\n",
              "      <td>29.0000</td>\n",
              "      <td>0</td>\n",
              "      <td>0</td>\n",
              "      <td>24160</td>\n",
              "      <td>211.3375</td>\n",
              "      <td>B5</td>\n",
              "      <td>S</td>\n",
              "      <td>2</td>\n",
              "      <td>NaN</td>\n",
              "      <td>St Louis. MO</td>\n",
              "    </tr>\n",
              "    <tr>\n",
              "      <th>1</th>\n",
              "      <td>1</td>\n",
              "      <td>1</td>\n",
              "      <td>Allison. Master. Hudson Trevor</td>\n",
              "      <td>male</td>\n",
              "      <td>0.9167</td>\n",
              "      <td>1</td>\n",
              "      <td>2</td>\n",
              "      <td>113781</td>\n",
              "      <td>151.5500</td>\n",
              "      <td>C22 C26</td>\n",
              "      <td>S</td>\n",
              "      <td>11</td>\n",
              "      <td>NaN</td>\n",
              "      <td>Montreal. PQ / Chesterville. ON</td>\n",
              "    </tr>\n",
              "    <tr>\n",
              "      <th>2</th>\n",
              "      <td>1</td>\n",
              "      <td>0</td>\n",
              "      <td>Allison. Miss. Helen Loraine</td>\n",
              "      <td>female</td>\n",
              "      <td>2.0000</td>\n",
              "      <td>1</td>\n",
              "      <td>2</td>\n",
              "      <td>113781</td>\n",
              "      <td>151.5500</td>\n",
              "      <td>C22 C26</td>\n",
              "      <td>S</td>\n",
              "      <td>NaN</td>\n",
              "      <td>NaN</td>\n",
              "      <td>Montreal. PQ / Chesterville. ON</td>\n",
              "    </tr>\n",
              "    <tr>\n",
              "      <th>3</th>\n",
              "      <td>1</td>\n",
              "      <td>0</td>\n",
              "      <td>Allison. Mr. Hudson Joshua Creighton</td>\n",
              "      <td>male</td>\n",
              "      <td>30.0000</td>\n",
              "      <td>1</td>\n",
              "      <td>2</td>\n",
              "      <td>113781</td>\n",
              "      <td>151.5500</td>\n",
              "      <td>C22 C26</td>\n",
              "      <td>S</td>\n",
              "      <td>NaN</td>\n",
              "      <td>135.0</td>\n",
              "      <td>Montreal. PQ / Chesterville. ON</td>\n",
              "    </tr>\n",
              "    <tr>\n",
              "      <th>4</th>\n",
              "      <td>1</td>\n",
              "      <td>0</td>\n",
              "      <td>Allison. Mrs. Hudson J C (Bessie Waldo Daniels)</td>\n",
              "      <td>female</td>\n",
              "      <td>25.0000</td>\n",
              "      <td>1</td>\n",
              "      <td>2</td>\n",
              "      <td>113781</td>\n",
              "      <td>151.5500</td>\n",
              "      <td>C22 C26</td>\n",
              "      <td>S</td>\n",
              "      <td>NaN</td>\n",
              "      <td>NaN</td>\n",
              "      <td>Montreal. PQ / Chesterville. ON</td>\n",
              "    </tr>\n",
              "    <tr>\n",
              "      <th>...</th>\n",
              "      <td>...</td>\n",
              "      <td>...</td>\n",
              "      <td>...</td>\n",
              "      <td>...</td>\n",
              "      <td>...</td>\n",
              "      <td>...</td>\n",
              "      <td>...</td>\n",
              "      <td>...</td>\n",
              "      <td>...</td>\n",
              "      <td>...</td>\n",
              "      <td>...</td>\n",
              "      <td>...</td>\n",
              "      <td>...</td>\n",
              "      <td>...</td>\n",
              "    </tr>\n",
              "    <tr>\n",
              "      <th>1304</th>\n",
              "      <td>3</td>\n",
              "      <td>0</td>\n",
              "      <td>Zabour. Miss. Hileni</td>\n",
              "      <td>female</td>\n",
              "      <td>14.5000</td>\n",
              "      <td>1</td>\n",
              "      <td>0</td>\n",
              "      <td>2665</td>\n",
              "      <td>14.4542</td>\n",
              "      <td>NaN</td>\n",
              "      <td>C</td>\n",
              "      <td>NaN</td>\n",
              "      <td>328.0</td>\n",
              "      <td>NaN</td>\n",
              "    </tr>\n",
              "    <tr>\n",
              "      <th>1305</th>\n",
              "      <td>3</td>\n",
              "      <td>0</td>\n",
              "      <td>Zabour. Miss. Thamine</td>\n",
              "      <td>female</td>\n",
              "      <td>NaN</td>\n",
              "      <td>1</td>\n",
              "      <td>0</td>\n",
              "      <td>2665</td>\n",
              "      <td>14.4542</td>\n",
              "      <td>NaN</td>\n",
              "      <td>C</td>\n",
              "      <td>NaN</td>\n",
              "      <td>NaN</td>\n",
              "      <td>NaN</td>\n",
              "    </tr>\n",
              "    <tr>\n",
              "      <th>1306</th>\n",
              "      <td>3</td>\n",
              "      <td>0</td>\n",
              "      <td>Zakarian. Mr. Mapriededer</td>\n",
              "      <td>male</td>\n",
              "      <td>26.5000</td>\n",
              "      <td>0</td>\n",
              "      <td>0</td>\n",
              "      <td>2656</td>\n",
              "      <td>7.2250</td>\n",
              "      <td>NaN</td>\n",
              "      <td>C</td>\n",
              "      <td>NaN</td>\n",
              "      <td>304.0</td>\n",
              "      <td>NaN</td>\n",
              "    </tr>\n",
              "    <tr>\n",
              "      <th>1307</th>\n",
              "      <td>3</td>\n",
              "      <td>0</td>\n",
              "      <td>Zakarian. Mr. Ortin</td>\n",
              "      <td>male</td>\n",
              "      <td>27.0000</td>\n",
              "      <td>0</td>\n",
              "      <td>0</td>\n",
              "      <td>2670</td>\n",
              "      <td>7.2250</td>\n",
              "      <td>NaN</td>\n",
              "      <td>C</td>\n",
              "      <td>NaN</td>\n",
              "      <td>NaN</td>\n",
              "      <td>NaN</td>\n",
              "    </tr>\n",
              "    <tr>\n",
              "      <th>1308</th>\n",
              "      <td>3</td>\n",
              "      <td>0</td>\n",
              "      <td>Zimmerman. Mr. Leo</td>\n",
              "      <td>male</td>\n",
              "      <td>29.0000</td>\n",
              "      <td>0</td>\n",
              "      <td>0</td>\n",
              "      <td>315082</td>\n",
              "      <td>7.8750</td>\n",
              "      <td>NaN</td>\n",
              "      <td>S</td>\n",
              "      <td>NaN</td>\n",
              "      <td>NaN</td>\n",
              "      <td>NaN</td>\n",
              "    </tr>\n",
              "  </tbody>\n",
              "</table>\n",
              "<p>1309 rows × 14 columns</p>\n",
              "</div>\n",
              "    <div class=\"colab-df-buttons\">\n",
              "\n",
              "  <div class=\"colab-df-container\">\n",
              "    <button class=\"colab-df-convert\" onclick=\"convertToInteractive('df-d4c7544f-0775-4bce-803d-8e3ff29fcb18')\"\n",
              "            title=\"Convert this dataframe to an interactive table.\"\n",
              "            style=\"display:none;\">\n",
              "\n",
              "  <svg xmlns=\"http://www.w3.org/2000/svg\" height=\"24px\" viewBox=\"0 -960 960 960\">\n",
              "    <path d=\"M120-120v-720h720v720H120Zm60-500h600v-160H180v160Zm220 220h160v-160H400v160Zm0 220h160v-160H400v160ZM180-400h160v-160H180v160Zm440 0h160v-160H620v160ZM180-180h160v-160H180v160Zm440 0h160v-160H620v160Z\"/>\n",
              "  </svg>\n",
              "    </button>\n",
              "\n",
              "  <style>\n",
              "    .colab-df-container {\n",
              "      display:flex;\n",
              "      gap: 12px;\n",
              "    }\n",
              "\n",
              "    .colab-df-convert {\n",
              "      background-color: #E8F0FE;\n",
              "      border: none;\n",
              "      border-radius: 50%;\n",
              "      cursor: pointer;\n",
              "      display: none;\n",
              "      fill: #1967D2;\n",
              "      height: 32px;\n",
              "      padding: 0 0 0 0;\n",
              "      width: 32px;\n",
              "    }\n",
              "\n",
              "    .colab-df-convert:hover {\n",
              "      background-color: #E2EBFA;\n",
              "      box-shadow: 0px 1px 2px rgba(60, 64, 67, 0.3), 0px 1px 3px 1px rgba(60, 64, 67, 0.15);\n",
              "      fill: #174EA6;\n",
              "    }\n",
              "\n",
              "    .colab-df-buttons div {\n",
              "      margin-bottom: 4px;\n",
              "    }\n",
              "\n",
              "    [theme=dark] .colab-df-convert {\n",
              "      background-color: #3B4455;\n",
              "      fill: #D2E3FC;\n",
              "    }\n",
              "\n",
              "    [theme=dark] .colab-df-convert:hover {\n",
              "      background-color: #434B5C;\n",
              "      box-shadow: 0px 1px 3px 1px rgba(0, 0, 0, 0.15);\n",
              "      filter: drop-shadow(0px 1px 2px rgba(0, 0, 0, 0.3));\n",
              "      fill: #FFFFFF;\n",
              "    }\n",
              "  </style>\n",
              "\n",
              "    <script>\n",
              "      const buttonEl =\n",
              "        document.querySelector('#df-d4c7544f-0775-4bce-803d-8e3ff29fcb18 button.colab-df-convert');\n",
              "      buttonEl.style.display =\n",
              "        google.colab.kernel.accessAllowed ? 'block' : 'none';\n",
              "\n",
              "      async function convertToInteractive(key) {\n",
              "        const element = document.querySelector('#df-d4c7544f-0775-4bce-803d-8e3ff29fcb18');\n",
              "        const dataTable =\n",
              "          await google.colab.kernel.invokeFunction('convertToInteractive',\n",
              "                                                    [key], {});\n",
              "        if (!dataTable) return;\n",
              "\n",
              "        const docLinkHtml = 'Like what you see? Visit the ' +\n",
              "          '<a target=\"_blank\" href=https://colab.research.google.com/notebooks/data_table.ipynb>data table notebook</a>'\n",
              "          + ' to learn more about interactive tables.';\n",
              "        element.innerHTML = '';\n",
              "        dataTable['output_type'] = 'display_data';\n",
              "        await google.colab.output.renderOutput(dataTable, element);\n",
              "        const docLink = document.createElement('div');\n",
              "        docLink.innerHTML = docLinkHtml;\n",
              "        element.appendChild(docLink);\n",
              "      }\n",
              "    </script>\n",
              "  </div>\n",
              "\n",
              "\n",
              "    <div id=\"df-c67efa97-2b23-45fa-bccf-f59aafc761e9\">\n",
              "      <button class=\"colab-df-quickchart\" onclick=\"quickchart('df-c67efa97-2b23-45fa-bccf-f59aafc761e9')\"\n",
              "                title=\"Suggest charts\"\n",
              "                style=\"display:none;\">\n",
              "\n",
              "<svg xmlns=\"http://www.w3.org/2000/svg\" height=\"24px\"viewBox=\"0 0 24 24\"\n",
              "     width=\"24px\">\n",
              "    <g>\n",
              "        <path d=\"M19 3H5c-1.1 0-2 .9-2 2v14c0 1.1.9 2 2 2h14c1.1 0 2-.9 2-2V5c0-1.1-.9-2-2-2zM9 17H7v-7h2v7zm4 0h-2V7h2v10zm4 0h-2v-4h2v4z\"/>\n",
              "    </g>\n",
              "</svg>\n",
              "      </button>\n",
              "\n",
              "<style>\n",
              "  .colab-df-quickchart {\n",
              "      --bg-color: #E8F0FE;\n",
              "      --fill-color: #1967D2;\n",
              "      --hover-bg-color: #E2EBFA;\n",
              "      --hover-fill-color: #174EA6;\n",
              "      --disabled-fill-color: #AAA;\n",
              "      --disabled-bg-color: #DDD;\n",
              "  }\n",
              "\n",
              "  [theme=dark] .colab-df-quickchart {\n",
              "      --bg-color: #3B4455;\n",
              "      --fill-color: #D2E3FC;\n",
              "      --hover-bg-color: #434B5C;\n",
              "      --hover-fill-color: #FFFFFF;\n",
              "      --disabled-bg-color: #3B4455;\n",
              "      --disabled-fill-color: #666;\n",
              "  }\n",
              "\n",
              "  .colab-df-quickchart {\n",
              "    background-color: var(--bg-color);\n",
              "    border: none;\n",
              "    border-radius: 50%;\n",
              "    cursor: pointer;\n",
              "    display: none;\n",
              "    fill: var(--fill-color);\n",
              "    height: 32px;\n",
              "    padding: 0;\n",
              "    width: 32px;\n",
              "  }\n",
              "\n",
              "  .colab-df-quickchart:hover {\n",
              "    background-color: var(--hover-bg-color);\n",
              "    box-shadow: 0 1px 2px rgba(60, 64, 67, 0.3), 0 1px 3px 1px rgba(60, 64, 67, 0.15);\n",
              "    fill: var(--button-hover-fill-color);\n",
              "  }\n",
              "\n",
              "  .colab-df-quickchart-complete:disabled,\n",
              "  .colab-df-quickchart-complete:disabled:hover {\n",
              "    background-color: var(--disabled-bg-color);\n",
              "    fill: var(--disabled-fill-color);\n",
              "    box-shadow: none;\n",
              "  }\n",
              "\n",
              "  .colab-df-spinner {\n",
              "    border: 2px solid var(--fill-color);\n",
              "    border-color: transparent;\n",
              "    border-bottom-color: var(--fill-color);\n",
              "    animation:\n",
              "      spin 1s steps(1) infinite;\n",
              "  }\n",
              "\n",
              "  @keyframes spin {\n",
              "    0% {\n",
              "      border-color: transparent;\n",
              "      border-bottom-color: var(--fill-color);\n",
              "      border-left-color: var(--fill-color);\n",
              "    }\n",
              "    20% {\n",
              "      border-color: transparent;\n",
              "      border-left-color: var(--fill-color);\n",
              "      border-top-color: var(--fill-color);\n",
              "    }\n",
              "    30% {\n",
              "      border-color: transparent;\n",
              "      border-left-color: var(--fill-color);\n",
              "      border-top-color: var(--fill-color);\n",
              "      border-right-color: var(--fill-color);\n",
              "    }\n",
              "    40% {\n",
              "      border-color: transparent;\n",
              "      border-right-color: var(--fill-color);\n",
              "      border-top-color: var(--fill-color);\n",
              "    }\n",
              "    60% {\n",
              "      border-color: transparent;\n",
              "      border-right-color: var(--fill-color);\n",
              "    }\n",
              "    80% {\n",
              "      border-color: transparent;\n",
              "      border-right-color: var(--fill-color);\n",
              "      border-bottom-color: var(--fill-color);\n",
              "    }\n",
              "    90% {\n",
              "      border-color: transparent;\n",
              "      border-bottom-color: var(--fill-color);\n",
              "    }\n",
              "  }\n",
              "</style>\n",
              "\n",
              "      <script>\n",
              "        async function quickchart(key) {\n",
              "          const quickchartButtonEl =\n",
              "            document.querySelector('#' + key + ' button');\n",
              "          quickchartButtonEl.disabled = true;  // To prevent multiple clicks.\n",
              "          quickchartButtonEl.classList.add('colab-df-spinner');\n",
              "          try {\n",
              "            const charts = await google.colab.kernel.invokeFunction(\n",
              "                'suggestCharts', [key], {});\n",
              "          } catch (error) {\n",
              "            console.error('Error during call to suggestCharts:', error);\n",
              "          }\n",
              "          quickchartButtonEl.classList.remove('colab-df-spinner');\n",
              "          quickchartButtonEl.classList.add('colab-df-quickchart-complete');\n",
              "        }\n",
              "        (() => {\n",
              "          let quickchartButtonEl =\n",
              "            document.querySelector('#df-c67efa97-2b23-45fa-bccf-f59aafc761e9 button');\n",
              "          quickchartButtonEl.style.display =\n",
              "            google.colab.kernel.accessAllowed ? 'block' : 'none';\n",
              "        })();\n",
              "      </script>\n",
              "    </div>\n",
              "    </div>\n",
              "  </div>\n"
            ],
            "application/vnd.google.colaboratory.intrinsic+json": {
              "type": "dataframe",
              "variable_name": "df",
              "summary": "{\n  \"name\": \"df\",\n  \"rows\": 1309,\n  \"fields\": [\n    {\n      \"column\": \"pclass\",\n      \"properties\": {\n        \"dtype\": \"number\",\n        \"std\": 0,\n        \"min\": 1,\n        \"max\": 3,\n        \"num_unique_values\": 3,\n        \"samples\": [\n          1,\n          2,\n          3\n        ],\n        \"semantic_type\": \"\",\n        \"description\": \"\"\n      }\n    },\n    {\n      \"column\": \"survived\",\n      \"properties\": {\n        \"dtype\": \"number\",\n        \"std\": 0,\n        \"min\": 0,\n        \"max\": 1,\n        \"num_unique_values\": 2,\n        \"samples\": [\n          0,\n          1\n        ],\n        \"semantic_type\": \"\",\n        \"description\": \"\"\n      }\n    },\n    {\n      \"column\": \"name\",\n      \"properties\": {\n        \"dtype\": \"string\",\n        \"num_unique_values\": 1307,\n        \"samples\": [\n          \"Saade. Mr. Jean Nassr\",\n          \"Nakid. Mr. Sahid\"\n        ],\n        \"semantic_type\": \"\",\n        \"description\": \"\"\n      }\n    },\n    {\n      \"column\": \"gender\",\n      \"properties\": {\n        \"dtype\": \"category\",\n        \"num_unique_values\": 2,\n        \"samples\": [\n          \"male\",\n          \"female\"\n        ],\n        \"semantic_type\": \"\",\n        \"description\": \"\"\n      }\n    },\n    {\n      \"column\": \"age\",\n      \"properties\": {\n        \"dtype\": \"number\",\n        \"std\": 14.413499699923594,\n        \"min\": 0.1667,\n        \"max\": 80.0,\n        \"num_unique_values\": 98,\n        \"samples\": [\n          57.0,\n          55.0\n        ],\n        \"semantic_type\": \"\",\n        \"description\": \"\"\n      }\n    },\n    {\n      \"column\": \"sibsp\",\n      \"properties\": {\n        \"dtype\": \"number\",\n        \"std\": 1,\n        \"min\": 0,\n        \"max\": 8,\n        \"num_unique_values\": 7,\n        \"samples\": [\n          0,\n          1\n        ],\n        \"semantic_type\": \"\",\n        \"description\": \"\"\n      }\n    },\n    {\n      \"column\": \"parch\",\n      \"properties\": {\n        \"dtype\": \"number\",\n        \"std\": 0,\n        \"min\": 0,\n        \"max\": 9,\n        \"num_unique_values\": 8,\n        \"samples\": [\n          2,\n          5\n        ],\n        \"semantic_type\": \"\",\n        \"description\": \"\"\n      }\n    },\n    {\n      \"column\": \"ticket\",\n      \"properties\": {\n        \"dtype\": \"string\",\n        \"num_unique_values\": 929,\n        \"samples\": [\n          \"371060\",\n          \"330971\"\n        ],\n        \"semantic_type\": \"\",\n        \"description\": \"\"\n      }\n    },\n    {\n      \"column\": \"fare\",\n      \"properties\": {\n        \"dtype\": \"number\",\n        \"std\": 51.758668239174135,\n        \"min\": 0.0,\n        \"max\": 512.3292,\n        \"num_unique_values\": 281,\n        \"samples\": [\n          5.0,\n          9.35\n        ],\n        \"semantic_type\": \"\",\n        \"description\": \"\"\n      }\n    },\n    {\n      \"column\": \"cabin\",\n      \"properties\": {\n        \"dtype\": \"category\",\n        \"num_unique_values\": 186,\n        \"samples\": [\n          \"C90\",\n          \"C80\"\n        ],\n        \"semantic_type\": \"\",\n        \"description\": \"\"\n      }\n    },\n    {\n      \"column\": \"embarked\",\n      \"properties\": {\n        \"dtype\": \"category\",\n        \"num_unique_values\": 3,\n        \"samples\": [\n          \"S\",\n          \"C\"\n        ],\n        \"semantic_type\": \"\",\n        \"description\": \"\"\n      }\n    },\n    {\n      \"column\": \"boat\",\n      \"properties\": {\n        \"dtype\": \"category\",\n        \"num_unique_values\": 27,\n        \"samples\": [\n          \"B\",\n          \"C\"\n        ],\n        \"semantic_type\": \"\",\n        \"description\": \"\"\n      }\n    },\n    {\n      \"column\": \"body\",\n      \"properties\": {\n        \"dtype\": \"number\",\n        \"std\": 97.6969219960031,\n        \"min\": 1.0,\n        \"max\": 328.0,\n        \"num_unique_values\": 121,\n        \"samples\": [\n          297.0,\n          19.0\n        ],\n        \"semantic_type\": \"\",\n        \"description\": \"\"\n      }\n    },\n    {\n      \"column\": \"home.dest\",\n      \"properties\": {\n        \"dtype\": \"category\",\n        \"num_unique_values\": 369,\n        \"samples\": [\n          \"Co Limerick. Ireland Sherbrooke. PQ\",\n          \"Amenia. ND\"\n        ],\n        \"semantic_type\": \"\",\n        \"description\": \"\"\n      }\n    }\n  ]\n}"
            }
          },
          "metadata": {},
          "execution_count": 26
        }
      ]
    },
    {
      "cell_type": "markdown",
      "source": [
        "Какова средняя вероятность выживания? Для этого посчитаем среднее значение колонки \"Survived\":"
      ],
      "metadata": {
        "id": "00pY9j5qK58q"
      }
    },
    {
      "cell_type": "code",
      "source": [
        "df['survived'].mean()"
      ],
      "metadata": {
        "colab": {
          "base_uri": "https://localhost:8080/"
        },
        "id": "eK5XRwOjgoe1",
        "outputId": "408ce2d2-d58e-479c-b2d1-5a4a896d331a"
      },
      "execution_count": 27,
      "outputs": [
        {
          "output_type": "execute_result",
          "data": {
            "text/plain": [
              "np.float64(0.3819709702062643)"
            ]
          },
          "metadata": {},
          "execution_count": 27
        }
      ]
    },
    {
      "cell_type": "markdown",
      "source": [
        "Давайте поймём, кому было проще выжить: мужчинам или женщинам? Пропускали ли мужчины женщин вперёд, или сражались за свою жизнь?"
      ],
      "metadata": {
        "id": "VhhyR5QmLobX"
      }
    },
    {
      "cell_type": "code",
      "source": [
        "df.groupby('gender')['survived'].mean()"
      ],
      "metadata": {
        "colab": {
          "base_uri": "https://localhost:8080/",
          "height": 178
        },
        "id": "fvV_F9loigN-",
        "outputId": "8463b766-611f-4c83-f117-044bacd7d371"
      },
      "execution_count": 28,
      "outputs": [
        {
          "output_type": "execute_result",
          "data": {
            "text/plain": [
              "gender\n",
              "female    0.727468\n",
              "male      0.190985\n",
              "Name: survived, dtype: float64"
            ],
            "text/html": [
              "<div>\n",
              "<style scoped>\n",
              "    .dataframe tbody tr th:only-of-type {\n",
              "        vertical-align: middle;\n",
              "    }\n",
              "\n",
              "    .dataframe tbody tr th {\n",
              "        vertical-align: top;\n",
              "    }\n",
              "\n",
              "    .dataframe thead th {\n",
              "        text-align: right;\n",
              "    }\n",
              "</style>\n",
              "<table border=\"1\" class=\"dataframe\">\n",
              "  <thead>\n",
              "    <tr style=\"text-align: right;\">\n",
              "      <th></th>\n",
              "      <th>survived</th>\n",
              "    </tr>\n",
              "    <tr>\n",
              "      <th>gender</th>\n",
              "      <th></th>\n",
              "    </tr>\n",
              "  </thead>\n",
              "  <tbody>\n",
              "    <tr>\n",
              "      <th>female</th>\n",
              "      <td>0.727468</td>\n",
              "    </tr>\n",
              "    <tr>\n",
              "      <th>male</th>\n",
              "      <td>0.190985</td>\n",
              "    </tr>\n",
              "  </tbody>\n",
              "</table>\n",
              "</div><br><label><b>dtype:</b> float64</label>"
            ]
          },
          "metadata": {},
          "execution_count": 28
        }
      ]
    },
    {
      "cell_type": "markdown",
      "source": [
        "Можем построить это в виде графика:"
      ],
      "metadata": {
        "id": "2Nv8CTiWMcjb"
      }
    },
    {
      "cell_type": "code",
      "source": [
        "df.groupby('gender')['survived'].mean().plot.bar()"
      ],
      "metadata": {
        "colab": {
          "base_uri": "https://localhost:8080/",
          "height": 501
        },
        "id": "FEhageIkMetd",
        "outputId": "67975aa9-ead4-49df-8c9a-12205e4054c0"
      },
      "execution_count": 29,
      "outputs": [
        {
          "output_type": "execute_result",
          "data": {
            "text/plain": [
              "<Axes: xlabel='gender'>"
            ]
          },
          "metadata": {},
          "execution_count": 29
        },
        {
          "output_type": "display_data",
          "data": {
            "text/plain": [
              "<Figure size 640x480 with 1 Axes>"
            ],
            "image/png": "[encoded data removed]"
          },
          "metadata": {}
        }
      ]
    },
    {
      "cell_type": "markdown",
      "source": [
        "**Задание**: Посмотрите, как меняется вероятность выживания в зависимости от класса пассажира?"
      ],
      "metadata": {
        "id": "xkRUU2h4MR6t"
      }
    },
    {
      "cell_type": "code",
      "source": [
        "# Решение"
      ],
      "metadata": {
        "id": "YY9IK5a0L0Zx"
      },
      "execution_count": 30,
      "outputs": []
    },
    {
      "cell_type": "markdown",
      "source": [
        "А как понять, как влияет возраст? Можно построить **гистограмму**, для разных значений колонки **survived**:"
      ],
      "metadata": {
        "id": "5awZr2SvMuWu"
      }
    },
    {
      "cell_type": "code",
      "source": [
        "import seaborn as sns\n",
        "sns.histplot(df,x='age',kde=True,hue='survived')"
      ],
      "metadata": {
        "colab": {
          "base_uri": "https://localhost:8080/",
          "height": 470
        },
        "id": "2NL9fGrTMZWo",
        "outputId": "19a0a742-f13c-4418-fdff-71e8122d46f2"
      },
      "execution_count": 31,
      "outputs": [
        {
          "output_type": "execute_result",
          "data": {
            "text/plain": [
              "<Axes: xlabel='age', ylabel='Count'>"
            ]
          },
          "metadata": {},
          "execution_count": 31
        },
        {
          "output_type": "display_data",
          "data": {
            "text/plain": [
              "<Figure size 640x480 with 1 Axes>"
            ],
            "image/png": "[encoded data removed]"
          },
          "metadata": {}
        }
      ]
    },
    {
      "cell_type": "markdown",
      "source": [
        "## Анализируем фото\n",
        "\n",
        "Теперь задействуем искусственный интеллект чтобы решить сложную задачу - понять, насколько дети счастливы в летних школах. Для этого возьмём фотографии с предыдущей школы:"
      ],
      "metadata": {
        "id": "WvGpQP4OhAci"
      }
    },
    {
      "cell_type": "code",
      "source": [
        "!wget https://storage.yandexcloud.net/junpub/junling2024.zip\n",
        "!7za x junling2024.zip"
      ],
      "metadata": {
        "colab": {
          "base_uri": "https://localhost:8080/"
        },
        "id": "sCNFajX0U3tL",
        "outputId": "7a80b97d-eadc-45e1-f73f-f65e2899b0e0"
      },
      "execution_count": 32,
      "outputs": [
        {
          "output_type": "stream",
          "name": "stdout",
          "text": [
            "--2025-06-04 11:29:24--  https://storage.yandexcloud.net/junpub/junling2024.zip\n",
            "Resolving storage.yandexcloud.net (storage.yandexcloud.net)... 213.180.193.243, 2a02:6b8::1d9\n",
            "Connecting to storage.yandexcloud.net (storage.yandexcloud.net)|213.180.193.243|:443... connected.\n",
            "HTTP request sent, awaiting response... 200 OK\n",
            "Length: 209692660 (200M) [application/x-zip-compressed]\n",
            "Saving to: ‘junling2024.zip’\n",
            "\n",
            "junling2024.zip     100%[===================>] 199.98M  26.2MB/s    in 9.3s    \n",
            "\n",
            "2025-06-04 11:29:34 (21.6 MB/s) - ‘junling2024.zip’ saved [209692660/209692660]\n",
            "\n",
            "\n",
            "7-Zip (a) [64] 16.02 : Copyright (c) 1999-2016 Igor Pavlov : 2016-05-21\n",
            "p7zip Version 16.02 (locale=en_US.UTF-8,Utf16=on,HugeFiles=on,64 bits,2 CPUs Intel(R) Xeon(R) CPU @ 2.20GHz (406F0),ASM,AES-NI)\n",
            "\n",
            "Scanning the drive for archives:\n",
            "  0M Scan\b\b\b\b\b\b\b\b\b         \b\b\b\b\b\b\b\b\b1 file, 209692660 bytes (200 MiB)\n",
            "\n",
            "Extracting archive: junling2024.zip\n",
            "--\n",
            "Path = junling2024.zip\n",
            "Type = zip\n",
            "Physical Size = 209692660\n",
            "\n",
            "  0%\b\b\b\b    \b\b\b\b\n",
            "Enter password (will not be echoed):\n",
            "  0% - images/img_0000.jpg\b\b\b\b\b\b\b\b\b\b\b\b\b\b\b\b\b\b\b\b\b\b\b\b\b\b                          \b\b\b\b\b\b\b\b\b\b\b\b\b\b\b\b\b\b\b\b\b\b\b\b\b\b  1% 4 - images/img_0004.jpg\b\b\b\b\b\b\b\b\b\b\b\b\b\b\b\b\b\b\b\b\b\b\b\b\b\b\b\b                            \b\b\b\b\b\b\b\b\b\b\b\b\b\b\b\b\b\b\b\b\b\b\b\b\b\b\b\b  5% 19 - images/img_0019.jpg\b\b\b\b\b\b\b\b\b\b\b\b\b\b\b\b\b\b\b\b\b\b\b\b\b\b\b\b\b                             \b\b\b\b\b\b\b\b\b\b\b\b\b\b\b\b\b\b\b\b\b\b\b\b\b\b\b\b\b 10% 38 - images/img_0038.jpg\b\b\b\b\b\b\b\b\b\b\b\b\b\b\b\b\b\b\b\b\b\b\b\b\b\b\b\b\b                             \b\b\b\b\b\b\b\b\b\b\b\b\b\b\b\b\b\b\b\b\b\b\b\b\b\b\b\b\b 13% 50 - images/img_0050.jpg\b\b\b\b\b\b\b\b\b\b\b\b\b\b\b\b\b\b\b\b\b\b\b\b\b\b\b\b\b                             \b\b\b\b\b\b\b\b\b\b\b\b\b\b\b\b\b\b\b\b\b\b\b\b\b\b\b\b\b 15% 57 - images/img_0057.jpg\b\b\b\b\b\b\b\b\b\b\b\b\b\b\b\b\b\b\b\b\b\b\b\b\b\b\b\b\b                             \b\b\b\b\b\b\b\b\b\b\b\b\b\b\b\b\b\b\b\b\b\b\b\b\b\b\b\b\b 19% 75 - images/img_0075.jpg\b\b\b\b\b\b\b\b\b\b\b\b\b\b\b\b\b\b\b\b\b\b\b\b\b\b\b\b\b                             \b\b\b\b\b\b\b\b\b\b\b\b\b\b\b\b\b\b\b\b\b\b\b\b\b\b\b\b\b 24% 98 - images/img_0098.jpg\b\b\b\b\b\b\b\b\b\b\b\b\b\b\b\b\b\b\b\b\b\b\b\b\b\b\b\b\b                             \b\b\b\b\b\b\b\b\b\b\b\b\b\b\b\b\b\b\b\b\b\b\b\b\b\b\b\b\b 28% 116 - images/img_0116.jpg\b\b\b\b\b\b\b\b\b\b\b\b\b\b\b\b\b\b\b\b\b\b\b\b\b\b\b\b\b\b                              \b\b\b\b\b\b\b\b\b\b\b\b\b\b\b\b\b\b\b\b\b\b\b\b\b\b\b\b\b\b 30% 123 - images/img_0123.jpg\b\b\b\b\b\b\b\b\b\b\b\b\b\b\b\b\b\b\b\b\b\b\b\b\b\b\b\b\b\b                              \b\b\b\b\b\b\b\b\b\b\b\b\b\b\b\b\b\b\b\b\b\b\b\b\b\b\b\b\b\b 35% 137 - images/img_0137.jpg\b\b\b\b\b\b\b\b\b\b\b\b\b\b\b\b\b\b\b\b\b\b\b\b\b\b\b\b\b\b                              \b\b\b\b\b\b\b\b\b\b\b\b\b\b\b\b\b\b\b\b\b\b\b\b\b\b\b\b\b\b 40% 152 - images/img_0152.jpg\b\b\b\b\b\b\b\b\b\b\b\b\b\b\b\b\b\b\b\b\b\b\b\b\b\b\b\b\b\b                              \b\b\b\b\b\b\b\b\b\b\b\b\b\b\b\b\b\b\b\b\b\b\b\b\b\b\b\b\b\b 45% 164 - images/img_0164.jpg\b\b\b\b\b\b\b\b\b\b\b\b\b\b\b\b\b\b\b\b\b\b\b\b\b\b\b\b\b\b                              \b\b\b\b\b\b\b\b\b\b\b\b\b\b\b\b\b\b\b\b\b\b\b\b\b\b\b\b\b\b 49% 176 - images/img_0176.jpg\b\b\b\b\b\b\b\b\b\b\b\b\b\b\b\b\b\b\b\b\b\b\b\b\b\b\b\b\b\b                              \b\b\b\b\b\b\b\b\b\b\b\b\b\b\b\b\b\b\b\b\b\b\b\b\b\b\b\b\b\b 52% 187 - images/img_0187.jpg\b\b\b\b\b\b\b\b\b\b\b\b\b\b\b\b\b\b\b\b\b\b\b\b\b\b\b\b\b\b                              \b\b\b\b\b\b\b\b\b\b\b\b\b\b\b\b\b\b\b\b\b\b\b\b\b\b\b\b\b\b 56% 197 - images/img_0197.jpg\b\b\b\b\b\b\b\b\b\b\b\b\b\b\b\b\b\b\b\b\b\b\b\b\b\b\b\b\b\b                              \b\b\b\b\b\b\b\b\b\b\b\b\b\b\b\b\b\b\b\b\b\b\b\b\b\b\b\b\b\b 58% 207 - images/img_0207.jpg\b\b\b\b\b\b\b\b\b\b\b\b\b\b\b\b\b\b\b\b\b\b\b\b\b\b\b\b\b\b                              \b\b\b\b\b\b\b\b\b\b\b\b\b\b\b\b\b\b\b\b\b\b\b\b\b\b\b\b\b\b 62% 217 - images/img_0217.jpg\b\b\b\b\b\b\b\b\b\b\b\b\b\b\b\b\b\b\b\b\b\b\b\b\b\b\b\b\b\b                              \b\b\b\b\b\b\b\b\b\b\b\b\b\b\b\b\b\b\b\b\b\b\b\b\b\b\b\b\b\b 66% 227 - images/img_0227.jpg\b\b\b\b\b\b\b\b\b\b\b\b\b\b\b\b\b\b\b\b\b\b\b\b\b\b\b\b\b\b                              \b\b\b\b\b\b\b\b\b\b\b\b\b\b\b\b\b\b\b\b\b\b\b\b\b\b\b\b\b\b 70% 237 - images/img_0237.jpg\b\b\b\b\b\b\b\b\b\b\b\b\b\b\b\b\b\b\b\b\b\b\b\b\b\b\b\b\b\b                              \b\b\b\b\b\b\b\b\b\b\b\b\b\b\b\b\b\b\b\b\b\b\b\b\b\b\b\b\b\b 74% 249 - images/img_0249.jpg\b\b\b\b\b\b\b\b\b\b\b\b\b\b\b\b\b\b\b\b\b\b\b\b\b\b\b\b\b\b                              \b\b\b\b\b\b\b\b\b\b\b\b\b\b\b\b\b\b\b\b\b\b\b\b\b\b\b\b\b\b 77% 263 - images/img_0263.jpg\b\b\b\b\b\b\b\b\b\b\b\b\b\b\b\b\b\b\b\b\b\b\b\b\b\b\b\b\b\b                              \b\b\b\b\b\b\b\b\b\b\b\b\b\b\b\b\b\b\b\b\b\b\b\b\b\b\b\b\b\b 80% 277 - images/img_0277.jpg\b\b\b\b\b\b\b\b\b\b\b\b\b\b\b\b\b\b\b\b\b\b\b\b\b\b\b\b\b\b                              \b\b\b\b\b\b\b\b\b\b\b\b\b\b\b\b\b\b\b\b\b\b\b\b\b\b\b\b\b\b 83% 287 - images/img_0287.jpg\b\b\b\b\b\b\b\b\b\b\b\b\b\b\b\b\b\b\b\b\b\b\b\b\b\b\b\b\b\b                              \b\b\b\b\b\b\b\b\b\b\b\b\b\b\b\b\b\b\b\b\b\b\b\b\b\b\b\b\b\b 87% 299 - images/img_0299.jpg\b\b\b\b\b\b\b\b\b\b\b\b\b\b\b\b\b\b\b\b\b\b\b\b\b\b\b\b\b\b                              \b\b\b\b\b\b\b\b\b\b\b\b\b\b\b\b\b\b\b\b\b\b\b\b\b\b\b\b\b\b 90% 313 - images/img_0313.jpg\b\b\b\b\b\b\b\b\b\b\b\b\b\b\b\b\b\b\b\b\b\b\b\b\b\b\b\b\b\b                              \b\b\b\b\b\b\b\b\b\b\b\b\b\b\b\b\b\b\b\b\b\b\b\b\b\b\b\b\b\b 94% 330 - images/img_0330.jpg\b\b\b\b\b\b\b\b\b\b\b\b\b\b\b\b\b\b\b\b\b\b\b\b\b\b\b\b\b\b                              \b\b\b\b\b\b\b\b\b\b\b\b\b\b\b\b\b\b\b\b\b\b\b\b\b\b\b\b\b\b 99% 341 - images/img_0341.jpg\b\b\b\b\b\b\b\b\b\b\b\b\b\b\b\b\b\b\b\b\b\b\b\b\b\b\b\b\b\b                              \b\b\b\b\b\b\b\b\b\b\b\b\b\b\b\b\b\b\b\b\b\b\b\b\b\b\b\b\b\bEverything is Ok\n",
            "\n",
            "Files: 344\n",
            "Size:       212063741\n",
            "Compressed: 209692660\n"
          ]
        }
      ]
    },
    {
      "cell_type": "markdown",
      "source": [
        "Для работы с лицами на фото установим библиотеку `deepface`:"
      ],
      "metadata": {
        "id": "sNvnCjYbhiKA"
      }
    },
    {
      "cell_type": "code",
      "source": [
        "!pip install deepface"
      ],
      "metadata": {
        "colab": {
          "base_uri": "https://localhost:8080/"
        },
        "id": "ncxOffsPhORs",
        "outputId": "6babe19c-30c4-45c0-836b-0804388a5037"
      },
      "execution_count": 33,
      "outputs": [
        {
          "output_type": "stream",
          "name": "stdout",
          "text": [
            "Collecting deepface\n",
            "  Downloading deepface-0.0.93-py3-none-any.whl.metadata (30 kB)\n",
            "Requirement already satisfied: requests>=2.27.1 in /usr/local/lib/python3.11/dist-packages (from deepface) (2.32.3)\n",
            "Requirement already satisfied: numpy>=1.14.0 in /usr/local/lib/python3.11/dist-packages (from deepface) (2.0.2)\n",
            "Requirement already satisfied: pandas>=0.23.4 in /usr/local/lib/python3.11/dist-packages (from deepface) (2.2.2)\n",
            "Requirement already satisfied: gdown>=3.10.1 in /usr/local/lib/python3.11/dist-packages (from deepface) (5.2.0)\n",
            "Requirement already satisfied: tqdm>=4.30.0 in /usr/local/lib/python3.11/dist-packages (from deepface) (4.67.1)\n",
            "Requirement already satisfied: Pillow>=5.2.0 in /usr/local/lib/python3.11/dist-packages (from deepface) (11.2.1)\n",
            "Requirement already satisfied: opencv-python>=4.5.5.64 in /usr/local/lib/python3.11/dist-packages (from deepface) (4.11.0.86)\n",
            "Requirement already satisfied: tensorflow>=1.9.0 in /usr/local/lib/python3.11/dist-packages (from deepface) (2.18.0)\n",
            "Requirement already satisfied: keras>=2.2.0 in /usr/local/lib/python3.11/dist-packages (from deepface) (3.8.0)\n",
            "Requirement already satisfied: Flask>=1.1.2 in /usr/local/lib/python3.11/dist-packages (from deepface) (3.1.1)\n",
            "Collecting flask-cors>=4.0.1 (from deepface)\n",
            "  Downloading flask_cors-6.0.0-py3-none-any.whl.metadata (961 bytes)\n",
            "Collecting mtcnn>=0.1.0 (from deepface)\n",
            "  Downloading mtcnn-1.0.0-py3-none-any.whl.metadata (5.8 kB)\n",
            "Collecting retina-face>=0.0.1 (from deepface)\n",
            "  Downloading retina_face-0.0.17-py3-none-any.whl.metadata (10 kB)\n",
            "Collecting fire>=0.4.0 (from deepface)\n",
            "  Downloading fire-0.7.0.tar.gz (87 kB)\n",
            "\u001b[2K     \u001b[90m━━━━━━━━━━━━━━━━━━━━━━━━━━━━━━━━━━━━━━━━\u001b[0m \u001b[32m87.2/87.2 kB\u001b[0m \u001b[31m3.7 MB/s\u001b[0m eta \u001b[36m0:00:00\u001b[0m\n",
            "\u001b[?25h  Preparing metadata (setup.py) ... \u001b[?25l\u001b[?25hdone\n",
            "Collecting gunicorn>=20.1.0 (from deepface)\n",
            "  Downloading gunicorn-23.0.0-py3-none-any.whl.metadata (4.4 kB)\n",
            "Requirement already satisfied: termcolor in /usr/local/lib/python3.11/dist-packages (from fire>=0.4.0->deepface) (3.1.0)\n",
            "Requirement already satisfied: blinker>=1.9.0 in /usr/local/lib/python3.11/dist-packages (from Flask>=1.1.2->deepface) (1.9.0)\n",
            "Requirement already satisfied: click>=8.1.3 in /usr/local/lib/python3.11/dist-packages (from Flask>=1.1.2->deepface) (8.2.1)\n",
            "Requirement already satisfied: itsdangerous>=2.2.0 in /usr/local/lib/python3.11/dist-packages (from Flask>=1.1.2->deepface) (2.2.0)\n",
            "Requirement already satisfied: jinja2>=3.1.2 in /usr/local/lib/python3.11/dist-packages (from Flask>=1.1.2->deepface) (3.1.6)\n",
            "Requirement already satisfied: markupsafe>=2.1.1 in /usr/local/lib/python3.11/dist-packages (from Flask>=1.1.2->deepface) (3.0.2)\n",
            "Requirement already satisfied: werkzeug>=3.1.0 in /usr/local/lib/python3.11/dist-packages (from Flask>=1.1.2->deepface) (3.1.3)\n",
            "Requirement already satisfied: beautifulsoup4 in /usr/local/lib/python3.11/dist-packages (from gdown>=3.10.1->deepface) (4.13.4)\n",
            "Requirement already satisfied: filelock in /usr/local/lib/python3.11/dist-packages (from gdown>=3.10.1->deepface) (3.18.0)\n",
            "Requirement already satisfied: packaging in /usr/local/lib/python3.11/dist-packages (from gunicorn>=20.1.0->deepface) (24.2)\n",
            "Requirement already satisfied: absl-py in /usr/local/lib/python3.11/dist-packages (from keras>=2.2.0->deepface) (1.4.0)\n",
            "Requirement already satisfied: rich in /usr/local/lib/python3.11/dist-packages (from keras>=2.2.0->deepface) (13.9.4)\n",
            "Requirement already satisfied: namex in /usr/local/lib/python3.11/dist-packages (from keras>=2.2.0->deepface) (0.1.0)\n",
            "Requirement already satisfied: h5py in /usr/local/lib/python3.11/dist-packages (from keras>=2.2.0->deepface) (3.13.0)\n",
            "Requirement already satisfied: optree in /usr/local/lib/python3.11/dist-packages (from keras>=2.2.0->deepface) (0.16.0)\n",
            "Requirement already satisfied: ml-dtypes in /usr/local/lib/python3.11/dist-packages (from keras>=2.2.0->deepface) (0.4.1)\n",
            "Requirement already satisfied: joblib>=1.4.2 in /usr/local/lib/python3.11/dist-packages (from mtcnn>=0.1.0->deepface) (1.5.1)\n",
            "Collecting lz4>=4.3.3 (from mtcnn>=0.1.0->deepface)\n",
            "  Downloading lz4-4.4.4-cp311-cp311-manylinux_2_17_x86_64.manylinux2014_x86_64.whl.metadata (3.8 kB)\n",
            "Requirement already satisfied: python-dateutil>=2.8.2 in /usr/local/lib/python3.11/dist-packages (from pandas>=0.23.4->deepface) (2.9.0.post0)\n",
            "Requirement already satisfied: pytz>=2020.1 in /usr/local/lib/python3.11/dist-packages (from pandas>=0.23.4->deepface) (2025.2)\n",
            "Requirement already satisfied: tzdata>=2022.7 in /usr/local/lib/python3.11/dist-packages (from pandas>=0.23.4->deepface) (2025.2)\n",
            "Requirement already satisfied: charset-normalizer<4,>=2 in /usr/local/lib/python3.11/dist-packages (from requests>=2.27.1->deepface) (3.4.2)\n",
            "Requirement already satisfied: idna<4,>=2.5 in /usr/local/lib/python3.11/dist-packages (from requests>=2.27.1->deepface) (3.10)\n",
            "Requirement already satisfied: urllib3<3,>=1.21.1 in /usr/local/lib/python3.11/dist-packages (from requests>=2.27.1->deepface) (2.4.0)\n",
            "Requirement already satisfied: certifi>=2017.4.17 in /usr/local/lib/python3.11/dist-packages (from requests>=2.27.1->deepface) (2025.4.26)\n",
            "Requirement already satisfied: astunparse>=1.6.0 in /usr/local/lib/python3.11/dist-packages (from tensorflow>=1.9.0->deepface) (1.6.3)\n",
            "Requirement already satisfied: flatbuffers>=24.3.25 in /usr/local/lib/python3.11/dist-packages (from tensorflow>=1.9.0->deepface) (25.2.10)\n",
            "Requirement already satisfied: gast!=0.5.0,!=0.5.1,!=0.5.2,>=0.2.1 in /usr/local/lib/python3.11/dist-packages (from tensorflow>=1.9.0->deepface) (0.6.0)\n",
            "Requirement already satisfied: google-pasta>=0.1.1 in /usr/local/lib/python3.11/dist-packages (from tensorflow>=1.9.0->deepface) (0.2.0)\n",
            "Requirement already satisfied: libclang>=13.0.0 in /usr/local/lib/python3.11/dist-packages (from tensorflow>=1.9.0->deepface) (18.1.1)\n",
            "Requirement already satisfied: opt-einsum>=2.3.2 in /usr/local/lib/python3.11/dist-packages (from tensorflow>=1.9.0->deepface) (3.4.0)\n",
            "Requirement already satisfied: protobuf!=4.21.0,!=4.21.1,!=4.21.2,!=4.21.3,!=4.21.4,!=4.21.5,<6.0.0dev,>=3.20.3 in /usr/local/lib/python3.11/dist-packages (from tensorflow>=1.9.0->deepface) (5.29.5)\n",
            "Requirement already satisfied: setuptools in /usr/local/lib/python3.11/dist-packages (from tensorflow>=1.9.0->deepface) (75.2.0)\n",
            "Requirement already satisfied: six>=1.12.0 in /usr/local/lib/python3.11/dist-packages (from tensorflow>=1.9.0->deepface) (1.17.0)\n",
            "Requirement already satisfied: typing-extensions>=3.6.6 in /usr/local/lib/python3.11/dist-packages (from tensorflow>=1.9.0->deepface) (4.13.2)\n",
            "Requirement already satisfied: wrapt>=1.11.0 in /usr/local/lib/python3.11/dist-packages (from tensorflow>=1.9.0->deepface) (1.17.2)\n",
            "Requirement already satisfied: grpcio<2.0,>=1.24.3 in /usr/local/lib/python3.11/dist-packages (from tensorflow>=1.9.0->deepface) (1.71.0)\n",
            "Requirement already satisfied: tensorboard<2.19,>=2.18 in /usr/local/lib/python3.11/dist-packages (from tensorflow>=1.9.0->deepface) (2.18.0)\n",
            "Requirement already satisfied: tensorflow-io-gcs-filesystem>=0.23.1 in /usr/local/lib/python3.11/dist-packages (from tensorflow>=1.9.0->deepface) (0.37.1)\n",
            "Requirement already satisfied: wheel<1.0,>=0.23.0 in /usr/local/lib/python3.11/dist-packages (from astunparse>=1.6.0->tensorflow>=1.9.0->deepface) (0.45.1)\n",
            "Requirement already satisfied: markdown>=2.6.8 in /usr/local/lib/python3.11/dist-packages (from tensorboard<2.19,>=2.18->tensorflow>=1.9.0->deepface) (3.8)\n",
            "Requirement already satisfied: tensorboard-data-server<0.8.0,>=0.7.0 in /usr/local/lib/python3.11/dist-packages (from tensorboard<2.19,>=2.18->tensorflow>=1.9.0->deepface) (0.7.2)\n",
            "Requirement already satisfied: soupsieve>1.2 in /usr/local/lib/python3.11/dist-packages (from beautifulsoup4->gdown>=3.10.1->deepface) (2.7)\n",
            "Requirement already satisfied: PySocks!=1.5.7,>=1.5.6 in /usr/local/lib/python3.11/dist-packages (from requests[socks]->gdown>=3.10.1->deepface) (1.7.1)\n",
            "Requirement already satisfied: markdown-it-py>=2.2.0 in /usr/local/lib/python3.11/dist-packages (from rich->keras>=2.2.0->deepface) (3.0.0)\n",
            "Requirement already satisfied: pygments<3.0.0,>=2.13.0 in /usr/local/lib/python3.11/dist-packages (from rich->keras>=2.2.0->deepface) (2.19.1)\n",
            "Requirement already satisfied: mdurl~=0.1 in /usr/local/lib/python3.11/dist-packages (from markdown-it-py>=2.2.0->rich->keras>=2.2.0->deepface) (0.1.2)\n",
            "Downloading deepface-0.0.93-py3-none-any.whl (108 kB)\n",
            "\u001b[2K   \u001b[90m━━━━━━━━━━━━━━━━━━━━━━━━━━━━━━━━━━━━━━━━\u001b[0m \u001b[32m108.6/108.6 kB\u001b[0m \u001b[31m10.9 MB/s\u001b[0m eta \u001b[36m0:00:00\u001b[0m\n",
            "\u001b[?25hDownloading flask_cors-6.0.0-py3-none-any.whl (11 kB)\n",
            "Downloading gunicorn-23.0.0-py3-none-any.whl (85 kB)\n",
            "\u001b[2K   \u001b[90m━━━━━━━━━━━━━━━━━━━━━━━━━━━━━━━━━━━━━━━━\u001b[0m \u001b[32m85.0/85.0 kB\u001b[0m \u001b[31m10.3 MB/s\u001b[0m eta \u001b[36m0:00:00\u001b[0m\n",
            "\u001b[?25hDownloading mtcnn-1.0.0-py3-none-any.whl (1.9 MB)\n",
            "\u001b[2K   \u001b[90m━━━━━━━━━━━━━━━━━━━━━━━━━━━━━━━━━━━━━━━━\u001b[0m \u001b[32m1.9/1.9 MB\u001b[0m \u001b[31m31.2 MB/s\u001b[0m eta \u001b[36m0:00:00\u001b[0m\n",
            "\u001b[?25hDownloading retina_face-0.0.17-py3-none-any.whl (25 kB)\n",
            "Downloading lz4-4.4.4-cp311-cp311-manylinux_2_17_x86_64.manylinux2014_x86_64.whl (1.3 MB)\n",
            "\u001b[2K   \u001b[90m━━━━━━━━━━━━━━━━━━━━━━━━━━━━━━━━━━━━━━━━\u001b[0m \u001b[32m1.3/1.3 MB\u001b[0m \u001b[31m69.2 MB/s\u001b[0m eta \u001b[36m0:00:00\u001b[0m\n",
            "\u001b[?25hBuilding wheels for collected packages: fire\n",
            "  Building wheel for fire (setup.py) ... \u001b[?25l\u001b[?25hdone\n",
            "  Created wheel for fire: filename=fire-0.7.0-py3-none-any.whl size=114249 sha256=ca5a219fe1b5493e93082c8874e70e8494eb9d126a83c06beb835548d60f15fc\n",
            "  Stored in directory: /root/.cache/pip/wheels/46/54/24/1624fd5b8674eb1188623f7e8e17cdf7c0f6c24b609dfb8a89\n",
            "Successfully built fire\n",
            "Installing collected packages: lz4, gunicorn, fire, mtcnn, flask-cors, retina-face, deepface\n",
            "Successfully installed deepface-0.0.93 fire-0.7.0 flask-cors-6.0.0 gunicorn-23.0.0 lz4-4.4.4 mtcnn-1.0.0 retina-face-0.0.17\n"
          ]
        }
      ]
    },
    {
      "cell_type": "markdown",
      "source": [
        "Посмотрим, что можно извлечь из фото с помощью этой библиотеки:"
      ],
      "metadata": {
        "id": "dqLD8b73htie"
      }
    },
    {
      "cell_type": "code",
      "source": [
        "from deepface import DeepFace\n",
        "DeepFace.analyze('images/img_0000.jpg')"
      ],
      "metadata": {
        "colab": {
          "base_uri": "https://localhost:8080/"
        },
        "id": "GWpwtJZDhoER",
        "outputId": "c03ab790-ba02-4b6e-d58f-2a7b8812311b"
      },
      "execution_count": 34,
      "outputs": [
        {
          "output_type": "stream",
          "name": "stdout",
          "text": [
            "25-06-04 11:30:19 - Directory /root/.deepface has been created\n",
            "25-06-04 11:30:19 - Directory /root/.deepface/weights has been created\n"
          ]
        },
        {
          "output_type": "stream",
          "name": "stderr",
          "text": [
            "Action: emotion:   0%|          | 0/4 [00:00<?, ?it/s]"
          ]
        },
        {
          "output_type": "stream",
          "name": "stdout",
          "text": [
            "25-06-04 11:30:32 - facial_expression_model_weights.h5 will be downloaded...\n"
          ]
        },
        {
          "output_type": "stream",
          "name": "stderr",
          "text": [
            "Downloading...\n",
            "From: https://github.com/serengil/deepface_models/releases/download/v1.0/facial_expression_model_weights.h5\n",
            "To: /root/.deepface/weights/facial_expression_model_weights.h5\n",
            "\n",
            "  0%|          | 0.00/5.98M [00:00<?, ?B/s]\u001b[A\n",
            "100%|██████████| 5.98M/5.98M [00:00<00:00, 42.4MB/s]\n",
            "Action: age:  25%|██▌       | 1/4 [00:01<00:03,  1.05s/it]    "
          ]
        },
        {
          "output_type": "stream",
          "name": "stdout",
          "text": [
            "25-06-04 11:30:34 - age_model_weights.h5 will be downloaded...\n"
          ]
        },
        {
          "output_type": "stream",
          "name": "stderr",
          "text": [
            "Downloading...\n",
            "From: https://github.com/serengil/deepface_models/releases/download/v1.0/age_model_weights.h5\n",
            "To: /root/.deepface/weights/age_model_weights.h5\n",
            "\n",
            "  0%|          | 0.00/539M [00:00<?, ?B/s]\u001b[A\n",
            "  0%|          | 2.10M/539M [00:00<00:25, 20.7MB/s]\u001b[A\n",
            "  3%|▎         | 13.6M/539M [00:00<00:07, 74.4MB/s]\u001b[A\n",
            "  5%|▌         | 28.8M/539M [00:00<00:04, 106MB/s] \u001b[A\n",
            "  8%|▊         | 42.5M/539M [00:00<00:04, 117MB/s]\u001b[A\n",
            " 11%|█         | 60.3M/539M [00:00<00:03, 135MB/s]\u001b[A\n",
            " 14%|█▎        | 73.9M/539M [00:00<00:03, 134MB/s]\u001b[A\n",
            " 16%|█▋        | 87.6M/539M [00:00<00:04, 99.5MB/s]\u001b[A\n",
            " 19%|█▉        | 103M/539M [00:00<00:03, 113MB/s]  \u001b[A\n",
            " 22%|██▏       | 117M/539M [00:01<00:03, 119MB/s]\u001b[A\n",
            " 24%|██▍       | 132M/539M [00:01<00:03, 125MB/s]\u001b[A\n",
            " 27%|██▋       | 145M/539M [00:01<00:03, 110MB/s]\u001b[A\n",
            " 29%|██▉       | 157M/539M [00:01<00:03, 105MB/s]\u001b[A\n",
            " 32%|███▏      | 170M/539M [00:01<00:03, 111MB/s]\u001b[A\n",
            " 35%|███▍      | 187M/539M [00:01<00:02, 125MB/s]\u001b[A\n",
            " 37%|███▋      | 200M/539M [00:01<00:02, 123MB/s]\u001b[A\n",
            " 40%|████      | 216M/539M [00:01<00:02, 134MB/s]\u001b[A\n",
            " 43%|████▎     | 231M/539M [00:01<00:02, 138MB/s]\u001b[A\n",
            " 46%|████▌     | 247M/539M [00:02<00:02, 143MB/s]\u001b[A\n",
            " 49%|████▊     | 262M/539M [00:02<00:01, 145MB/s]\u001b[A\n",
            " 51%|█████▏    | 277M/539M [00:02<00:01, 146MB/s]\u001b[A\n",
            " 55%|█████▍    | 294M/539M [00:02<00:01, 143MB/s]\u001b[A\n",
            " 58%|█████▊    | 310M/539M [00:02<00:01, 147MB/s]\u001b[A\n",
            " 60%|██████    | 325M/539M [00:02<00:01, 145MB/s]\u001b[A\n",
            " 63%|██████▎   | 340M/539M [00:02<00:01, 143MB/s]\u001b[A\n",
            " 66%|██████▌   | 357M/539M [00:02<00:01, 149MB/s]\u001b[A\n",
            " 69%|██████▉   | 372M/539M [00:02<00:01, 148MB/s]\u001b[A\n",
            " 72%|███████▏  | 387M/539M [00:02<00:01, 149MB/s]\u001b[A\n",
            " 75%|███████▍  | 403M/539M [00:03<00:00, 143MB/s]\u001b[A\n",
            " 78%|███████▊  | 419M/539M [00:03<00:00, 147MB/s]\u001b[A\n",
            " 81%|████████  | 435M/539M [00:03<00:00, 151MB/s]\u001b[A\n",
            " 84%|████████▍ | 451M/539M [00:03<00:00, 148MB/s]\u001b[A\n",
            " 87%|████████▋ | 469M/539M [00:03<00:00, 154MB/s]\u001b[A\n",
            " 90%|████████▉ | 484M/539M [00:03<00:00, 153MB/s]\u001b[A\n",
            " 93%|█████████▎| 500M/539M [00:04<00:00, 86.5MB/s]\u001b[A\n",
            " 95%|█████████▌| 512M/539M [00:04<00:00, 85.5MB/s]\u001b[A\n",
            "100%|██████████| 539M/539M [00:04<00:00, 124MB/s] \n",
            "Action: gender:  50%|█████     | 2/4 [00:09<00:10,  5.32s/it]"
          ]
        },
        {
          "output_type": "stream",
          "name": "stdout",
          "text": [
            "25-06-04 11:30:42 - gender_model_weights.h5 will be downloaded...\n"
          ]
        },
        {
          "output_type": "stream",
          "name": "stderr",
          "text": [
            "Downloading...\n",
            "From: https://github.com/serengil/deepface_models/releases/download/v1.0/gender_model_weights.h5\n",
            "To: /root/.deepface/weights/gender_model_weights.h5\n",
            "\n",
            "  0%|          | 0.00/537M [00:00<?, ?B/s]\u001b[A\n",
            "  0%|          | 2.62M/537M [00:00<00:21, 25.2MB/s]\u001b[A\n",
            "  3%|▎         | 15.7M/537M [00:00<00:06, 86.1MB/s]\u001b[A\n",
            "  5%|▍         | 25.7M/537M [00:00<00:06, 84.0MB/s]\u001b[A\n",
            "  6%|▋         | 34.6M/537M [00:00<00:06, 77.2MB/s]\u001b[A\n",
            "  8%|▊         | 42.5M/537M [00:00<00:07, 63.3MB/s]\u001b[A\n",
            " 11%|█         | 58.2M/537M [00:00<00:05, 88.6MB/s]\u001b[A\n",
            " 13%|█▎        | 68.7M/537M [00:00<00:05, 93.1MB/s]\u001b[A\n",
            " 15%|█▍        | 78.6M/537M [00:01<00:08, 52.6MB/s]\u001b[A\n",
            " 16%|█▌        | 86.5M/537M [00:01<00:08, 53.8MB/s]\u001b[A\n",
            " 17%|█▋        | 93.8M/537M [00:01<00:07, 56.6MB/s]\u001b[A\n",
            " 19%|█▉        | 101M/537M [00:01<00:09, 43.9MB/s] \u001b[A\n",
            " 22%|██▏       | 116M/537M [00:01<00:07, 57.9MB/s]\u001b[A\n",
            " 23%|██▎       | 123M/537M [00:02<00:07, 57.9MB/s]\u001b[A\n",
            " 24%|██▍       | 132M/537M [00:02<00:06, 63.3MB/s]\u001b[A\n",
            " 27%|██▋       | 147M/537M [00:02<00:04, 83.5MB/s]\u001b[A\n",
            " 29%|██▉       | 158M/537M [00:02<00:04, 83.4MB/s]\u001b[A\n",
            " 31%|███▏      | 168M/537M [00:02<00:04, 88.1MB/s]\u001b[A\n",
            " 33%|███▎      | 178M/537M [00:02<00:04, 84.3MB/s]\u001b[A\n",
            " 35%|███▌      | 188M/537M [00:02<00:03, 88.2MB/s]\u001b[A\n",
            " 37%|███▋      | 200M/537M [00:02<00:03, 88.7MB/s]\u001b[A\n",
            " 39%|███▉      | 212M/537M [00:02<00:03, 96.5MB/s]\u001b[A\n",
            " 41%|████▏     | 222M/537M [00:03<00:03, 81.8MB/s]\u001b[A\n",
            " 44%|████▎     | 235M/537M [00:03<00:03, 92.7MB/s]\u001b[A\n",
            " 46%|████▌     | 245M/537M [00:03<00:03, 94.4MB/s]\u001b[A\n",
            " 49%|████▉     | 263M/537M [00:03<00:02, 104MB/s] \u001b[A\n",
            " 51%|█████     | 274M/537M [00:03<00:03, 84.2MB/s]\u001b[A\n",
            " 53%|█████▎    | 285M/537M [00:03<00:02, 91.0MB/s]\u001b[A\n",
            " 55%|█████▍    | 295M/537M [00:03<00:03, 75.2MB/s]\u001b[A\n",
            " 57%|█████▋    | 304M/537M [00:04<00:05, 46.7MB/s]\u001b[A\n",
            " 58%|█████▊    | 310M/537M [00:04<00:06, 35.1MB/s]\u001b[A\n",
            " 59%|█████▉    | 316M/537M [00:04<00:06, 36.6MB/s]\u001b[A\n",
            " 60%|██████    | 323M/537M [00:04<00:05, 42.6MB/s]\u001b[A\n",
            " 62%|██████▏   | 333M/537M [00:05<00:03, 53.1MB/s]\u001b[A\n",
            " 65%|██████▍   | 347M/537M [00:05<00:02, 64.9MB/s]\u001b[A\n",
            " 68%|██████▊   | 363M/537M [00:05<00:02, 86.0MB/s]\u001b[A\n",
            " 70%|██████▉   | 375M/537M [00:05<00:01, 94.8MB/s]\u001b[A\n",
            " 72%|███████▏  | 386M/537M [00:05<00:01, 83.5MB/s]\u001b[A\n",
            " 74%|███████▍  | 396M/537M [00:05<00:01, 71.3MB/s]\u001b[A\n",
            " 75%|███████▌  | 405M/537M [00:05<00:02, 64.6MB/s]\u001b[A\n",
            " 77%|███████▋  | 412M/537M [00:06<00:01, 62.8MB/s]\u001b[A\n",
            " 79%|███████▉  | 423M/537M [00:06<00:01, 72.3MB/s]\u001b[A\n",
            " 80%|████████  | 431M/537M [00:06<00:01, 64.6MB/s]\u001b[A\n",
            " 82%|████████▏ | 438M/537M [00:06<00:02, 44.6MB/s]\u001b[A\n",
            " 83%|████████▎ | 444M/537M [00:06<00:02, 45.3MB/s]\u001b[A\n",
            " 85%|████████▌ | 458M/537M [00:06<00:01, 63.3MB/s]\u001b[A\n",
            " 88%|████████▊ | 472M/537M [00:06<00:00, 80.3MB/s]\u001b[A\n",
            " 90%|████████▉ | 483M/537M [00:07<00:00, 84.8MB/s]\u001b[A\n",
            " 92%|█████████▏| 493M/537M [00:07<00:00, 50.1MB/s]\u001b[A\n",
            " 94%|█████████▍| 504M/537M [00:07<00:00, 55.3MB/s]\u001b[A\n",
            " 97%|█████████▋| 519M/537M [00:07<00:00, 71.2MB/s]\u001b[A\n",
            "100%|██████████| 537M/537M [00:07<00:00, 68.4MB/s]\n",
            "Action: race:  75%|███████▌  | 3/4 [00:20<00:08,  8.18s/it]  "
          ]
        },
        {
          "output_type": "stream",
          "name": "stdout",
          "text": [
            "25-06-04 11:30:54 - race_model_single_batch.h5 will be downloaded...\n"
          ]
        },
        {
          "output_type": "stream",
          "name": "stderr",
          "text": [
            "Downloading...\n",
            "From: https://github.com/serengil/deepface_models/releases/download/v1.0/race_model_single_batch.h5\n",
            "To: /root/.deepface/weights/race_model_single_batch.h5\n",
            "\n",
            "  0%|          | 0.00/537M [00:00<?, ?B/s]\u001b[A\n",
            "  1%|          | 4.72M/537M [00:00<00:11, 47.0MB/s]\u001b[A\n",
            "  2%|▏         | 11.0M/537M [00:00<00:13, 39.1MB/s]\u001b[A\n",
            "  4%|▍         | 23.6M/537M [00:00<00:07, 71.0MB/s]\u001b[A\n",
            "  6%|▌         | 32.0M/537M [00:00<00:07, 70.5MB/s]\u001b[A\n",
            "  9%|▉         | 48.2M/537M [00:00<00:04, 99.5MB/s]\u001b[A\n",
            " 12%|█▏        | 63.4M/537M [00:00<00:04, 110MB/s] \u001b[A\n",
            " 15%|█▍        | 79.2M/537M [00:00<00:03, 124MB/s]\u001b[A\n",
            " 18%|█▊        | 94.9M/537M [00:00<00:03, 129MB/s]\u001b[A\n",
            " 21%|██        | 114M/537M [00:01<00:02, 146MB/s] \u001b[A\n",
            " 24%|██▍       | 129M/537M [00:01<00:02, 140MB/s]\u001b[A\n",
            " 27%|██▋       | 144M/537M [00:01<00:02, 142MB/s]\u001b[A\n",
            " 30%|██▉       | 159M/537M [00:01<00:02, 141MB/s]\u001b[A\n",
            " 33%|███▎      | 177M/537M [00:01<00:02, 150MB/s]\u001b[A\n",
            " 36%|███▌      | 192M/537M [00:01<00:02, 149MB/s]\u001b[A\n",
            " 39%|███▊      | 208M/537M [00:01<00:02, 151MB/s]\u001b[A\n",
            " 42%|████▏     | 223M/537M [00:01<00:02, 146MB/s]\u001b[A\n",
            " 45%|████▍     | 240M/537M [00:01<00:01, 151MB/s]\u001b[A\n",
            " 47%|████▋     | 255M/537M [00:01<00:01, 148MB/s]\u001b[A\n",
            " 51%|█████     | 273M/537M [00:02<00:01, 156MB/s]\u001b[A\n",
            " 54%|█████▎    | 288M/537M [00:02<00:01, 149MB/s]\u001b[A\n",
            " 57%|█████▋    | 305M/537M [00:02<00:01, 141MB/s]\u001b[A\n",
            " 60%|█████▉    | 321M/537M [00:02<00:01, 148MB/s]\u001b[A\n",
            " 63%|██████▎   | 337M/537M [00:02<00:01, 144MB/s]\u001b[A\n",
            " 65%|██████▌   | 352M/537M [00:02<00:01, 146MB/s]\u001b[A\n",
            " 68%|██████▊   | 368M/537M [00:02<00:01, 148MB/s]\u001b[A\n",
            " 71%|███████   | 383M/537M [00:04<00:06, 22.1MB/s]\u001b[A\n",
            " 75%|███████▍  | 403M/537M [00:04<00:04, 32.2MB/s]\u001b[A\n",
            " 78%|███████▊  | 417M/537M [00:05<00:02, 40.8MB/s]\u001b[A\n",
            " 80%|████████  | 431M/537M [00:05<00:02, 49.2MB/s]\u001b[A\n",
            " 84%|████████▍ | 451M/537M [00:05<00:01, 66.1MB/s]\u001b[A\n",
            " 87%|████████▋ | 466M/537M [00:05<00:00, 77.5MB/s]\u001b[A\n",
            " 89%|████████▉ | 480M/537M [00:05<00:00, 88.9MB/s]\u001b[A\n",
            " 92%|█████████▏| 495M/537M [00:05<00:00, 98.9MB/s]\u001b[A\n",
            " 95%|█████████▌| 511M/537M [00:05<00:00, 113MB/s] \u001b[A\n",
            "100%|██████████| 537M/537M [00:05<00:00, 91.3MB/s]\n",
            "Action: race: 100%|██████████| 4/4 [00:31<00:00,  7.95s/it]\n",
            "Action: race: 100%|██████████| 4/4 [00:01<00:00,  2.36it/s]\n",
            "Action: race: 100%|██████████| 4/4 [00:01<00:00,  2.32it/s]\n",
            "Action: race: 100%|██████████| 4/4 [00:01<00:00,  2.37it/s]\n"
          ]
        },
        {
          "output_type": "execute_result",
          "data": {
            "text/plain": [
              "[{'emotion': {'angry': np.float32(2.9480596),\n",
              "   'disgust': np.float32(6.8202564e-05),\n",
              "   'fear': np.float32(2.9393322),\n",
              "   'happy': np.float32(4.5756995e-05),\n",
              "   'sad': np.float32(61.95216),\n",
              "   'surprise': np.float32(1.0123359e-05),\n",
              "   'neutral': np.float32(32.160316)},\n",
              "  'dominant_emotion': 'sad',\n",
              "  'region': {'x': 1069,\n",
              "   'y': 732,\n",
              "   'w': 113,\n",
              "   'h': 113,\n",
              "   'left_eye': (1144, 776),\n",
              "   'right_eye': (1099, 778)},\n",
              "  'face_confidence': np.float64(0.93),\n",
              "  'age': 24,\n",
              "  'gender': {'Woman': np.float32(1.339058), 'Man': np.float32(98.66094)},\n",
              "  'dominant_gender': 'Man',\n",
              "  'race': {'asian': np.float32(15.95277),\n",
              "   'indian': np.float32(7.2167053),\n",
              "   'black': np.float32(2.4103322),\n",
              "   'white': np.float32(24.917702),\n",
              "   'middle eastern': np.float32(12.423334),\n",
              "   'latino hispanic': np.float32(37.07916)},\n",
              "  'dominant_race': 'latino hispanic'},\n",
              " {'emotion': {'angry': np.float32(3.1970897),\n",
              "   'disgust': np.float32(6.4078867e-09),\n",
              "   'fear': np.float32(0.0021364668),\n",
              "   'happy': np.float32(2.5586514),\n",
              "   'sad': np.float32(7.1523547),\n",
              "   'surprise': np.float32(0.0049695564),\n",
              "   'neutral': np.float32(87.0848)},\n",
              "  'dominant_emotion': 'neutral',\n",
              "  'region': {'x': 1450,\n",
              "   'y': 653,\n",
              "   'w': 125,\n",
              "   'h': 125,\n",
              "   'left_eye': None,\n",
              "   'right_eye': None},\n",
              "  'face_confidence': np.float64(0.96),\n",
              "  'age': 42,\n",
              "  'gender': {'Woman': np.float32(14.978598), 'Man': np.float32(85.02141)},\n",
              "  'dominant_gender': 'Man',\n",
              "  'race': {'asian': np.float32(5.9846735),\n",
              "   'indian': np.float32(5.943277),\n",
              "   'black': np.float32(1.4336064),\n",
              "   'white': np.float32(38.266235),\n",
              "   'middle eastern': np.float32(18.777662),\n",
              "   'latino hispanic': np.float32(29.594543)},\n",
              "  'dominant_race': 'white'},\n",
              " {'emotion': {'angry': np.float32(12.747094),\n",
              "   'disgust': np.float32(0.96309197),\n",
              "   'fear': np.float32(57.282978),\n",
              "   'happy': np.float32(0.0049997554),\n",
              "   'sad': np.float32(28.105238),\n",
              "   'surprise': np.float32(0.09136886),\n",
              "   'neutral': np.float32(0.8052312)},\n",
              "  'dominant_emotion': 'fear',\n",
              "  'region': {'x': 2454,\n",
              "   'y': 798,\n",
              "   'w': 172,\n",
              "   'h': 172,\n",
              "   'left_eye': (2564, 863),\n",
              "   'right_eye': (2514, 865)},\n",
              "  'face_confidence': np.float64(0.94),\n",
              "  'age': 30,\n",
              "  'gender': {'Woman': np.float32(99.19366), 'Man': np.float32(0.80633944)},\n",
              "  'dominant_gender': 'Woman',\n",
              "  'race': {'asian': np.float32(0.020742148),\n",
              "   'indian': np.float32(0.01375291),\n",
              "   'black': np.float32(0.0001490365),\n",
              "   'white': np.float32(97.00961),\n",
              "   'middle eastern': np.float32(1.1202246),\n",
              "   'latino hispanic': np.float32(1.8355273)},\n",
              "  'dominant_race': 'white'},\n",
              " {'emotion': {'angry': np.float32(2.3327973),\n",
              "   'disgust': np.float32(1.9516663e-07),\n",
              "   'fear': np.float32(1.6269754),\n",
              "   'happy': np.float32(67.53705),\n",
              "   'sad': np.float32(26.936037),\n",
              "   'surprise': np.float32(0.64513266),\n",
              "   'neutral': np.float32(0.92200637)},\n",
              "  'dominant_emotion': 'happy',\n",
              "  'region': {'x': 1184,\n",
              "   'y': 1615,\n",
              "   'w': 102,\n",
              "   'h': 102,\n",
              "   'left_eye': None,\n",
              "   'right_eye': None},\n",
              "  'face_confidence': np.float64(0.95),\n",
              "  'age': 24,\n",
              "  'gender': {'Woman': np.float32(22.958889), 'Man': np.float32(77.04111)},\n",
              "  'dominant_gender': 'Man',\n",
              "  'race': {'asian': np.float32(21.787626),\n",
              "   'indian': np.float32(5.503559),\n",
              "   'black': np.float32(6.9497714),\n",
              "   'white': np.float32(32.18763),\n",
              "   'middle eastern': np.float32(22.940176),\n",
              "   'latino hispanic': np.float32(10.631239)},\n",
              "  'dominant_race': 'white'}]"
            ]
          },
          "metadata": {},
          "execution_count": 34
        }
      ]
    },
    {
      "cell_type": "markdown",
      "source": [
        "Теперь обработаем все фотографии. На стадартном Google Colab это будет выполняться очень долго."
      ],
      "metadata": {
        "id": "9P6zKEwJsWYI"
      }
    },
    {
      "cell_type": "code",
      "source": [
        "from tqdm.auto import tqdm\n",
        "from glob import glob\n",
        "res = []\n",
        "for fn in tqdm(glob('images/*')):\n",
        "  try:\n",
        "    z = DeepFace.analyze(fn,silent=True)\n",
        "  except ValueError:\n",
        "    z = []\n",
        "  for f in z:\n",
        "    t = {\n",
        "        \"gender\" : f['dominant_gender'],\n",
        "        \"age\" : f['age'],\n",
        "        \"confidence\" : f['face_confidence']\n",
        "    }\n",
        "    for k,v in f['emotion'].items():\n",
        "      t[k] = v\n",
        "    res.append(t)"
      ],
      "metadata": {
        "id": "YomY5_ynh2bZ"
      },
      "execution_count": null,
      "outputs": []
    },
    {
      "cell_type": "markdown",
      "source": [
        "Чтобы не ждать ответа, загрузим уже готовые данные:"
      ],
      "metadata": {
        "id": "pWV0ri7asfp8"
      }
    },
    {
      "cell_type": "code",
      "source": [
        "import pandas as pd\n",
        "df = pd.read_csv(\"https://storage.yandexcloud.net/junpub/junling2024.csv\")\n",
        "df"
      ],
      "metadata": {
        "colab": {
          "base_uri": "https://localhost:8080/",
          "height": 444
        },
        "id": "278mfBJQjkYV",
        "outputId": "41523ddf-e574-4a4f-f757-d5873e2b2b72"
      },
      "execution_count": 35,
      "outputs": [
        {
          "output_type": "execute_result",
          "data": {
            "text/plain": [
              "     gender  age  confidence      angry       disgust       fear      happy  \\\n",
              "0       Man   35        0.90   0.008852  8.323399e-08   0.008516  98.450030   \n",
              "1       Man   42        0.94  16.592133  1.845654e-03   0.669763   0.007767   \n",
              "2       Man   32        0.93  27.182848  7.241417e-01  44.253193   0.547514   \n",
              "3       Man   33        0.93   0.281133  5.477747e-07   0.016637   0.008374   \n",
              "4       Man   26        0.90  19.339468  7.620438e+00   6.594042   0.170182   \n",
              "...     ...  ...         ...        ...           ...        ...        ...   \n",
              "1377    Man   41        0.95  76.968864  8.772816e-07   0.007805  22.122252   \n",
              "1378    Man   28        0.93   5.597425  1.132467e+01  32.953320  47.514200   \n",
              "1379    Man   34        0.95   0.360175  1.936544e-04   1.259373  59.857960   \n",
              "1380    Man   27        0.97  85.281140  6.164647e-05   0.565534   0.006337   \n",
              "1381    Man   24        0.98  96.068900  1.006102e-02   0.113844   2.345791   \n",
              "\n",
              "            sad  surprise    neutral  \n",
              "0      0.000806  0.006767   1.525038  \n",
              "1      9.988984  0.002517  72.736990  \n",
              "2      3.863069  6.152856  17.276377  \n",
              "3      0.222025  0.001105  99.470730  \n",
              "4     57.571095  0.080955   8.623827  \n",
              "...         ...       ...        ...  \n",
              "1377   0.130066  0.000318   0.770709  \n",
              "1378   2.122621  0.217841   0.269937  \n",
              "1379   2.501020  1.357480  34.663790  \n",
              "1380   5.609829  0.000482   8.536621  \n",
              "1381   1.226900  0.000089   0.234416  \n",
              "\n",
              "[1382 rows x 10 columns]"
            ],
            "text/html": [
              "\n",
              "  <div id=\"df-f547d458-9f8a-4b7a-9d54-011eec54002d\" class=\"colab-df-container\">\n",
              "    <div>\n",
              "<style scoped>\n",
              "    .dataframe tbody tr th:only-of-type {\n",
              "        vertical-align: middle;\n",
              "    }\n",
              "\n",
              "    .dataframe tbody tr th {\n",
              "        vertical-align: top;\n",
              "    }\n",
              "\n",
              "    .dataframe thead th {\n",
              "        text-align: right;\n",
              "    }\n",
              "</style>\n",
              "<table border=\"1\" class=\"dataframe\">\n",
              "  <thead>\n",
              "    <tr style=\"text-align: right;\">\n",
              "      <th></th>\n",
              "      <th>gender</th>\n",
              "      <th>age</th>\n",
              "      <th>confidence</th>\n",
              "      <th>angry</th>\n",
              "      <th>disgust</th>\n",
              "      <th>fear</th>\n",
              "      <th>happy</th>\n",
              "      <th>sad</th>\n",
              "      <th>surprise</th>\n",
              "      <th>neutral</th>\n",
              "    </tr>\n",
              "  </thead>\n",
              "  <tbody>\n",
              "    <tr>\n",
              "      <th>0</th>\n",
              "      <td>Man</td>\n",
              "      <td>35</td>\n",
              "      <td>0.90</td>\n",
              "      <td>0.008852</td>\n",
              "      <td>8.323399e-08</td>\n",
              "      <td>0.008516</td>\n",
              "      <td>98.450030</td>\n",
              "      <td>0.000806</td>\n",
              "      <td>0.006767</td>\n",
              "      <td>1.525038</td>\n",
              "    </tr>\n",
              "    <tr>\n",
              "      <th>1</th>\n",
              "      <td>Man</td>\n",
              "      <td>42</td>\n",
              "      <td>0.94</td>\n",
              "      <td>16.592133</td>\n",
              "      <td>1.845654e-03</td>\n",
              "      <td>0.669763</td>\n",
              "      <td>0.007767</td>\n",
              "      <td>9.988984</td>\n",
              "      <td>0.002517</td>\n",
              "      <td>72.736990</td>\n",
              "    </tr>\n",
              "    <tr>\n",
              "      <th>2</th>\n",
              "      <td>Man</td>\n",
              "      <td>32</td>\n",
              "      <td>0.93</td>\n",
              "      <td>27.182848</td>\n",
              "      <td>7.241417e-01</td>\n",
              "      <td>44.253193</td>\n",
              "      <td>0.547514</td>\n",
              "      <td>3.863069</td>\n",
              "      <td>6.152856</td>\n",
              "      <td>17.276377</td>\n",
              "    </tr>\n",
              "    <tr>\n",
              "      <th>3</th>\n",
              "      <td>Man</td>\n",
              "      <td>33</td>\n",
              "      <td>0.93</td>\n",
              "      <td>0.281133</td>\n",
              "      <td>5.477747e-07</td>\n",
              "      <td>0.016637</td>\n",
              "      <td>0.008374</td>\n",
              "      <td>0.222025</td>\n",
              "      <td>0.001105</td>\n",
              "      <td>99.470730</td>\n",
              "    </tr>\n",
              "    <tr>\n",
              "      <th>4</th>\n",
              "      <td>Man</td>\n",
              "      <td>26</td>\n",
              "      <td>0.90</td>\n",
              "      <td>19.339468</td>\n",
              "      <td>7.620438e+00</td>\n",
              "      <td>6.594042</td>\n",
              "      <td>0.170182</td>\n",
              "      <td>57.571095</td>\n",
              "      <td>0.080955</td>\n",
              "      <td>8.623827</td>\n",
              "    </tr>\n",
              "    <tr>\n",
              "      <th>...</th>\n",
              "      <td>...</td>\n",
              "      <td>...</td>\n",
              "      <td>...</td>\n",
              "      <td>...</td>\n",
              "      <td>...</td>\n",
              "      <td>...</td>\n",
              "      <td>...</td>\n",
              "      <td>...</td>\n",
              "      <td>...</td>\n",
              "      <td>...</td>\n",
              "    </tr>\n",
              "    <tr>\n",
              "      <th>1377</th>\n",
              "      <td>Man</td>\n",
              "      <td>41</td>\n",
              "      <td>0.95</td>\n",
              "      <td>76.968864</td>\n",
              "      <td>8.772816e-07</td>\n",
              "      <td>0.007805</td>\n",
              "      <td>22.122252</td>\n",
              "      <td>0.130066</td>\n",
              "      <td>0.000318</td>\n",
              "      <td>0.770709</td>\n",
              "    </tr>\n",
              "    <tr>\n",
              "      <th>1378</th>\n",
              "      <td>Man</td>\n",
              "      <td>28</td>\n",
              "      <td>0.93</td>\n",
              "      <td>5.597425</td>\n",
              "      <td>1.132467e+01</td>\n",
              "      <td>32.953320</td>\n",
              "      <td>47.514200</td>\n",
              "      <td>2.122621</td>\n",
              "      <td>0.217841</td>\n",
              "      <td>0.269937</td>\n",
              "    </tr>\n",
              "    <tr>\n",
              "      <th>1379</th>\n",
              "      <td>Man</td>\n",
              "      <td>34</td>\n",
              "      <td>0.95</td>\n",
              "      <td>0.360175</td>\n",
              "      <td>1.936544e-04</td>\n",
              "      <td>1.259373</td>\n",
              "      <td>59.857960</td>\n",
              "      <td>2.501020</td>\n",
              "      <td>1.357480</td>\n",
              "      <td>34.663790</td>\n",
              "    </tr>\n",
              "    <tr>\n",
              "      <th>1380</th>\n",
              "      <td>Man</td>\n",
              "      <td>27</td>\n",
              "      <td>0.97</td>\n",
              "      <td>85.281140</td>\n",
              "      <td>6.164647e-05</td>\n",
              "      <td>0.565534</td>\n",
              "      <td>0.006337</td>\n",
              "      <td>5.609829</td>\n",
              "      <td>0.000482</td>\n",
              "      <td>8.536621</td>\n",
              "    </tr>\n",
              "    <tr>\n",
              "      <th>1381</th>\n",
              "      <td>Man</td>\n",
              "      <td>24</td>\n",
              "      <td>0.98</td>\n",
              "      <td>96.068900</td>\n",
              "      <td>1.006102e-02</td>\n",
              "      <td>0.113844</td>\n",
              "      <td>2.345791</td>\n",
              "      <td>1.226900</td>\n",
              "      <td>0.000089</td>\n",
              "      <td>0.234416</td>\n",
              "    </tr>\n",
              "  </tbody>\n",
              "</table>\n",
              "<p>1382 rows × 10 columns</p>\n",
              "</div>\n",
              "    <div class=\"colab-df-buttons\">\n",
              "\n",
              "  <div class=\"colab-df-container\">\n",
              "    <button class=\"colab-df-convert\" onclick=\"convertToInteractive('df-f547d458-9f8a-4b7a-9d54-011eec54002d')\"\n",
              "            title=\"Convert this dataframe to an interactive table.\"\n",
              "            style=\"display:none;\">\n",
              "\n",
              "  <svg xmlns=\"http://www.w3.org/2000/svg\" height=\"24px\" viewBox=\"0 -960 960 960\">\n",
              "    <path d=\"M120-120v-720h720v720H120Zm60-500h600v-160H180v160Zm220 220h160v-160H400v160Zm0 220h160v-160H400v160ZM180-400h160v-160H180v160Zm440 0h160v-160H620v160ZM180-180h160v-160H180v160Zm440 0h160v-160H620v160Z\"/>\n",
              "  </svg>\n",
              "    </button>\n",
              "\n",
              "  <style>\n",
              "    .colab-df-container {\n",
              "      display:flex;\n",
              "      gap: 12px;\n",
              "    }\n",
              "\n",
              "    .colab-df-convert {\n",
              "      background-color: #E8F0FE;\n",
              "      border: none;\n",
              "      border-radius: 50%;\n",
              "      cursor: pointer;\n",
              "      display: none;\n",
              "      fill: #1967D2;\n",
              "      height: 32px;\n",
              "      padding: 0 0 0 0;\n",
              "      width: 32px;\n",
              "    }\n",
              "\n",
              "    .colab-df-convert:hover {\n",
              "      background-color: #E2EBFA;\n",
              "      box-shadow: 0px 1px 2px rgba(60, 64, 67, 0.3), 0px 1px 3px 1px rgba(60, 64, 67, 0.15);\n",
              "      fill: #174EA6;\n",
              "    }\n",
              "\n",
              "    .colab-df-buttons div {\n",
              "      margin-bottom: 4px;\n",
              "    }\n",
              "\n",
              "    [theme=dark] .colab-df-convert {\n",
              "      background-color: #3B4455;\n",
              "      fill: #D2E3FC;\n",
              "    }\n",
              "\n",
              "    [theme=dark] .colab-df-convert:hover {\n",
              "      background-color: #434B5C;\n",
              "      box-shadow: 0px 1px 3px 1px rgba(0, 0, 0, 0.15);\n",
              "      filter: drop-shadow(0px 1px 2px rgba(0, 0, 0, 0.3));\n",
              "      fill: #FFFFFF;\n",
              "    }\n",
              "  </style>\n",
              "\n",
              "    <script>\n",
              "      const buttonEl =\n",
              "        document.querySelector('#df-f547d458-9f8a-4b7a-9d54-011eec54002d button.colab-df-convert');\n",
              "      buttonEl.style.display =\n",
              "        google.colab.kernel.accessAllowed ? 'block' : 'none';\n",
              "\n",
              "      async function convertToInteractive(key) {\n",
              "        const element = document.querySelector('#df-f547d458-9f8a-4b7a-9d54-011eec54002d');\n",
              "        const dataTable =\n",
              "          await google.colab.kernel.invokeFunction('convertToInteractive',\n",
              "                                                    [key], {});\n",
              "        if (!dataTable) return;\n",
              "\n",
              "        const docLinkHtml = 'Like what you see? Visit the ' +\n",
              "          '<a target=\"_blank\" href=https://colab.research.google.com/notebooks/data_table.ipynb>data table notebook</a>'\n",
              "          + ' to learn more about interactive tables.';\n",
              "        element.innerHTML = '';\n",
              "        dataTable['output_type'] = 'display_data';\n",
              "        await google.colab.output.renderOutput(dataTable, element);\n",
              "        const docLink = document.createElement('div');\n",
              "        docLink.innerHTML = docLinkHtml;\n",
              "        element.appendChild(docLink);\n",
              "      }\n",
              "    </script>\n",
              "  </div>\n",
              "\n",
              "\n",
              "    <div id=\"df-173a71a2-9731-47bf-a963-a27418194423\">\n",
              "      <button class=\"colab-df-quickchart\" onclick=\"quickchart('df-173a71a2-9731-47bf-a963-a27418194423')\"\n",
              "                title=\"Suggest charts\"\n",
              "                style=\"display:none;\">\n",
              "\n",
              "<svg xmlns=\"http://www.w3.org/2000/svg\" height=\"24px\"viewBox=\"0 0 24 24\"\n",
              "     width=\"24px\">\n",
              "    <g>\n",
              "        <path d=\"M19 3H5c-1.1 0-2 .9-2 2v14c0 1.1.9 2 2 2h14c1.1 0 2-.9 2-2V5c0-1.1-.9-2-2-2zM9 17H7v-7h2v7zm4 0h-2V7h2v10zm4 0h-2v-4h2v4z\"/>\n",
              "    </g>\n",
              "</svg>\n",
              "      </button>\n",
              "\n",
              "<style>\n",
              "  .colab-df-quickchart {\n",
              "      --bg-color: #E8F0FE;\n",
              "      --fill-color: #1967D2;\n",
              "      --hover-bg-color: #E2EBFA;\n",
              "      --hover-fill-color: #174EA6;\n",
              "      --disabled-fill-color: #AAA;\n",
              "      --disabled-bg-color: #DDD;\n",
              "  }\n",
              "\n",
              "  [theme=dark] .colab-df-quickchart {\n",
              "      --bg-color: #3B4455;\n",
              "      --fill-color: #D2E3FC;\n",
              "      --hover-bg-color: #434B5C;\n",
              "      --hover-fill-color: #FFFFFF;\n",
              "      --disabled-bg-color: #3B4455;\n",
              "      --disabled-fill-color: #666;\n",
              "  }\n",
              "\n",
              "  .colab-df-quickchart {\n",
              "    background-color: var(--bg-color);\n",
              "    border: none;\n",
              "    border-radius: 50%;\n",
              "    cursor: pointer;\n",
              "    display: none;\n",
              "    fill: var(--fill-color);\n",
              "    height: 32px;\n",
              "    padding: 0;\n",
              "    width: 32px;\n",
              "  }\n",
              "\n",
              "  .colab-df-quickchart:hover {\n",
              "    background-color: var(--hover-bg-color);\n",
              "    box-shadow: 0 1px 2px rgba(60, 64, 67, 0.3), 0 1px 3px 1px rgba(60, 64, 67, 0.15);\n",
              "    fill: var(--button-hover-fill-color);\n",
              "  }\n",
              "\n",
              "  .colab-df-quickchart-complete:disabled,\n",
              "  .colab-df-quickchart-complete:disabled:hover {\n",
              "    background-color: var(--disabled-bg-color);\n",
              "    fill: var(--disabled-fill-color);\n",
              "    box-shadow: none;\n",
              "  }\n",
              "\n",
              "  .colab-df-spinner {\n",
              "    border: 2px solid var(--fill-color);\n",
              "    border-color: transparent;\n",
              "    border-bottom-color: var(--fill-color);\n",
              "    animation:\n",
              "      spin 1s steps(1) infinite;\n",
              "  }\n",
              "\n",
              "  @keyframes spin {\n",
              "    0% {\n",
              "      border-color: transparent;\n",
              "      border-bottom-color: var(--fill-color);\n",
              "      border-left-color: var(--fill-color);\n",
              "    }\n",
              "    20% {\n",
              "      border-color: transparent;\n",
              "      border-left-color: var(--fill-color);\n",
              "      border-top-color: var(--fill-color);\n",
              "    }\n",
              "    30% {\n",
              "      border-color: transparent;\n",
              "      border-left-color: var(--fill-color);\n",
              "      border-top-color: var(--fill-color);\n",
              "      border-right-color: var(--fill-color);\n",
              "    }\n",
              "    40% {\n",
              "      border-color: transparent;\n",
              "      border-right-color: var(--fill-color);\n",
              "      border-top-color: var(--fill-color);\n",
              "    }\n",
              "    60% {\n",
              "      border-color: transparent;\n",
              "      border-right-color: var(--fill-color);\n",
              "    }\n",
              "    80% {\n",
              "      border-color: transparent;\n",
              "      border-right-color: var(--fill-color);\n",
              "      border-bottom-color: var(--fill-color);\n",
              "    }\n",
              "    90% {\n",
              "      border-color: transparent;\n",
              "      border-bottom-color: var(--fill-color);\n",
              "    }\n",
              "  }\n",
              "</style>\n",
              "\n",
              "      <script>\n",
              "        async function quickchart(key) {\n",
              "          const quickchartButtonEl =\n",
              "            document.querySelector('#' + key + ' button');\n",
              "          quickchartButtonEl.disabled = true;  // To prevent multiple clicks.\n",
              "          quickchartButtonEl.classList.add('colab-df-spinner');\n",
              "          try {\n",
              "            const charts = await google.colab.kernel.invokeFunction(\n",
              "                'suggestCharts', [key], {});\n",
              "          } catch (error) {\n",
              "            console.error('Error during call to suggestCharts:', error);\n",
              "          }\n",
              "          quickchartButtonEl.classList.remove('colab-df-spinner');\n",
              "          quickchartButtonEl.classList.add('colab-df-quickchart-complete');\n",
              "        }\n",
              "        (() => {\n",
              "          let quickchartButtonEl =\n",
              "            document.querySelector('#df-173a71a2-9731-47bf-a963-a27418194423 button');\n",
              "          quickchartButtonEl.style.display =\n",
              "            google.colab.kernel.accessAllowed ? 'block' : 'none';\n",
              "        })();\n",
              "      </script>\n",
              "    </div>\n",
              "    </div>\n",
              "  </div>\n"
            ],
            "application/vnd.google.colaboratory.intrinsic+json": {
              "type": "dataframe",
              "variable_name": "df",
              "summary": "{\n  \"name\": \"df\",\n  \"rows\": 1382,\n  \"fields\": [\n    {\n      \"column\": \"gender\",\n      \"properties\": {\n        \"dtype\": \"category\",\n        \"num_unique_values\": 2,\n        \"samples\": [\n          \"Woman\",\n          \"Man\"\n        ],\n        \"semantic_type\": \"\",\n        \"description\": \"\"\n      }\n    },\n    {\n      \"column\": \"age\",\n      \"properties\": {\n        \"dtype\": \"number\",\n        \"std\": 5,\n        \"min\": 19,\n        \"max\": 53,\n        \"num_unique_values\": 35,\n        \"samples\": [\n          20,\n          48\n        ],\n        \"semantic_type\": \"\",\n        \"description\": \"\"\n      }\n    },\n    {\n      \"column\": \"confidence\",\n      \"properties\": {\n        \"dtype\": \"number\",\n        \"std\": 0.025477892288400895,\n        \"min\": 0.85,\n        \"max\": 1.01,\n        \"num_unique_values\": 17,\n        \"samples\": [\n          0.9,\n          0.94\n        ],\n        \"semantic_type\": \"\",\n        \"description\": \"\"\n      }\n    },\n    {\n      \"column\": \"angry\",\n      \"properties\": {\n        \"dtype\": \"number\",\n        \"std\": 23.125404188504092,\n        \"min\": 1.3065362e-21,\n        \"max\": 99.9999,\n        \"num_unique_values\": 1382,\n        \"samples\": [\n          0.004907644,\n          17.354227\n        ],\n        \"semantic_type\": \"\",\n        \"description\": \"\"\n      }\n    },\n    {\n      \"column\": \"disgust\",\n      \"properties\": {\n        \"dtype\": \"number\",\n        \"std\": 3.557110498789368,\n        \"min\": 0.0,\n        \"max\": 89.79025,\n        \"num_unique_values\": 1381,\n        \"samples\": [\n          0.0016990976,\n          0.015596835\n        ],\n        \"semantic_type\": \"\",\n        \"description\": \"\"\n      }\n    },\n    {\n      \"column\": \"fear\",\n      \"properties\": {\n        \"dtype\": \"number\",\n        \"std\": 23.451435107858593,\n        \"min\": 1.3121377e-25,\n        \"max\": 99.997986,\n        \"num_unique_values\": 1382,\n        \"samples\": [\n          1.686693,\n          2.4868429\n        ],\n        \"semantic_type\": \"\",\n        \"description\": \"\"\n      }\n    },\n    {\n      \"column\": \"happy\",\n      \"properties\": {\n        \"dtype\": \"number\",\n        \"std\": 41.408971891264954,\n        \"min\": 4.6501265e-11,\n        \"max\": 100.0,\n        \"num_unique_values\": 1373,\n        \"samples\": [\n          7.2652073,\n          0.13516301\n        ],\n        \"semantic_type\": \"\",\n        \"description\": \"\"\n      }\n    },\n    {\n      \"column\": \"sad\",\n      \"properties\": {\n        \"dtype\": \"number\",\n        \"std\": 28.911536192013532,\n        \"min\": 9.956582999999998e-19,\n        \"max\": 99.99971,\n        \"num_unique_values\": 1382,\n        \"samples\": [\n          98.302246,\n          70.30454\n        ],\n        \"semantic_type\": \"\",\n        \"description\": \"\"\n      }\n    },\n    {\n      \"column\": \"surprise\",\n      \"properties\": {\n        \"dtype\": \"number\",\n        \"std\": 10.479303810547398,\n        \"min\": 3.1959375000000003e-28,\n        \"max\": 99.99652,\n        \"num_unique_values\": 1382,\n        \"samples\": [\n          4.6384274e-09,\n          0.007995119\n        ],\n        \"semantic_type\": \"\",\n        \"description\": \"\"\n      }\n    },\n    {\n      \"column\": \"neutral\",\n      \"properties\": {\n        \"dtype\": \"number\",\n        \"std\": 31.10818405026792,\n        \"min\": 1.6805614e-11,\n        \"max\": 99.99959,\n        \"num_unique_values\": 1382,\n        \"samples\": [\n          0.004130649,\n          9.817692\n        ],\n        \"semantic_type\": \"\",\n        \"description\": \"\"\n      }\n    }\n  ]\n}"
            }
          },
          "metadata": {},
          "execution_count": 35
        }
      ]
    },
    {
      "cell_type": "markdown",
      "source": [
        "Посмотрим на возраст участников"
      ],
      "metadata": {
        "id": "XtO3q0xeuC_0"
      }
    },
    {
      "cell_type": "code",
      "source": [
        "sns.histplot(df,x='age',kde=True)"
      ],
      "metadata": {
        "colab": {
          "base_uri": "https://localhost:8080/",
          "height": 467
        },
        "id": "WIt-NJSIrxCI",
        "outputId": "8afa3e10-1abd-4352-f1c4-23f139608792"
      },
      "execution_count": 37,
      "outputs": [
        {
          "output_type": "execute_result",
          "data": {
            "text/plain": [
              "<Axes: xlabel='age', ylabel='Count'>"
            ]
          },
          "metadata": {},
          "execution_count": 37
        },
        {
          "output_type": "display_data",
          "data": {
            "text/plain": [
              "<Figure size 640x480 with 1 Axes>"
            ],
            "image/png": "[encoded data removed]"
          },
          "metadata": {}
        }
      ]
    },
    {
      "cell_type": "markdown",
      "source": [
        "Давайте ответим на интересный вопрос: кто счастливее, мужчины или женщины?"
      ],
      "metadata": {
        "id": "D6PrWieZuGDf"
      }
    },
    {
      "cell_type": "code",
      "source": [
        "df.groupby('gender')['happy'].mean().plot.bar()"
      ],
      "metadata": {
        "colab": {
          "base_uri": "https://localhost:8080/",
          "height": 506
        },
        "id": "GNcSuQNvsuAp",
        "outputId": "b7695646-7b6c-4d65-b7e9-50c2663d8b49"
      },
      "execution_count": 40,
      "outputs": [
        {
          "output_type": "execute_result",
          "data": {
            "text/plain": [
              "<Axes: xlabel='gender'>"
            ]
          },
          "metadata": {},
          "execution_count": 40
        },
        {
          "output_type": "display_data",
          "data": {
            "text/plain": [
              "<Figure size 640x480 with 1 Axes>"
            ],
            "image/png": "[encoded data removed]"
          },
          "metadata": {}
        }
      ]
    },
    {
      "cell_type": "markdown",
      "source": [
        "А как уровень счастья зависит от возраста?"
      ],
      "metadata": {
        "id": "QmX86piluRV0"
      }
    },
    {
      "cell_type": "code",
      "source": [
        "df['agegroup'] = df['age'] // 10 * 10\n",
        "df.groupby('agegroup')['happy'].mean().plot.bar()"
      ],
      "metadata": {
        "colab": {
          "base_uri": "https://localhost:8080/",
          "height": 473
        },
        "id": "2Exa38ZGtu9A",
        "outputId": "cb781b72-3b70-4468-8489-c3eda37b495a"
      },
      "execution_count": 42,
      "outputs": [
        {
          "output_type": "execute_result",
          "data": {
            "text/plain": [
              "<Axes: xlabel='agegroup'>"
            ]
          },
          "metadata": {},
          "execution_count": 42
        },
        {
          "output_type": "display_data",
          "data": {
            "text/plain": [
              "<Figure size 640x480 with 1 Axes>"
            ],
            "image/png": "[encoded data removed]"
          },
          "metadata": {}
        }
      ]
    },
    {
      "cell_type": "markdown",
      "source": [
        "А каких эмоций больше?"
      ],
      "metadata": {
        "id": "h-WHOh6HwZAD"
      }
    },
    {
      "cell_type": "code",
      "source": [
        "import numpy as np\n",
        "\n",
        "emotions = ['angry','disgust','fear','happy','sad','surprise','neutral']\n",
        "df[emotions].apply(lambda x:emotions[x.argmax()],axis=1).value_counts()\n"
      ],
      "metadata": {
        "colab": {
          "base_uri": "https://localhost:8080/",
          "height": 304
        },
        "id": "1OFeBmTCud_X",
        "outputId": "09262cec-7a87-45f5-8fad-3240e5c7effb"
      },
      "execution_count": 50,
      "outputs": [
        {
          "output_type": "execute_result",
          "data": {
            "text/plain": [
              "happy       426\n",
              "neutral     314\n",
              "sad         312\n",
              "fear        157\n",
              "angry       147\n",
              "surprise     23\n",
              "disgust       3\n",
              "Name: count, dtype: int64"
            ],
            "text/html": [
              "<div>\n",
              "<style scoped>\n",
              "    .dataframe tbody tr th:only-of-type {\n",
              "        vertical-align: middle;\n",
              "    }\n",
              "\n",
              "    .dataframe tbody tr th {\n",
              "        vertical-align: top;\n",
              "    }\n",
              "\n",
              "    .dataframe thead th {\n",
              "        text-align: right;\n",
              "    }\n",
              "</style>\n",
              "<table border=\"1\" class=\"dataframe\">\n",
              "  <thead>\n",
              "    <tr style=\"text-align: right;\">\n",
              "      <th></th>\n",
              "      <th>count</th>\n",
              "    </tr>\n",
              "  </thead>\n",
              "  <tbody>\n",
              "    <tr>\n",
              "      <th>happy</th>\n",
              "      <td>426</td>\n",
              "    </tr>\n",
              "    <tr>\n",
              "      <th>neutral</th>\n",
              "      <td>314</td>\n",
              "    </tr>\n",
              "    <tr>\n",
              "      <th>sad</th>\n",
              "      <td>312</td>\n",
              "    </tr>\n",
              "    <tr>\n",
              "      <th>fear</th>\n",
              "      <td>157</td>\n",
              "    </tr>\n",
              "    <tr>\n",
              "      <th>angry</th>\n",
              "      <td>147</td>\n",
              "    </tr>\n",
              "    <tr>\n",
              "      <th>surprise</th>\n",
              "      <td>23</td>\n",
              "    </tr>\n",
              "    <tr>\n",
              "      <th>disgust</th>\n",
              "      <td>3</td>\n",
              "    </tr>\n",
              "  </tbody>\n",
              "</table>\n",
              "</div><br><label><b>dtype:</b> int64</label>"
            ]
          },
          "metadata": {},
          "execution_count": 50
        }
      ]
    },
    {
      "cell_type": "markdown",
      "source": [
        "## Выводы\n",
        "\n",
        "Мы познакомились с языком Python. Он позволяет:\n",
        "* Легко проводить вычисления прямо в интернет\n",
        "* Рисовать бесконечно сложные узоры с помощью коротких фрагментов кода\n",
        "* Анализировать данные и строить графики\n",
        "* Работать с искусственным интеллектом"
      ],
      "metadata": {
        "id": "Kw2oLMbTxUCx"
      }
    }
  ]
}