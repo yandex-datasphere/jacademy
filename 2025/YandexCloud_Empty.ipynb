{
 "cells": [
  {
   "cell_type": "markdown",
   "id": "b694aac1-3db3-42a0-907b-d2df7295809d",
   "metadata": {},
   "source": [
    "## Yandex Cloud\n",
    "\n",
    "Облако Yandex Cloud содержит множество сервисов для выполнения базовых операций. Ниже мы приведём несколько \"строительных блоков\" в виде кусочков кода на Python, которые вы сможете использовать в своих проектах, например:\n",
    "\n",
    "* Распознавание текста на картинке\n",
    "* Рисование картинки по текстовому запросу с Yandex ART\n",
    "* Работа с Yandex GPT, чтобы переделать текст:\n",
    "   - сделать его более вежливым\n",
    "   - получить краткое содержание текста\n",
    "   - перевести его на другой язык\n",
    "   - проверить работу студента\n",
    "* распознать звук (речь) в текст\n",
    "* синтезировать речь\n",
    "\n",
    "Для начала получим файл с секретными ключами для доступа в облако:"
   ]
  },
  {
   "cell_type": "code",
   "execution_count": null,
   "id": "39885c1e",
   "metadata": {},
   "outputs": [],
   "source": [
    "!wget https://storage.yandexcloud.net/junpub/.env\n",
    "!wget https://github.com/yandex-datasphere/jacademy/blob/main/2024/images/slide.jpg?raw=true -O slide.jpg"
   ]
  },
  {
   "cell_type": "markdown",
   "id": "6978524f-5749-4f1e-9dc7-36d1b28c3e06",
   "metadata": {},
   "source": [
    "### Устанавливаем необходимые библиотеки\n",
    "\n",
    "Для начала надо установить необходимые библиотеки Python, которые понадобятся нам в работе."
   ]
  },
  {
   "cell_type": "code",
   "execution_count": null,
   "id": "93d73292-a2ff-4376-8e14-c8e542281244",
   "metadata": {
    "execution": {
     "iopub.execute_input": "2024-10-29T08:28:50.037739Z",
     "iopub.status.busy": "2024-10-29T08:28:50.036683Z",
     "iopub.status.idle": "2024-10-29T08:29:31.530286Z",
     "shell.execute_reply": "2024-10-29T08:29:31.529337Z",
     "shell.execute_reply.started": "2024-10-29T08:28:50.037682Z"
    },
    "tags": []
   },
   "outputs": [],
   "source": [
    "%pip install dotenv yandex_cloud_ml_sdk yandex-speechkit==1.5.0 telebot==0.0.5 gradio==5.4.0"
   ]
  },
  {
   "cell_type": "markdown",
   "id": "9e6cf3e0-41a6-4602-85a5-9625f2292aaf",
   "metadata": {
    "tags": []
   },
   "source": [
    "> **ВНИМАНИЕ!!!** После установки библиотек рекомендуется зайти в пункт меню **Kernel** -> **Restart Kernel**.\n",
    "\n",
    "Загружаем секретные ключи для работы с облаком:"
   ]
  },
  {
   "cell_type": "code",
   "execution_count": null,
   "id": "b9552dd9",
   "metadata": {},
   "outputs": [],
   "source": [
    "from dotenv import load_dotenv\n",
    "import os\n",
    "load_dotenv()\n",
    "\n",
    "folder_id  = os.environ['folder_id']\n",
    "api_key = os.environ['api_key']"
   ]
  },
  {
   "cell_type": "markdown",
   "id": "484e0d9c",
   "metadata": {},
   "source": [
    "\n",
    "### Использование больших языковых моделей\n",
    "\n",
    "Большие языковые модели позволяют вам совершать различные манипуляции с текстом. Основное, что может модель - это отвечать на ваши вопросы. Соответственно, формулируя вопросы по-разному, вы можете попросить модель придумать что-то, перевести текст, перефразировать его в более короткой или более вежливой форме, и многое другое.\n",
    "\n",
    "Для работы с моделью создадим объект `gpt`:"
   ]
  },
  {
   "cell_type": "code",
   "execution_count": null,
   "id": "807770b2-bf74-4c3e-93aa-1a23045fe30b",
   "metadata": {
    "execution": {
     "iopub.execute_input": "2024-10-29T08:33:39.263433Z",
     "iopub.status.busy": "2024-10-29T08:33:39.262054Z",
     "iopub.status.idle": "2024-10-29T08:33:43.759533Z",
     "shell.execute_reply": "2024-10-29T08:33:43.758667Z",
     "shell.execute_reply.started": "2024-10-29T08:33:39.263366Z"
    },
    "tags": []
   },
   "outputs": [],
   "source": [
    "from yandex_cloud_ml_sdk import YCloudML\n",
    "from IPython.display import Markdown, display\n",
    "\n",
    "sdk = YCloudML(folder_id=folder_id, auth=api_key)\n",
    "gpt_model = sdk.models.completions('yandexgpt',model_version='rc')\n",
    "\n",
    "\n",
    "def printx(string):\n",
    "    display(Markdown(string))\n",
    "\n",
    "def gpt(x):\n",
    "    return gpt_model.run(x).text\n",
    "\n",
    "printx(gpt('Привет! Придумай 10 новых слов для приветствия.'))"
   ]
  },
  {
   "cell_type": "markdown",
   "id": "f2b0af19-728b-4d74-b768-8d47c621192f",
   "metadata": {},
   "source": [
    "Используем модель для преобразования текста в вежливую подробную форму:"
   ]
  },
  {
   "cell_type": "code",
   "execution_count": null,
   "id": "6d01598c-6787-4ae9-82fd-018452be2f95",
   "metadata": {
    "execution": {
     "iopub.execute_input": "2024-10-29T08:36:54.686799Z",
     "iopub.status.busy": "2024-10-29T08:36:54.685542Z",
     "iopub.status.idle": "2024-10-29T08:37:00.152419Z",
     "shell.execute_reply": "2024-10-29T08:37:00.151661Z",
     "shell.execute_reply.started": "2024-10-29T08:36:54.686757Z"
    },
    "tags": []
   },
   "outputs": [],
   "source": [
    "texts = [\n",
    "    \"Мне было лень делать домашку\",\n",
    "    \"Я опоздал, потому что проспал\"\n",
    "]\n",
    "\n",
    "prompt = \"\"\"Пожалуйста, перепиши текст ниже в тройных обратных кавычках в подробной вежливой \n",
    "форме, длиною в несколько предложений, не короче 2000 символов. Вот текст:```{}```\"\"\"\n",
    "\n",
    "for x in texts:\n",
    "    res = gpt(prompt.format(x))\n",
    "    printx(f\"**{x}**<br/>{res}\\n<br/>\")"
   ]
  },
  {
   "cell_type": "markdown",
   "id": "df36d7fe-4310-40d3-b8e8-c61f00530b43",
   "metadata": {},
   "source": [
    "Можем попросить модель сделать что-то более сложное, например, оценить ответ школьника на тесте:"
   ]
  },
  {
   "cell_type": "code",
   "execution_count": null,
   "id": "fd451a4e-b546-45be-a956-c58fbefa62f4",
   "metadata": {
    "execution": {
     "iopub.execute_input": "2024-10-29T08:39:33.738877Z",
     "iopub.status.busy": "2024-10-29T08:39:33.737606Z",
     "iopub.status.idle": "2024-10-29T08:39:36.814749Z",
     "shell.execute_reply": "2024-10-29T08:39:36.813857Z",
     "shell.execute_reply.started": "2024-10-29T08:39:33.738829Z"
    },
    "tags": []
   },
   "outputs": [],
   "source": [
    "texts = [\n",
    "    \"Млекопитающие — это типа такие животные, у которых есть шерсть и они рожают детёнышей. Ну и кормят их молоком, потому что у них есть молочные железы. Вроде всё.\",\n",
    "    \"Млекопитающие — это класс позвоночных животных, характеризующийся наличием молочных желез, которые позволяют самкам кормить потомство. Большинство млекопитающих также обладают шерстью или волосами, теплокровностью и сложной системой дыхания. Они рождают живых детёнышей (за исключением яйцекладущих, таких как утконос и ехидна) и имеют высокоразвитую нервную систему, что обеспечивает сложное поведение и способность к обучению.\"\n",
    "]\n",
    "\n",
    "prompt = \"\"\"\n",
    "Мне нужно проверить ответ школьника на тесте по биологии на вопрос \"млекопитающие\". Тебе нужно оценить \n",
    "ответ ниже в тройных обратных кавычках по трем параметрам: полнота ответа (complete), \n",
    "стройность и стиль изложения (style) и соответствие теме (topic). Также выстави общую среднюю оценку за ответ (grade). Все\n",
    "оценки выставляй по шкале от 1 до 5, возможно, с дробном виде.\n",
    "Прочитай текст в сообщении ниже и верни ответ в формате JSON.\n",
    "Верни только JSON, не нужно объяснений или другого текста.\n",
    "Ответ школьника:\n",
    "```{}```\n",
    "\"\"\"\n",
    "\n",
    "for x in texts:\n",
    "    res = gpt(prompt.format(x)).replace('```','')\n",
    "    printx(f\"**{x}**<br/><pre>{res}</pre>\")"
   ]
  },
  {
   "cell_type": "markdown",
   "id": "a1da9a32-c8ed-42b4-a1d1-8376edecd190",
   "metadata": {},
   "source": [
    "Использованный тут формат JSON позволяет легко преобразовать ответ из текста в данные Python:"
   ]
  },
  {
   "cell_type": "code",
   "execution_count": null,
   "id": "91a2d381-1a07-45e9-a38e-f847f6dde684",
   "metadata": {
    "execution": {
     "iopub.execute_input": "2024-10-29T08:41:06.641463Z",
     "iopub.status.busy": "2024-10-29T08:41:06.640634Z",
     "iopub.status.idle": "2024-10-29T08:41:09.319500Z",
     "shell.execute_reply": "2024-10-29T08:41:09.318353Z",
     "shell.execute_reply.started": "2024-10-29T08:41:06.641421Z"
    },
    "tags": []
   },
   "outputs": [],
   "source": [
    "import json\n",
    "import pandas as pd\n",
    "\n",
    "res = []\n",
    "for x in texts:\n",
    "    y = gpt(prompt.format(x))\n",
    "    y = json.loads(y.replace('```',''))\n",
    "    print(y)\n",
    "    y['answer'] = x\n",
    "    res.append(y)\n",
    "    \n",
    "df = pd.DataFrame(res)\n",
    "df\n"
   ]
  },
  {
   "cell_type": "markdown",
   "id": "9585cd77-1a25-4a5c-8deb-59077098883b",
   "metadata": {},
   "source": [
    "### YandexART\n",
    "\n",
    "YandexART - это сеть для рисования картинок по текстовому запросу:"
   ]
  },
  {
   "cell_type": "code",
   "execution_count": null,
   "id": "a25ed891-6fac-47e8-b9f5-26993223515e",
   "metadata": {
    "execution": {
     "iopub.execute_input": "2024-10-29T08:49:29.877662Z",
     "iopub.status.busy": "2024-10-29T08:49:29.876471Z",
     "iopub.status.idle": "2024-10-29T08:49:30.445087Z",
     "shell.execute_reply": "2024-10-29T08:49:30.444285Z",
     "shell.execute_reply.started": "2024-10-29T08:49:29.877615Z"
    },
    "tags": []
   },
   "outputs": [],
   "source": [
    "import io\n",
    "from PIL import Image\n",
    "\n",
    "yart_model = sdk.models.image_generation('yandex-art')\n",
    "\n",
    "def generate(prompt):\n",
    "    res = yart_model.run_deferred(prompt)\n",
    "    res = res.wait()\n",
    "    return Image.open(io.BytesIO(res.image_bytes))\n",
    "\n",
    "generate(\"Сферический конь в вакууме\")"
   ]
  },
  {
   "cell_type": "markdown",
   "id": "426d6d2f-4b46-44d7-bdad-b729e3117412",
   "metadata": {},
   "source": [
    "### Другие сервисы Yandex Cloud\n",
    "\n",
    "Для работы с другими сервисами Yandex Cloud надо использовать специальные протоколы общения - REST. Ниже пара функций, которые помогут нам в дальнейшем вызывать разные функции в облаке. Не переживайте, если вы совсем не понимаете, что тут написано."
   ]
  },
  {
   "cell_type": "code",
   "execution_count": null,
   "id": "3aa07c14-9035-46cd-8803-ebeafc31e522",
   "metadata": {
    "execution": {
     "iopub.execute_input": "2024-10-29T08:47:31.273175Z",
     "iopub.status.busy": "2024-10-29T08:47:31.272185Z",
     "iopub.status.idle": "2024-10-29T08:47:31.293761Z",
     "shell.execute_reply": "2024-10-29T08:47:31.292846Z",
     "shell.execute_reply.started": "2024-10-29T08:47:31.273130Z"
    },
    "tags": []
   },
   "outputs": [],
   "source": [
    "import requests\n",
    "import os\n",
    "\n",
    "def call_api(url, data):\n",
    "    headers = { \"Authorization\" : f\"Api-Key {api_key}\" }\n",
    "    return requests.post(url, json=data, headers=headers).json()\n",
    "\n",
    "def call_api_get(url, data):\n",
    "    headers = { \"Authorization\" : f\"Api-Key {api_key}\" }\n",
    "    return requests.get(url, headers=headers).json()"
   ]
  },
  {
   "cell_type": "markdown",
   "id": "9e20b29d-1e04-42e5-af7f-908cc0a4cc4c",
   "metadata": {},
   "source": [
    "### Распознаём текст на картинке\n",
    "\n",
    "Для распознавания текста на картике служит сервис Yandex Vision OCR. Рассмотрим следующую картинку:"
   ]
  },
  {
   "cell_type": "code",
   "execution_count": null,
   "id": "820958c6-4545-44aa-9b8e-bbe8477e6977",
   "metadata": {
    "execution": {
     "iopub.execute_input": "2024-10-29T08:56:05.412368Z",
     "iopub.status.busy": "2024-10-29T08:56:05.411344Z",
     "iopub.status.idle": "2024-10-29T08:56:05.472055Z",
     "shell.execute_reply": "2024-10-29T08:56:05.471081Z",
     "shell.execute_reply.started": "2024-10-29T08:56:05.412328Z"
    },
    "tags": []
   },
   "outputs": [],
   "source": [
    "from PIL import Image\n",
    "\n",
    "img = Image.open('slide.jpg')\n",
    "img"
   ]
  },
  {
   "cell_type": "markdown",
   "id": "08165dc9-3740-4c2d-97d5-04c7ccbb9990",
   "metadata": {},
   "source": [
    "Здесь для работы с картинками мы используем специальную библиотеку Python - PIL. Объект `Image` представляет собой картинку, которую можно считывать и записывать из файла, показывать и т.д.\n",
    "\n",
    "Функция `ocr` ниже берёт такую картинку и возвращает результат распознавания текстовых объектов на ней:"
   ]
  },
  {
   "cell_type": "code",
   "execution_count": null,
   "id": "177d0fcb-32a3-46be-9af7-d2898ce0264d",
   "metadata": {
    "execution": {
     "iopub.execute_input": "2024-10-29T08:56:31.888231Z",
     "iopub.status.busy": "2024-10-29T08:56:31.886616Z",
     "iopub.status.idle": "2024-10-29T08:56:32.128297Z",
     "shell.execute_reply": "2024-10-29T08:56:32.127433Z",
     "shell.execute_reply.started": "2024-10-29T08:56:31.888182Z"
    },
    "tags": []
   },
   "outputs": [],
   "source": [
    "from io import BytesIO\n",
    "import base64\n",
    "\n",
    "def ocr(img):\n",
    "    buffer = BytesIO()\n",
    "    img.save(buffer,format=\"JPEG\")\n",
    "    myimage = buffer.getvalue()\n",
    "\n",
    "    j = {\n",
    "      \"mimeType\": \"JPEG\",\n",
    "      \"languageCodes\": [\"*\"],\n",
    "      \"model\": \"page\",\n",
    "      \"content\": base64.b64encode(myimage).decode('utf-8')\n",
    "    }\n",
    "    res = call_api(\"https://ocr.api.cloud.yandex.net/ocr/v1/recognizeText\",j)\n",
    "    return res\n",
    "\n",
    "ocr(img)"
   ]
  },
  {
   "cell_type": "markdown",
   "id": "b0baf781-904d-48d1-9e48-141233277fce",
   "metadata": {},
   "source": [
    "Чтобы получить только текст, используем такой вариант:"
   ]
  },
  {
   "cell_type": "code",
   "execution_count": null,
   "id": "f7236c2e-595d-4ca1-914b-4b8d4b07d1dc",
   "metadata": {
    "execution": {
     "iopub.execute_input": "2024-10-29T08:57:36.106139Z",
     "iopub.status.busy": "2024-10-29T08:57:36.105031Z",
     "iopub.status.idle": "2024-10-29T08:57:36.345329Z",
     "shell.execute_reply": "2024-10-29T08:57:36.344405Z",
     "shell.execute_reply.started": "2024-10-29T08:57:36.106097Z"
    },
    "tags": []
   },
   "outputs": [],
   "source": [
    "def ocr_text(img):\n",
    "    res = ocr(img)\n",
    "    return res['result']['textAnnotation']['fullText']\n",
    "\n",
    "txt = ocr_text(img)\n",
    "print(txt)"
   ]
  },
  {
   "cell_type": "markdown",
   "id": "e5c7b223-56cf-4e20-a1f6-c87c397c4042",
   "metadata": {},
   "source": [
    "Теперь этот текст можно подать на вход gpt-модели, чтобы получить более красивый ответ, отформатированный в формате Markdown:"
   ]
  },
  {
   "cell_type": "code",
   "execution_count": null,
   "id": "b577aa2b-845b-4116-9a52-f5d9125efe28",
   "metadata": {
    "execution": {
     "iopub.execute_input": "2024-10-29T08:59:17.792611Z",
     "iopub.status.busy": "2024-10-29T08:59:17.791246Z",
     "iopub.status.idle": "2024-10-29T08:59:18.928024Z",
     "shell.execute_reply": "2024-10-29T08:59:18.927041Z",
     "shell.execute_reply.started": "2024-10-29T08:59:17.792567Z"
    },
    "tags": []
   },
   "outputs": [],
   "source": [
    "prompt = \"\"\"Ты - научный редактор. Тебе на вход подаётся текст в тройных обратных кавычках, распознанный \n",
    "со слайдов презентации. Пожалуйста, приведи этот текст в аккуратный вид и представь его в формате Markdown.\n",
    "Текст: ```{}```\n",
    "\"\"\"\n",
    "\n",
    "res = gpt(prompt.format(txt))\n",
    "print(res)"
   ]
  },
  {
   "cell_type": "markdown",
   "id": "aba42acd-a58f-4755-872d-8c6a2b3452ba",
   "metadata": {},
   "source": [
    "### Синтез речи\n",
    "\n",
    "Для синтеза речи будем использовать специальную библиотеку *Yandex SpeechKit*. Мы опишем функцию, которой можно передать на вход текст, а на выходе получить речь:"
   ]
  },
  {
   "cell_type": "code",
   "execution_count": null,
   "id": "4e6d2b89-4e9e-4915-b737-5e5dc11a1a69",
   "metadata": {
    "execution": {
     "iopub.execute_input": "2024-10-29T09:00:27.264192Z",
     "iopub.status.busy": "2024-10-29T09:00:27.262831Z",
     "iopub.status.idle": "2024-10-29T09:00:49.099987Z",
     "shell.execute_reply": "2024-10-29T09:00:49.099033Z",
     "shell.execute_reply.started": "2024-10-29T09:00:27.264141Z"
    },
    "tags": []
   },
   "outputs": [],
   "source": [
    "from speechkit import model_repository, configure_credentials, creds\n",
    "\n",
    "# Аутентификация через API-ключ.\n",
    "configure_credentials(\n",
    "   yandex_credentials=creds.YandexCredentials(\n",
    "      api_key=api_key\n",
    "   )\n",
    ")\n",
    "\n",
    "def synthesize(text,voice='jane'):\n",
    "   model = model_repository.synthesis_model()\n",
    "\n",
    "   # Задайте настройки синтеза.\n",
    "   model.voice = voice\n",
    "\n",
    "   # Синтез речи и создание аудио с результатом.\n",
    "   result = model.synthesize(text, raw_format=False)\n",
    "   return result\n",
    "\n",
    "res = synthesize('Привет, как ты?')\n",
    "res"
   ]
  },
  {
   "cell_type": "markdown",
   "id": "154e6614-b865-45f8-95a5-cfee2f392aaa",
   "metadata": {},
   "source": [
    "Можем скомбинировать синтез с gpt, и получится синтезатор анекдотов:"
   ]
  },
  {
   "cell_type": "code",
   "execution_count": null,
   "id": "e595525d-bdb8-422c-b7cf-1921a36c8c37",
   "metadata": {
    "execution": {
     "iopub.execute_input": "2024-10-29T09:01:20.463788Z",
     "iopub.status.busy": "2024-10-29T09:01:20.462569Z",
     "iopub.status.idle": "2024-10-29T09:01:41.811360Z",
     "shell.execute_reply": "2024-10-29T09:01:41.810382Z",
     "shell.execute_reply.started": "2024-10-29T09:01:20.463739Z"
    },
    "tags": []
   },
   "outputs": [],
   "source": [
    "res = gpt(\"Расскажи анекдот про Вовочку\")\n",
    "res = synthesize(res)\n",
    "res"
   ]
  },
  {
   "cell_type": "markdown",
   "id": "61f97d7f-3845-49cc-9cc3-5bef0fef849c",
   "metadata": {},
   "source": [
    "С фрагментами речи можно выполнять операцию сложения, чтобы смонтировать целую передачу из анекдотов. Также мы используем разные голоса, чтобы было интереснее слушать."
   ]
  },
  {
   "cell_type": "code",
   "execution_count": null,
   "id": "3ce3cfd1-32d1-4277-85c5-06734d91a74c",
   "metadata": {
    "execution": {
     "iopub.execute_input": "2024-10-29T09:02:03.484585Z",
     "iopub.status.busy": "2024-10-29T09:02:03.483369Z",
     "iopub.status.idle": "2024-10-29T09:04:16.940503Z",
     "shell.execute_reply": "2024-10-29T09:04:16.939698Z",
     "shell.execute_reply.started": "2024-10-29T09:02:03.484545Z"
    },
    "tags": []
   },
   "outputs": [],
   "source": [
    "topics = ['Вовочку','Русского и литовца','Математику']\n",
    "anecdote_radio = None\n",
    "for x in topics:\n",
    "    print(f\"Генерирую анекдот про {x}\")\n",
    "    f = synthesize(f'Анекдот про {x}',voice='julia')\n",
    "    if anecdote_radio:\n",
    "        anecdote_radio +=f\n",
    "    else:\n",
    "        anecdote_radio = f\n",
    "    f = synthesize(gpt.invoke(f\"Расскажи анекдот про {x}\"),voice='zahar')\n",
    "    anecdote_radio += f\n",
    "    \n",
    "anecdote_radio"
   ]
  },
  {
   "cell_type": "markdown",
   "id": "279e4134-c123-447d-928a-08ffca672b54",
   "metadata": {},
   "source": [
    "### Распознавание речи\n",
    "\n",
    "SpeechKit может решать обратную задачу - распознавание речи. Для этого опишем функцию `reco`, и передадим туда сгенерированную нами на прошлом шаге \"передачу анекдотов\"."
   ]
  },
  {
   "cell_type": "code",
   "execution_count": null,
   "id": "6131b707-de07-4e0e-bc40-e5616f2af8ab",
   "metadata": {
    "execution": {
     "iopub.execute_input": "2024-10-29T09:11:39.443143Z",
     "iopub.status.busy": "2024-10-29T09:11:39.441877Z",
     "iopub.status.idle": "2024-10-29T09:12:02.447908Z",
     "shell.execute_reply": "2024-10-29T09:12:02.446980Z",
     "shell.execute_reply.started": "2024-10-29T09:11:39.443091Z"
    },
    "tags": []
   },
   "outputs": [],
   "source": [
    "from speechkit.stt import AudioProcessingType\n",
    "\n",
    "def reco(bin):\n",
    "    model = model_repository.recognition_model()\n",
    "    model.model = 'general'\n",
    "    model.language = 'ru-RU'\n",
    "    model.audio_processing_type = AudioProcessingType.Full\n",
    "    result = model.transcribe(bin)\n",
    "    # можно использовать transcribe_file для распознавания файла с речью\n",
    "    return ' '.join(x.normalized_text for x in result)\n",
    "\n",
    "reco(anecdote_radio)"
   ]
  },
  {
   "cell_type": "markdown",
   "id": "a9edb7bb-ce5c-4ca3-b9ea-03c2e882ea57",
   "metadata": {},
   "source": [
    "## Создаём телеграм-бота\n",
    "\n",
    "Для интерфейса с пользователем удобно использовать телеграм-бота. Первым делом при создании бота нам необходимо создать бота в Telegram, используя специального системного бота **botfather**. Ему нужно дать команду **/newbot**, заполнить ряд полей, и получить в итоге специальный **токен** такого вида:\n",
    "\n",
    "```\n",
    "7292776300:AAGeoTIVI4pjNTxuCW7UckKck5G1ZNfFidw\n",
    "```\n",
    "\n",
    "Этот токен необходимо записать в переменную **tg_token** ниже.\n",
    "\n",
    "После этого запустите ячейку ниже, описывающую простейшего бота:\n"
   ]
  },
  {
   "cell_type": "code",
   "execution_count": null,
   "id": "3dc14844-6f0e-4f1c-bfe6-b7f190f3ed8d",
   "metadata": {
    "execution": {
     "iopub.execute_input": "2024-10-29T09:26:29.204203Z",
     "iopub.status.busy": "2024-10-29T09:26:29.203142Z",
     "iopub.status.idle": "2024-10-29T09:27:59.682673Z",
     "shell.execute_reply": "2024-10-29T09:27:59.681761Z",
     "shell.execute_reply.started": "2024-10-29T09:26:29.204163Z"
    },
    "tags": []
   },
   "outputs": [],
   "source": [
    "import telebot \n",
    "\n",
    "telegram_token = '<сюда поместите свой токен>'\n",
    "\n",
    "bot = telebot.TeleBot(telegram_token)\n",
    "\n",
    "# Обработчик команды /start\n",
    "@bot.message_handler(commands=['start'])\n",
    "def start(message):\n",
    "    # Отправляем приветственное сообщение\n",
    "    bot.send_message(message.chat.id,\n",
    "                     'Привет, я бот, как дела?')\n",
    "\n",
    "# Обработчик для сообщений, содержащих слово \"анекдот\"\n",
    "@bot.message_handler(func=lambda message: 'анекдот' in message.text.lower())\n",
    "def handle_anecdote(message):\n",
    "    bot.send_message(message.chat.id, f\"Вы хотите анекдот? А я их все забыл...\")\n",
    "    \n",
    "# Обработчик для всех входящих сообщений\n",
    "@bot.message_handler(func=lambda message: True)\n",
    "def handle_message(message):\n",
    "    bot.send_message(message.chat.id, f\"Привет, вы сказали {message.text}.\")\n",
    "    \n",
    "# Запуск бота\n",
    "bot.polling(none_stop=True)"
   ]
  },
  {
   "cell_type": "markdown",
   "id": "ec6bc8af-08fd-4fe8-9a8f-7d355207df68",
   "metadata": {},
   "source": [
    "Ячейка выше будет выполняться бесконечно, пока вы явно её не остановите клавишей \"стоп\" (квадратик наверху). Пока ячейка работает - ваш бот в Telegram будет окликаться на сообщения. Когда вы останавливате ячейку, или DataSphere выклбчается - бот перестаёт работать. Чтобы он работал всегда - надо использовать более хитрые возможности Yandex Cloud, с которыми мы не будем знакомиться.\n",
    "\n",
    "Ниже содержится код бота, который умеет принимать и посылать картинки и аудиосообщения. Используйте его в качестве отправной точки для построения своего проекта."
   ]
  },
  {
   "cell_type": "code",
   "execution_count": null,
   "id": "9c6aba8a-406b-4411-b845-2c267d9200af",
   "metadata": {
    "execution": {
     "iopub.execute_input": "2024-10-29T09:29:42.814117Z",
     "iopub.status.busy": "2024-10-29T09:29:42.812962Z",
     "iopub.status.idle": "2024-10-29T09:32:17.904686Z",
     "shell.execute_reply": "2024-10-29T09:32:17.903788Z",
     "shell.execute_reply.started": "2024-10-29T09:29:42.814058Z"
    },
    "tags": []
   },
   "outputs": [],
   "source": [
    "import io\n",
    "from PIL import Image\n",
    "\n",
    "bot = telebot.TeleBot(telegram_token)\n",
    "\n",
    "# Обработчик команды /start\n",
    "@bot.message_handler(commands=['start'])\n",
    "def start(message):\n",
    "    # Отправляем приветственное сообщение\n",
    "    bot.send_message(message.chat.id,\n",
    "                     'Привет, я бот, как дела?')\n",
    "\n",
    "# Обработчик для сообщений, содержащих слово \"анекдот\"\n",
    "# В ответ на это бот посылает звуковой файл с анекдотами, который нами был сгенерирован ранее\n",
    "@bot.message_handler(func=lambda message: 'анекдот' in message.text.lower())\n",
    "def handle_anecdote(message):\n",
    "    audio_buffer = io.BytesIO()\n",
    "    anecdote_radio.export(audio_buffer, format=\"ogg\", codec=\"libopus\")\n",
    "    audio_buffer.seek(0)\n",
    "    # Используйте одну из команд ниже для посылки голосового сообщения или аудио-файла\n",
    "    #bot.send_audio(message.chat.id, audio_buffer)\n",
    "    bot.send_voice(message.chat.id, audio_buffer)\n",
    "\n",
    "# Обработчик для сообщений, содержащих слово \"нарисуй\"\n",
    "# В ответ на это бот посылает сгенерированную картинку\n",
    "@bot.message_handler(func=lambda message: 'нарисуй' in message.text.lower())\n",
    "def handle_anecdote(message):\n",
    "    img = generate(message.text)\n",
    "    bot.send_photo(message.chat.id, img)\n",
    "\n",
    "    \n",
    "# Обработчик голосовых сообщений\n",
    "@bot.message_handler(content_types=['voice'])\n",
    "def handle_voice_message(message):\n",
    "    # Получаем инфомацию о файле\n",
    "    voice_file_info = bot.get_file(message.voice.file_id)\n",
    "    # Скачиваем файл\n",
    "    downloaded_file = bot.download_file(voice_file_info.file_path)\n",
    "    res = reco(downloaded_file)\n",
    "    bot.reply_to(message, f\"Получено голосовое сообщение: {res}\")\n",
    "\n",
    "# Обработчик картинок\n",
    "@bot.message_handler(content_types=['photo'])\n",
    "def handle_image_message(message):\n",
    "    highest_res_photo = message.photo[-1]  # Берём вариант фото с макс разрешением\n",
    "    file_info = bot.get_file(highest_res_photo.file_id)\n",
    "    # скачиваем файл\n",
    "    downloaded_file = bot.download_file(file_info.file_path)\n",
    "    img = Image.open(io.BytesIO(downloaded_file))\n",
    "    res = ocr_text(img)\n",
    "    bot.reply_to(message, f\"Текст на картинке: {res}\")\n",
    "    \n",
    "# Обработчик для всех входящих сообщений\n",
    "@bot.message_handler(func=lambda message: True)\n",
    "def handle_message(message):\n",
    "    bot.send_message(message.chat.id, f\"Привет, вы сказали {message.text}.\")\n",
    "    \n",
    "# Запуск бота\n",
    "print(\"Бот готов к работе\")\n",
    "bot.polling(none_stop=True)"
   ]
  },
  {
   "cell_type": "markdown",
   "id": "448c6742-2f72-429e-a8cc-5e8aa9b50fc0",
   "metadata": {},
   "source": [
    "## Создаём веб-приложение\n",
    "\n",
    "Другой способ построения интерфейса приложения - это веб-приложение, к которому можно обратиться через интернет с помощью браузера. Для простых интерфейсов можно использоваться простую библиотеку [Gradio](https://www.gradio.app/). Напишем приложение, которое будет рисовать картинку по запросу.\n",
    "\n",
    "Приложение устроено следующим образом:\n",
    "* Мы описываем, как устроен интерфейс приложения, внутри команды `with gr.Blocks() as app`.\n",
    "* Интерфейс можем содержать разные элементы: текст (`gr.Markdown`), строки для ввода текста (`gr.Textbox`), элементы для ввода или вывода изображений (`gr.Image`) и другие.\n",
    "* Для разметки интерфейса используется **сетка**, состоящая из строк и столбцов.\n",
    "   - Команда `with gr.Row():` означает начало строки. Все дальнейшие элементы будут располагаться в одной строке горизонтально\n",
    "   - Команда `with gr.Column():` означает начало столбца, и все элементы внутри будут вертикальны\n",
    "   - По умолчанию все элементы внутри `gr.Blocks()` располагаются вертикально\n",
    "* Для запуска приложения используем кнопку `gr.Button()`, при этом задаём **обработчик события** на нажатие кнопки командой `btn.click`. Мы указываем, какую функцию надо вызвать (`fn=...`), какие аргументы передать ей на вход (`inputs=...`, в нашем случае это поле ввода `inp`), и куда надо записать результат функции (`outputs=...`, в нашем случае - это поле с картинкой `outp`).\n",
    "\n",
    "Когда приложение запускается, с ним можно работать прямо из DataSphere, либо из любого браузера, подключенного к интернету. При запуске приложение выдает примерно такую строчку:\n",
    "```\n",
    "Running on public URL: https://b245e0aa5f432b4f65.gradio.live\n",
    "```\n",
    "По этому адресу любой желающий может подключиться к приложению - но только пока у нас работает ячейка в DataSphere.\n"
   ]
  },
  {
   "cell_type": "code",
   "execution_count": null,
   "id": "b712fa76-06f5-48c5-ad52-b051b1921c51",
   "metadata": {
    "execution": {
     "iopub.execute_input": "2024-10-29T09:42:31.130645Z",
     "iopub.status.busy": "2024-10-29T09:42:31.129718Z",
     "iopub.status.idle": "2024-10-29T09:42:34.112959Z",
     "shell.execute_reply": "2024-10-29T09:42:34.112217Z",
     "shell.execute_reply.started": "2024-10-29T09:42:31.130594Z"
    },
    "tags": []
   },
   "outputs": [],
   "source": [
    "import gradio as gr\n",
    "\n",
    "def run(prompt,style):\n",
    "    return generate(prompt+' в стиле '+style)\n",
    "\n",
    "with gr.Blocks() as app:\n",
    "    gr.Markdown('## Рисовалка')\n",
    "    gr.Markdown('Это приложение нарисует вам картинку')\n",
    "    with gr.Row(): # Начинаем строчку интерфейса\n",
    "        with gr.Column():\n",
    "            inp = gr.Textbox(placeholder='Напиши, что нарисовать', label='Промпт')\n",
    "            style = gr.Dropdown(['Ван гог','Куинджи','Стимпанк'])\n",
    "        outp = gr.Image(label='Результат')\n",
    "    btn = gr.Button(\"Нарисовать\")\n",
    "    btn.click(fn=run,inputs=[inp,style],outputs=outp)\n",
    "    \n",
    "app.launch(share=True)"
   ]
  },
  {
   "cell_type": "code",
   "execution_count": null,
   "id": "5b236fe1-9b95-40a5-b0e9-6b4572542883",
   "metadata": {},
   "outputs": [],
   "source": []
  }
 ],
 "metadata": {
  "kernelspec": {
   "display_name": "fresh",
   "language": "python",
   "name": "python3"
  },
  "language_info": {
   "codemirror_mode": {
    "name": "ipython",
    "version": 3
   },
   "file_extension": ".py",
   "mimetype": "text/x-python",
   "name": "python",
   "nbconvert_exporter": "python",
   "pygments_lexer": "ipython3",
   "version": "3.10.13"
  }
 },
 "nbformat": 4,
 "nbformat_minor": 5
}
