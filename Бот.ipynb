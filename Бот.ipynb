{
 "cells": [
  {
   "cell_type": "markdown",
   "id": "ee149ac5",
   "metadata": {
    "cellId": "mes8twdaihp199vumyadbj",
    "execution_id": "dd6efd9c-99e4-4ce2-b68d-5a6249bf0a13"
   },
   "source": [
    "## Вопрос ответный бот \n",
    "\n",
    "Для создания вопрос-ответных ботов на какую-то конкретную тему используют подход, называемый **Retrival-Augmented Generation**. Бот опирается на какую-то коллекцию текстов - базу знаний. Когда пользователь задаёт вопрос, ищутся тексты, похожие на его вопрос - и даются в качестве входного текста модели GPT.\n",
    "\n",
    "![](images/hp_rag.svg)\n",
    "\n",
    "Для создания таких ботов часто используется библиотека [LangChain](https://python.langchain.com). Для начала, установим `langchain` и сопутствующие библиотеки."
   ]
  },
  {
   "cell_type": "code",
   "execution_count": null,
   "id": "e26382e7",
   "metadata": {
    "cellId": "yzdzyw1o8ujhmnrk4xly6m",
    "tags": []
   },
   "outputs": [],
   "source": [
    "%pip install nltk==3.9.1 telebot==0.0.5 langchain==0.2.1 telebot sentence_transformers==3.2.1 langchain_community==0.2.4 langchain_chroma==0.1.4 unstructured yandex_chain==0.0.9 yandexcloud"
   ]
  },
  {
   "cell_type": "markdown",
   "id": "d0bf3cbc-24e8-4cee-84b4-cd4773454d8c",
   "metadata": {
    "cellId": "01gt55s25xlq8thmgt142tx",
    "execution_id": "202bd627-2f9f-4492-928d-9d30336acd19",
    "tags": []
   },
   "source": [
    "## Википедия Гарри Поттера\n",
    "\n",
    "В нашем примере мы будет строить бота на основе [Harry Potter Fandom Wiki](https://harrypotter.fandom.com/). Тексты из этой вики уже находятся в репозитории, их надо лишь разархивировать:\n"
   ]
  },
  {
   "cell_type": "code",
   "execution_count": null,
   "id": "fcd8fa52-ae36-4021-9ce4-27b7c41e867f",
   "metadata": {
    "tags": []
   },
   "outputs": [],
   "source": [
    "!7za x data/harry_ctext.zip"
   ]
  },
  {
   "cell_type": "markdown",
   "id": "fac29b3c-ac17-4dc1-928f-e52f25a6ef99",
   "metadata": {},
   "source": [
    "У нас в проекте появилась директория `content`, в которой лежат все текста. Вот как выглядит отдельно взятый текст:"
   ]
  },
  {
   "cell_type": "code",
   "execution_count": null,
   "id": "d3854730-3448-418a-a401-3f2871b4d85f",
   "metadata": {
    "tags": []
   },
   "outputs": [],
   "source": [
    "with open('content/ctext/Белые искры.txt') as f:\n",
    "    print(f.read())"
   ]
  },
  {
   "cell_type": "markdown",
   "id": "60cda52e-1229-4cf2-810b-83fbaecc01c1",
   "metadata": {},
   "source": [
    "Выполним несколько подготовительных действий..."
   ]
  },
  {
   "cell_type": "code",
   "execution_count": null,
   "id": "243ae36a-94fe-4bcf-b03a-4442f8931dd2",
   "metadata": {
    "tags": []
   },
   "outputs": [],
   "source": [
    "import nltk\n",
    "nltk.download('punkt')"
   ]
  },
  {
   "cell_type": "markdown",
   "id": "419bbe72-1591-4acf-9fb7-9135b35ddb28",
   "metadata": {},
   "source": [
    "### Разбиваем текст на фрагменты\n",
    "\n",
    "> **ВНИМАНИЕ!!!** Ниже мы будем строить базу знаний для бота на основе текстов о Гарри Поттере. Поскольку построение базы знаний - времязатратное мероприятие, **вы можете пропустить** (не выполнять) **следующие несколько ячеек**, если просто хотите посмотреть, как работает бот. Если вы решите создавать своего бота на основе своей текстовой базы знаний, то нужно будет выполнять ячейки ниже, чтобы проиндексировать все тексты. \n",
    "\n",
    "Для поиска нам нужно будет выбирать достаточно небольшие фрагменты текста. Поэтому, если вдруг в базе есть большие тексты, из необходимо разбить на кусочки. Вот как это сделать:"
   ]
  },
  {
   "cell_type": "code",
   "execution_count": null,
   "id": "3c9d383f",
   "metadata": {
    "cellId": "503n864wu3akn1mjo318yj",
    "tags": []
   },
   "outputs": [],
   "source": [
    "import langchain\n",
    "from langchain_text_splitters import RecursiveCharacterTextSplitter\n",
    "from langchain_community.document_loaders import DirectoryLoader\n",
    "\n",
    "chunk_size = 2048\n",
    "chunk_overlap = 100\n",
    "source_dir = \"content/ctext\"\n",
    "\n",
    "loader = DirectoryLoader(\n",
    "    source_dir, glob=\"*.txt\", show_progress=True, recursive=True\n",
    ")\n",
    "splitter = RecursiveCharacterTextSplitter(\n",
    "    chunk_size=chunk_size, chunk_overlap=chunk_overlap\n",
    ")\n",
    "fragments = splitter.create_documents([x.page_content for x in loader.load()])\n",
    "print(f\"Количество кусочков = {len(fragments)}\")"
   ]
  },
  {
   "cell_type": "markdown",
   "id": "9068ad70",
   "metadata": {
    "cellId": "xmlbo4mkcqt1zjx877mza1",
    "execution_id": "1a16dc51-9ba9-4725-875d-f9a085e1e587"
   },
   "source": [
    "### Сохраняем фрагменты в базу данных\n",
    "\n",
    "Для поиска нужных фрагментов мы будем использовать хитрый подход - **эмбеддинги**. Каждому тексту будет сопоставляться некоторый вектор (набор числел), в соответствии с его смыслом. Мы дальше будем просто искать похожие вектора на наш запрос."
   ]
  },
  {
   "cell_type": "markdown",
   "id": "62246051-d183-44f3-812c-4a7a9b386b38",
   "metadata": {},
   "source": [
    "Вот как можно вычислить такой вектор для текста:\n",
    "\n",
    "> Не забудьте добавить секрет **api_key** и **folder_id** в свой проект DataSphere!\n"
   ]
  },
  {
   "cell_type": "code",
   "execution_count": null,
   "id": "1a9a5705",
   "metadata": {
    "cellId": "nfqfqhfm1o008d49oy4786s",
    "tags": []
   },
   "outputs": [],
   "source": [
    "from yandex_chain import YandexEmbeddings\n",
    "import os\n",
    "\n",
    "api_key = os.environ[\"api_key\"]\n",
    "folder_id = os.environ[\"folder_id\"]\n",
    "\n",
    "embeddings = YandexEmbeddings(folder_id=folder_id, api_key=api_key, sleep_interval=0.1)\n",
    "vec = embeddings.embed_query(\"Hello, world!\")\n",
    "len(vec)"
   ]
  },
  {
   "cell_type": "markdown",
   "id": "9f6f614d",
   "metadata": {
    "cellId": "q5znrcj1wan9h6ddvj28p",
    "execution_id": "dbfc733d-c9d0-4c6f-af7c-301b3d231364"
   },
   "source": [
    "Теперь нам нужно проиндексировать все кусочки текстов\n",
    "\n",
    "> **ВНИМАНИЕ**: Этот код выполняется долго (**20 минут**)! Выполняйте его только в том случае, если вы поменяете содержимое базы знаний, чтобы сделать своего бота!"
   ]
  },
  {
   "cell_type": "code",
   "execution_count": null,
   "id": "475fab93",
   "metadata": {
    "cellId": "5tmslotcscignkmh50g49p",
    "tags": []
   },
   "outputs": [],
   "source": [
    "from langchain_chroma import Chroma\n",
    "\n",
    "db_dir = \"content\"\n",
    "\n",
    "db = Chroma(persist_directory=db_dir, embedding_function=embeddings)\n",
    "db.add_documents(fragments)"
   ]
  },
  {
   "cell_type": "markdown",
   "id": "1cabc989-711a-40c0-8f2a-784a533e996d",
   "metadata": {},
   "source": [
    "> **ВНИМАНИЕ!!!** Чтобы просто посмотреть, как работает пример с Гарри Поттером, воспользуемся уже созданной ранее векторной базой данных и просто её разархивируем. Если вы делаете своего бота, то эту ячейку выполнять **не нужно**, чтоюы не стереть созданную ранее базу знаний."
   ]
  },
  {
   "cell_type": "code",
   "execution_count": null,
   "id": "bcaa8e7d",
   "metadata": {
    "cellId": "j0bkb4g6igstk2umstio2j",
    "tags": []
   },
   "outputs": [],
   "source": [
    "!7za x data/cdb.zip"
   ]
  },
  {
   "cell_type": "markdown",
   "id": "31ff0044-cdea-49dd-a006-a1ef6ce5420a",
   "metadata": {},
   "source": [
    "Подключимся к этой базе:"
   ]
  },
  {
   "cell_type": "code",
   "execution_count": null,
   "id": "f3ee8720-d4c0-4a99-a046-dac62489a643",
   "metadata": {
    "tags": []
   },
   "outputs": [],
   "source": [
    "from langchain_chroma import Chroma\n",
    "\n",
    "db_dir = \"content\"\n",
    "\n",
    "vec_store = Chroma(persist_directory=db_dir, embedding_function=embeddings)"
   ]
  },
  {
   "cell_type": "markdown",
   "id": "6dfb33a2-2946-4c60-899b-f4c0d6ddcbfc",
   "metadata": {},
   "source": [
    "Теперь посмотрим, насколько хорошо находятся фрагменты текста по какому-то запросу:"
   ]
  },
  {
   "cell_type": "code",
   "execution_count": null,
   "id": "2f4be3a5",
   "metadata": {
    "cellId": "fdty939nkuf433bv37l2cs",
    "tags": []
   },
   "outputs": [],
   "source": [
    "q = \"Какое заклинание помогает левитировать?\"\n",
    "\n",
    "retriever = vec_store.as_retriever(search_kwargs={\"k\": 5})\n",
    "res = retriever.invoke(q)\n",
    "for x in res:\n",
    "    print(\"-\" * 40)\n",
    "    print(x.page_content)"
   ]
  },
  {
   "cell_type": "markdown",
   "id": "13c08e24-b385-4853-bad4-73c5aae88425",
   "metadata": {},
   "source": [
    "### Подключаемся к Yandex GPT\n",
    "\n",
    "Для формирования целостного ответа на вопрос пользователей нам потребуется обработать найденные фрагменты текста с помощью Yandex GPT. Мы уже учились с вами ранее (в файле **Кусочки**) работать с YandexGPT, здесь повторяем этот код."
   ]
  },
  {
   "cell_type": "code",
   "execution_count": null,
   "id": "423a58c1",
   "metadata": {
    "cellId": "j17m1mbp5hgxbgxvx0xnz",
    "tags": []
   },
   "outputs": [],
   "source": [
    "from yandex_chain import YandexLLM,YandexGPTModel\n",
    "\n",
    "instructions = \"\"\"\n",
    "Ты - дружелюбный чат-бот, отвечающий на вопросы про вселенную Гарри Поттера\n",
    "\"\"\"\n",
    "\n",
    "llm = YandexLLM(folder_id=folder_id,api_key=api_key, instruction_text=instructions, model=YandexGPTModel.Pro)\n",
    "\n",
    "llm.invoke(q)"
   ]
  },
  {
   "cell_type": "markdown",
   "id": "9bd75c79-ae33-4558-ae30-a2680ba6e67d",
   "metadata": {},
   "source": [
    "В данном примере мы пока что никак не использовали наши текстовые документы.\n",
    "\n",
    "### Собираем Retrieval-Augmented Generation\n",
    "\n",
    "Пришла пора соединить всё вместе и научить бота отвечать на вопросы, подглядывая в нашу текстовую базу знаний . Для этого используем механизм цепочек (*chains*):"
   ]
  },
  {
   "cell_type": "code",
   "execution_count": null,
   "id": "4a500165",
   "metadata": {
    "cellId": "77y4w5s6seg08g1utincn7a",
    "tags": []
   },
   "outputs": [],
   "source": [
    "import langchain \n",
    "import langchain.prompts\n",
    "from langchain_core.output_parsers import StrOutputParser\n",
    "from langchain_core.runnables import RunnablePassthrough\n",
    "\n",
    "\n",
    "prompt = \"\"\"\n",
    "Ты - бот, умеющий разноваривать про вселенную Гарри Поттера. Пожалуйста, посмотри на \n",
    "текст ниже и ответь на вопрос, используя информацию из этого текста. Не надо писать про текст,\n",
    "пиши просто ответ, но достаточно подробный.\n",
    "Текст:\n",
    "-----\n",
    "{context}\n",
    "-----\n",
    "Вопрос:\n",
    "{question}\"\"\"\n",
    "\n",
    "prompt = langchain.prompts.PromptTemplate(\n",
    "    template=prompt, input_variables=[\"context\", \"question\"]\n",
    ")\n",
    "\n",
    "def join_docs(docs):\n",
    "    return \"\\n\\n\".join(doc.page_content for doc in docs)\n",
    "\n",
    "# Создаём цепочку\n",
    "chain = (\n",
    "    {\"context\": retriever | join_docs, \"question\": RunnablePassthrough()}\n",
    "    | prompt\n",
    "    | llm\n",
    "    | StrOutputParser()\n",
    ")\n",
    "\n",
    "answer = chain.invoke(q)\n",
    "print(answer)"
   ]
  },
  {
   "cell_type": "markdown",
   "id": "56c6c178-a3fe-411d-88d6-b0ee55498f5e",
   "metadata": {},
   "source": [
    "### Делаем телеграм-бота\n",
    "\n",
    "Теперь сделаем телеграм-бота для ответа на вопросы про вселенную Гарри Поттера. Как делать телеграм-бота мы уже знаем из примеров в файле **Кирпичики**. Сначала надо создать телеграм-бота в телеграме (с помощью **botfather**), и запомнить его секретный ключ в секрете DataSphere `tg_token`."
   ]
  },
  {
   "cell_type": "code",
   "execution_count": null,
   "id": "f511df20-551e-47b8-809c-52a9169a6c7c",
   "metadata": {
    "tags": []
   },
   "outputs": [],
   "source": [
    "import io,os\n",
    "import telebot\n",
    "from PIL import Image\n",
    "\n",
    "telegram_token = os.environ['tg_token']\n",
    "\n",
    "bot = telebot.TeleBot(telegram_token)\n",
    "\n",
    "# Обработчик команды /start\n",
    "@bot.message_handler(commands=['start'])\n",
    "def start(message):\n",
    "    # Отправляем приветственное сообщение\n",
    "    bot.send_message(message.chat.id,\n",
    "                     'Привет, я бот, который знает всё про вселенную Гарри Поттера. Спрашивай!')\n",
    "\n",
    "# Обработчик для всех входящих сообщений\n",
    "@bot.message_handler(func=lambda message: True)\n",
    "def handle_message(message):\n",
    "    answer = chain.invoke(message.text)\n",
    "    bot.send_message(message.chat.id, answer)\n",
    "    \n",
    "# Запуск бота\n",
    "print(\"Бот готов к работе\")\n",
    "bot.polling(none_stop=True)"
   ]
  },
  {
   "cell_type": "markdown",
   "id": "dd4e9a6d-fb49-4e22-a230-419de407ea30",
   "metadata": {},
   "source": [
    "### Делаем веб-интерфейс для чата\n",
    "\n",
    "Мы можем сделать простой веб-интерфейс для чата с помощью Gradio."
   ]
  },
  {
   "cell_type": "code",
   "execution_count": null,
   "id": "2a66bd8e-5ec1-44ff-a676-db22ca956a1b",
   "metadata": {
    "tags": []
   },
   "outputs": [],
   "source": [
    "import gradio as gr\n",
    "\n",
    "dialog = \"**Бот:** Привет! Что ты хочешь спросить?<br/>\"\n",
    "\n",
    "def run(txt):\n",
    "    global dialog\n",
    "    answer = chain.invoke(txt)\n",
    "    dialog += f\"**Я:** {txt}<br/>**Бот:** {answer}<br/>\"\n",
    "    return dialog\n",
    "\n",
    "with gr.Blocks() as app:\n",
    "    gr.Markdown('## Гарри Поттер Чат')\n",
    "    out = gr.Markdown(dialog)\n",
    "    inp = gr.Textbox(label='Твой вопрос')\n",
    "    btn = gr.Button('Сказать')\n",
    "    btn.click(fn=run,inputs=inp,outputs=out)\n",
    "\n",
    "app.launch(share=True)"
   ]
  },
  {
   "cell_type": "code",
   "execution_count": null,
   "id": "cd18ec77-7568-49bc-961d-cee6e976d85c",
   "metadata": {},
   "outputs": [],
   "source": []
  }
 ],
 "metadata": {
  "kernelspec": {
   "display_name": "DataSphere Kernel",
   "language": "python",
   "name": "python3"
  },
  "language_info": {
   "codemirror_mode": {
    "name": "ipython",
    "version": 3
   },
   "file_extension": ".py",
   "mimetype": "text/x-python",
   "name": "python",
   "nbconvert_exporter": "python",
   "pygments_lexer": "ipython3",
   "version": "3.10.12"
  },
  "notebookId": "369d3e82-763a-4bcd-b5cc-0cfe14f13f53",
  "notebookPath": "VideoQABot/LangChainQA.ipynb"
 },
 "nbformat": 4,
 "nbformat_minor": 5
}
