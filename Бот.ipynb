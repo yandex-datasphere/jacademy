{
 "cells": [
  {
   "cell_type": "markdown",
   "id": "ee149ac5",
   "metadata": {
    "cellId": "mes8twdaihp199vumyadbj",
    "execution_id": "dd6efd9c-99e4-4ce2-b68d-5a6249bf0a13"
   },
   "source": [
    "## Вопрос ответный бот \n",
    "\n",
    "Для создания вопрос-ответных ботов на какую-то конкретную тему используют подход, называемый **Retrival-Augmented Generation**. Бот опирается на какую-то коллекцию текстов - базу знаний. Когда пользователь задаёт вопрос, ищутся тексты, похожие на его вопрос - и даются в качестве входного текста модели GPT.\n",
    "\n",
    "![](images/hp_rag.svg)\n",
    "\n",
    "Для создания таких ботов часто используется библиотека [LangChain](https://python.langchain.com). Для начала, установим `langchain` и сопутствующие библиотеки."
   ]
  },
  {
   "cell_type": "code",
   "execution_count": 15,
   "id": "e26382e7",
   "metadata": {
    "cellId": "yzdzyw1o8ujhmnrk4xly6m",
    "execution": {
     "iopub.execute_input": "2024-10-24T21:44:36.891464Z",
     "iopub.status.busy": "2024-10-24T21:44:36.889876Z",
     "iopub.status.idle": "2024-10-24T21:44:40.260204Z",
     "shell.execute_reply": "2024-10-24T21:44:40.259260Z",
     "shell.execute_reply.started": "2024-10-24T21:44:36.891198Z"
    },
    "tags": []
   },
   "outputs": [
    {
     "name": "stdout",
     "output_type": "stream",
     "text": [
      "Defaulting to user installation because normal site-packages is not writeable\n",
      "Requirement already satisfied: nltk==3.9.1 in /home/jupyter/.local/lib/python3.10/site-packages (3.9.1)\n",
      "Requirement already satisfied: telebot==0.0.5 in /home/jupyter/.local/lib/python3.10/site-packages (0.0.5)\n",
      "Requirement already satisfied: langchain==0.2.1 in /home/jupyter/.local/lib/python3.10/site-packages (0.2.1)\n",
      "Requirement already satisfied: sentence_transformers==3.2.1 in /home/jupyter/.local/lib/python3.10/site-packages (3.2.1)\n",
      "Requirement already satisfied: langchain_community==0.2.4 in /home/jupyter/.local/lib/python3.10/site-packages (0.2.4)\n",
      "Requirement already satisfied: langchain_chroma==0.1.4 in /home/jupyter/.local/lib/python3.10/site-packages (0.1.4)\n",
      "Requirement already satisfied: unstructured in /home/jupyter/.local/lib/python3.10/site-packages (0.16.1)\n",
      "Requirement already satisfied: yandex_chain==0.0.9 in /home/jupyter/.local/lib/python3.10/site-packages (0.0.9)\n",
      "Requirement already satisfied: yandexcloud in /home/jupyter/.local/lib/python3.10/site-packages (0.322.0)\n",
      "Requirement already satisfied: click in /usr/local/lib/python3.10/dist-packages (from nltk==3.9.1) (8.1.6)\n",
      "Requirement already satisfied: joblib in /usr/local/lib/python3.10/dist-packages (from nltk==3.9.1) (1.3.1)\n",
      "Requirement already satisfied: regex>=2021.8.3 in /usr/local/lib/python3.10/dist-packages (from nltk==3.9.1) (2022.10.31)\n",
      "Requirement already satisfied: tqdm in /usr/local/lib/python3.10/dist-packages (from nltk==3.9.1) (4.65.0)\n",
      "Requirement already satisfied: pyTelegramBotAPI in /home/jupyter/.local/lib/python3.10/site-packages (from telebot==0.0.5) (4.23.0)\n",
      "Requirement already satisfied: requests in /home/jupyter/.local/lib/python3.10/site-packages (from telebot==0.0.5) (2.32.3)\n",
      "Requirement already satisfied: PyYAML>=5.3 in /usr/local/lib/python3.10/dist-packages (from langchain==0.2.1) (6.0.1)\n",
      "Requirement already satisfied: SQLAlchemy<3,>=1.4 in /usr/local/lib/python3.10/dist-packages (from langchain==0.2.1) (2.0.19)\n",
      "Requirement already satisfied: aiohttp<4.0.0,>=3.8.3 in /usr/local/lib/python3.10/dist-packages (from langchain==0.2.1) (3.8.5)\n",
      "Requirement already satisfied: async-timeout<5.0.0,>=4.0.0 in /usr/local/lib/python3.10/dist-packages (from langchain==0.2.1) (4.0.2)\n",
      "Requirement already satisfied: langchain-core<0.3.0,>=0.2.0 in /home/jupyter/.local/lib/python3.10/site-packages (from langchain==0.2.1) (0.2.41)\n",
      "Requirement already satisfied: langchain-text-splitters<0.3.0,>=0.2.0 in /home/jupyter/.local/lib/python3.10/site-packages (from langchain==0.2.1) (0.2.4)\n",
      "Requirement already satisfied: langsmith<0.2.0,>=0.1.17 in /home/jupyter/.local/lib/python3.10/site-packages (from langchain==0.2.1) (0.1.137)\n",
      "Requirement already satisfied: numpy<2,>=1 in /home/jupyter/.local/lib/python3.10/site-packages (from langchain==0.2.1) (1.26.4)\n",
      "Requirement already satisfied: pydantic<3,>=1 in /home/jupyter/.local/lib/python3.10/site-packages (from langchain==0.2.1) (2.9.2)\n",
      "Requirement already satisfied: tenacity<9.0.0,>=8.1.0 in /home/jupyter/.local/lib/python3.10/site-packages (from langchain==0.2.1) (8.5.0)\n",
      "Requirement already satisfied: transformers<5.0.0,>=4.41.0 in /home/jupyter/.local/lib/python3.10/site-packages (from sentence_transformers==3.2.1) (4.46.0)\n",
      "Requirement already satisfied: torch>=1.11.0 in /usr/local/lib/python3.10/dist-packages (from sentence_transformers==3.2.1) (2.0.1+cu118)\n",
      "Requirement already satisfied: scikit-learn in /usr/local/lib/python3.10/dist-packages (from sentence_transformers==3.2.1) (1.2.2)\n",
      "Requirement already satisfied: scipy in /usr/local/lib/python3.10/dist-packages (from sentence_transformers==3.2.1) (1.10.1)\n",
      "Requirement already satisfied: huggingface-hub>=0.20.0 in /home/jupyter/.local/lib/python3.10/site-packages (from sentence_transformers==3.2.1) (0.26.1)\n",
      "Requirement already satisfied: Pillow in /usr/local/lib/python3.10/dist-packages (from sentence_transformers==3.2.1) (9.4.0)\n",
      "Requirement already satisfied: dataclasses-json<0.7,>=0.5.7 in /home/jupyter/.local/lib/python3.10/site-packages (from langchain_community==0.2.4) (0.6.7)\n",
      "Requirement already satisfied: chromadb!=0.5.4,!=0.5.5,<0.6.0,>=0.4.0 in /home/jupyter/.local/lib/python3.10/site-packages (from langchain_chroma==0.1.4) (0.5.15)\n",
      "Requirement already satisfied: fastapi<1,>=0.95.2 in /home/jupyter/.local/lib/python3.10/site-packages (from langchain_chroma==0.1.4) (0.115.3)\n",
      "Requirement already satisfied: chardet in /usr/local/lib/python3.10/dist-packages (from unstructured) (4.0.0)\n",
      "Requirement already satisfied: filetype in /home/jupyter/.local/lib/python3.10/site-packages (from unstructured) (1.2.0)\n",
      "Requirement already satisfied: python-magic in /home/jupyter/.local/lib/python3.10/site-packages (from unstructured) (0.4.27)\n",
      "Requirement already satisfied: lxml in /usr/local/lib/python3.10/dist-packages (from unstructured) (4.9.3)\n",
      "Requirement already satisfied: beautifulsoup4 in /usr/local/lib/python3.10/dist-packages (from unstructured) (4.11.2)\n",
      "Requirement already satisfied: emoji in /home/jupyter/.local/lib/python3.10/site-packages (from unstructured) (2.14.0)\n",
      "Requirement already satisfied: python-iso639 in /home/jupyter/.local/lib/python3.10/site-packages (from unstructured) (2024.10.22)\n",
      "Requirement already satisfied: langdetect in /home/jupyter/.local/lib/python3.10/site-packages (from unstructured) (1.0.9)\n",
      "Requirement already satisfied: rapidfuzz in /home/jupyter/.local/lib/python3.10/site-packages (from unstructured) (3.10.0)\n",
      "Requirement already satisfied: backoff in /home/jupyter/.local/lib/python3.10/site-packages (from unstructured) (2.2.1)\n",
      "Requirement already satisfied: typing-extensions in /home/jupyter/.local/lib/python3.10/site-packages (from unstructured) (4.12.2)\n",
      "Requirement already satisfied: unstructured-client in /home/jupyter/.local/lib/python3.10/site-packages (from unstructured) (0.26.1)\n",
      "Requirement already satisfied: wrapt in /usr/local/lib/python3.10/dist-packages (from unstructured) (1.14.1)\n",
      "Requirement already satisfied: psutil in /kernel/lib/python3.10/site-packages (from unstructured) (6.0.0)\n",
      "Requirement already satisfied: python-oxmsg in /home/jupyter/.local/lib/python3.10/site-packages (from unstructured) (0.0.1)\n",
      "Requirement already satisfied: html5lib in /usr/local/lib/python3.10/dist-packages (from unstructured) (1.1)\n",
      "Requirement already satisfied: cryptography<43,>=41.0.7 in /home/jupyter/.local/lib/python3.10/site-packages (from yandexcloud) (42.0.8)\n",
      "Requirement already satisfied: grpcio<2,>=1.64.0 in /home/jupyter/.local/lib/python3.10/site-packages (from yandexcloud) (1.67.0)\n",
      "Requirement already satisfied: protobuf<5,>=4.25.3 in /home/jupyter/.local/lib/python3.10/site-packages (from yandexcloud) (4.25.5)\n",
      "Requirement already satisfied: googleapis-common-protos<2,>=1.63.0 in /home/jupyter/.local/lib/python3.10/site-packages (from yandexcloud) (1.65.0)\n",
      "Requirement already satisfied: pyjwt<3,>=2.8.0 in /home/jupyter/.local/lib/python3.10/site-packages (from yandexcloud) (2.9.0)\n",
      "Requirement already satisfied: six<2,>=1.16.0 in /usr/lib/python3/dist-packages (from yandexcloud) (1.16.0)\n",
      "Requirement already satisfied: attrs>=17.3.0 in /usr/local/lib/python3.10/dist-packages (from aiohttp<4.0.0,>=3.8.3->langchain==0.2.1) (23.1.0)\n",
      "Requirement already satisfied: charset-normalizer<4.0,>=2.0 in /usr/local/lib/python3.10/dist-packages (from aiohttp<4.0.0,>=3.8.3->langchain==0.2.1) (2.0.12)\n",
      "Requirement already satisfied: multidict<7.0,>=4.5 in /usr/local/lib/python3.10/dist-packages (from aiohttp<4.0.0,>=3.8.3->langchain==0.2.1) (6.0.4)\n",
      "Requirement already satisfied: yarl<2.0,>=1.0 in /usr/local/lib/python3.10/dist-packages (from aiohttp<4.0.0,>=3.8.3->langchain==0.2.1) (1.9.2)\n",
      "Requirement already satisfied: frozenlist>=1.1.1 in /usr/local/lib/python3.10/dist-packages (from aiohttp<4.0.0,>=3.8.3->langchain==0.2.1) (1.4.0)\n",
      "Requirement already satisfied: aiosignal>=1.1.2 in /usr/local/lib/python3.10/dist-packages (from aiohttp<4.0.0,>=3.8.3->langchain==0.2.1) (1.3.1)\n",
      "Requirement already satisfied: build>=1.0.3 in /home/jupyter/.local/lib/python3.10/site-packages (from chromadb!=0.5.4,!=0.5.5,<0.6.0,>=0.4.0->langchain_chroma==0.1.4) (1.2.2.post1)\n",
      "Requirement already satisfied: chroma-hnswlib==0.7.6 in /home/jupyter/.local/lib/python3.10/site-packages (from chromadb!=0.5.4,!=0.5.5,<0.6.0,>=0.4.0->langchain_chroma==0.1.4) (0.7.6)\n",
      "Requirement already satisfied: uvicorn>=0.18.3 in /home/jupyter/.local/lib/python3.10/site-packages (from uvicorn[standard]>=0.18.3->chromadb!=0.5.4,!=0.5.5,<0.6.0,>=0.4.0->langchain_chroma==0.1.4) (0.32.0)\n",
      "Requirement already satisfied: posthog>=2.4.0 in /home/jupyter/.local/lib/python3.10/site-packages (from chromadb!=0.5.4,!=0.5.5,<0.6.0,>=0.4.0->langchain_chroma==0.1.4) (3.7.0)\n",
      "Requirement already satisfied: onnxruntime>=1.14.1 in /home/jupyter/.local/lib/python3.10/site-packages (from chromadb!=0.5.4,!=0.5.5,<0.6.0,>=0.4.0->langchain_chroma==0.1.4) (1.19.2)\n",
      "Requirement already satisfied: opentelemetry-api>=1.2.0 in /home/jupyter/.local/lib/python3.10/site-packages (from chromadb!=0.5.4,!=0.5.5,<0.6.0,>=0.4.0->langchain_chroma==0.1.4) (1.27.0)\n",
      "Requirement already satisfied: opentelemetry-exporter-otlp-proto-grpc>=1.2.0 in /home/jupyter/.local/lib/python3.10/site-packages (from chromadb!=0.5.4,!=0.5.5,<0.6.0,>=0.4.0->langchain_chroma==0.1.4) (1.27.0)\n",
      "Requirement already satisfied: opentelemetry-instrumentation-fastapi>=0.41b0 in /home/jupyter/.local/lib/python3.10/site-packages (from chromadb!=0.5.4,!=0.5.5,<0.6.0,>=0.4.0->langchain_chroma==0.1.4) (0.48b0)\n",
      "Requirement already satisfied: opentelemetry-sdk>=1.2.0 in /home/jupyter/.local/lib/python3.10/site-packages (from chromadb!=0.5.4,!=0.5.5,<0.6.0,>=0.4.0->langchain_chroma==0.1.4) (1.27.0)\n",
      "Requirement already satisfied: tokenizers>=0.13.2 in /home/jupyter/.local/lib/python3.10/site-packages (from chromadb!=0.5.4,!=0.5.5,<0.6.0,>=0.4.0->langchain_chroma==0.1.4) (0.20.1)\n",
      "Requirement already satisfied: pypika>=0.48.9 in /home/jupyter/.local/lib/python3.10/site-packages (from chromadb!=0.5.4,!=0.5.5,<0.6.0,>=0.4.0->langchain_chroma==0.1.4) (0.48.9)\n",
      "Requirement already satisfied: overrides>=7.3.1 in /home/jupyter/.local/lib/python3.10/site-packages (from chromadb!=0.5.4,!=0.5.5,<0.6.0,>=0.4.0->langchain_chroma==0.1.4) (7.7.0)\n",
      "Requirement already satisfied: importlib-resources in /usr/local/lib/python3.10/dist-packages (from chromadb!=0.5.4,!=0.5.5,<0.6.0,>=0.4.0->langchain_chroma==0.1.4) (6.0.0)\n",
      "Requirement already satisfied: bcrypt>=4.0.1 in /usr/local/lib/python3.10/dist-packages (from chromadb!=0.5.4,!=0.5.5,<0.6.0,>=0.4.0->langchain_chroma==0.1.4) (4.0.1)\n",
      "Requirement already satisfied: typer>=0.9.0 in /usr/local/lib/python3.10/dist-packages (from chromadb!=0.5.4,!=0.5.5,<0.6.0,>=0.4.0->langchain_chroma==0.1.4) (0.9.0)\n",
      "Requirement already satisfied: kubernetes>=28.1.0 in /home/jupyter/.local/lib/python3.10/site-packages (from chromadb!=0.5.4,!=0.5.5,<0.6.0,>=0.4.0->langchain_chroma==0.1.4) (31.0.0)\n",
      "Requirement already satisfied: mmh3>=4.0.1 in /home/jupyter/.local/lib/python3.10/site-packages (from chromadb!=0.5.4,!=0.5.5,<0.6.0,>=0.4.0->langchain_chroma==0.1.4) (5.0.1)\n",
      "Requirement already satisfied: orjson>=3.9.12 in /home/jupyter/.local/lib/python3.10/site-packages (from chromadb!=0.5.4,!=0.5.5,<0.6.0,>=0.4.0->langchain_chroma==0.1.4) (3.10.10)\n",
      "Requirement already satisfied: httpx>=0.27.0 in /home/jupyter/.local/lib/python3.10/site-packages (from chromadb!=0.5.4,!=0.5.5,<0.6.0,>=0.4.0->langchain_chroma==0.1.4) (0.27.2)\n",
      "Requirement already satisfied: rich>=10.11.0 in /usr/local/lib/python3.10/dist-packages (from chromadb!=0.5.4,!=0.5.5,<0.6.0,>=0.4.0->langchain_chroma==0.1.4) (13.4.2)\n",
      "Requirement already satisfied: cffi>=1.12 in /usr/local/lib/python3.10/dist-packages (from cryptography<43,>=41.0.7->yandexcloud) (1.15.1)\n",
      "Requirement already satisfied: marshmallow<4.0.0,>=3.18.0 in /home/jupyter/.local/lib/python3.10/site-packages (from dataclasses-json<0.7,>=0.5.7->langchain_community==0.2.4) (3.23.0)\n",
      "Requirement already satisfied: typing-inspect<1,>=0.4.0 in /home/jupyter/.local/lib/python3.10/site-packages (from dataclasses-json<0.7,>=0.5.7->langchain_community==0.2.4) (0.9.0)\n",
      "Requirement already satisfied: starlette<0.42.0,>=0.40.0 in /home/jupyter/.local/lib/python3.10/site-packages (from fastapi<1,>=0.95.2->langchain_chroma==0.1.4) (0.41.0)\n",
      "Requirement already satisfied: filelock in /usr/local/lib/python3.10/dist-packages (from huggingface-hub>=0.20.0->sentence_transformers==3.2.1) (3.12.2)\n",
      "Requirement already satisfied: fsspec>=2023.5.0 in /usr/local/lib/python3.10/dist-packages (from huggingface-hub>=0.20.0->sentence_transformers==3.2.1) (2023.6.0)\n",
      "Requirement already satisfied: packaging>=20.9 in /home/jupyter/.local/lib/python3.10/site-packages (from huggingface-hub>=0.20.0->sentence_transformers==3.2.1) (24.1)\n",
      "Requirement already satisfied: jsonpatch<2.0,>=1.33 in /home/jupyter/.local/lib/python3.10/site-packages (from langchain-core<0.3.0,>=0.2.0->langchain==0.2.1) (1.33)\n",
      "Requirement already satisfied: requests-toolbelt<2.0.0,>=1.0.0 in /home/jupyter/.local/lib/python3.10/site-packages (from langsmith<0.2.0,>=0.1.17->langchain==0.2.1) (1.0.0)\n",
      "Requirement already satisfied: annotated-types>=0.6.0 in /home/jupyter/.local/lib/python3.10/site-packages (from pydantic<3,>=1->langchain==0.2.1) (0.7.0)\n",
      "Requirement already satisfied: pydantic-core==2.23.4 in /home/jupyter/.local/lib/python3.10/site-packages (from pydantic<3,>=1->langchain==0.2.1) (2.23.4)\n",
      "Requirement already satisfied: idna<4,>=2.5 in /usr/local/lib/python3.10/dist-packages (from requests->telebot==0.0.5) (3.4)\n",
      "Requirement already satisfied: urllib3<3,>=1.21.1 in /usr/local/lib/python3.10/dist-packages (from requests->telebot==0.0.5) (1.26.16)\n",
      "Requirement already satisfied: certifi>=2017.4.17 in /usr/local/lib/python3.10/dist-packages (from requests->telebot==0.0.5) (2023.7.22)\n",
      "Requirement already satisfied: greenlet!=0.4.17 in /usr/local/lib/python3.10/dist-packages (from SQLAlchemy<3,>=1.4->langchain==0.2.1) (2.0.2)\n",
      "Requirement already satisfied: sympy in /usr/local/lib/python3.10/dist-packages (from torch>=1.11.0->sentence_transformers==3.2.1) (1.11.1)\n",
      "Requirement already satisfied: networkx in /usr/local/lib/python3.10/dist-packages (from torch>=1.11.0->sentence_transformers==3.2.1) (3.1)\n",
      "Requirement already satisfied: jinja2 in /usr/local/lib/python3.10/dist-packages (from torch>=1.11.0->sentence_transformers==3.2.1) (3.1.2)\n",
      "Requirement already satisfied: triton==2.0.0 in /usr/local/lib/python3.10/dist-packages (from torch>=1.11.0->sentence_transformers==3.2.1) (2.0.0)\n",
      "Requirement already satisfied: cmake in /usr/local/lib/python3.10/dist-packages (from triton==2.0.0->torch>=1.11.0->sentence_transformers==3.2.1) (3.25.2)\n",
      "Requirement already satisfied: lit in /usr/local/lib/python3.10/dist-packages (from triton==2.0.0->torch>=1.11.0->sentence_transformers==3.2.1) (16.0.6)\n",
      "Requirement already satisfied: safetensors>=0.4.1 in /home/jupyter/.local/lib/python3.10/site-packages (from transformers<5.0.0,>=4.41.0->sentence_transformers==3.2.1) (0.4.5)\n",
      "Requirement already satisfied: soupsieve>1.2 in /usr/local/lib/python3.10/dist-packages (from beautifulsoup4->unstructured) (2.4.1)\n",
      "Requirement already satisfied: webencodings in /usr/local/lib/python3.10/dist-packages (from html5lib->unstructured) (0.5.1)\n",
      "Requirement already satisfied: olefile in /home/jupyter/.local/lib/python3.10/site-packages (from python-oxmsg->unstructured) (0.47)\n",
      "Requirement already satisfied: threadpoolctl>=2.0.0 in /usr/local/lib/python3.10/dist-packages (from scikit-learn->sentence_transformers==3.2.1) (3.2.0)\n",
      "Requirement already satisfied: eval-type-backport<0.3.0,>=0.2.0 in /home/jupyter/.local/lib/python3.10/site-packages (from unstructured-client->unstructured) (0.2.0)\n",
      "Requirement already satisfied: jsonpath-python<2.0.0,>=1.0.6 in /home/jupyter/.local/lib/python3.10/site-packages (from unstructured-client->unstructured) (1.0.6)\n",
      "Requirement already satisfied: nest-asyncio>=1.6.0 in /home/jupyter/.local/lib/python3.10/site-packages (from unstructured-client->unstructured) (1.6.0)\n",
      "Requirement already satisfied: pypdf>=4.0 in /home/jupyter/.local/lib/python3.10/site-packages (from unstructured-client->unstructured) (5.0.1)\n",
      "Requirement already satisfied: python-dateutil==2.8.2 in /usr/local/lib/python3.10/dist-packages (from unstructured-client->unstructured) (2.8.2)\n",
      "Requirement already satisfied: pyproject_hooks in /usr/local/lib/python3.10/dist-packages (from build>=1.0.3->chromadb!=0.5.4,!=0.5.5,<0.6.0,>=0.4.0->langchain_chroma==0.1.4) (1.0.0)\n",
      "Requirement already satisfied: tomli>=1.1.0 in /usr/local/lib/python3.10/dist-packages (from build>=1.0.3->chromadb!=0.5.4,!=0.5.5,<0.6.0,>=0.4.0->langchain_chroma==0.1.4) (2.0.1)\n",
      "Requirement already satisfied: pycparser in /usr/local/lib/python3.10/dist-packages (from cffi>=1.12->cryptography<43,>=41.0.7->yandexcloud) (2.21)\n",
      "Requirement already satisfied: anyio in /usr/local/lib/python3.10/dist-packages (from httpx>=0.27.0->chromadb!=0.5.4,!=0.5.5,<0.6.0,>=0.4.0->langchain_chroma==0.1.4) (3.7.1)\n",
      "Requirement already satisfied: httpcore==1.* in /home/jupyter/.local/lib/python3.10/site-packages (from httpx>=0.27.0->chromadb!=0.5.4,!=0.5.5,<0.6.0,>=0.4.0->langchain_chroma==0.1.4) (1.0.6)\n",
      "Requirement already satisfied: sniffio in /usr/local/lib/python3.10/dist-packages (from httpx>=0.27.0->chromadb!=0.5.4,!=0.5.5,<0.6.0,>=0.4.0->langchain_chroma==0.1.4) (1.3.0)\n",
      "Requirement already satisfied: h11<0.15,>=0.13 in /home/jupyter/.local/lib/python3.10/site-packages (from httpcore==1.*->httpx>=0.27.0->chromadb!=0.5.4,!=0.5.5,<0.6.0,>=0.4.0->langchain_chroma==0.1.4) (0.14.0)\n",
      "Requirement already satisfied: jsonpointer>=1.9 in /home/jupyter/.local/lib/python3.10/site-packages (from jsonpatch<2.0,>=1.33->langchain-core<0.3.0,>=0.2.0->langchain==0.2.1) (3.0.0)\n",
      "Requirement already satisfied: google-auth>=1.0.1 in /usr/local/lib/python3.10/dist-packages (from kubernetes>=28.1.0->chromadb!=0.5.4,!=0.5.5,<0.6.0,>=0.4.0->langchain_chroma==0.1.4) (2.17.3)\n",
      "Requirement already satisfied: websocket-client!=0.40.0,!=0.41.*,!=0.42.*,>=0.32.0 in /usr/local/lib/python3.10/dist-packages (from kubernetes>=28.1.0->chromadb!=0.5.4,!=0.5.5,<0.6.0,>=0.4.0->langchain_chroma==0.1.4) (1.6.1)\n",
      "Requirement already satisfied: requests-oauthlib in /usr/local/lib/python3.10/dist-packages (from kubernetes>=28.1.0->chromadb!=0.5.4,!=0.5.5,<0.6.0,>=0.4.0->langchain_chroma==0.1.4) (1.3.1)\n",
      "Requirement already satisfied: oauthlib>=3.2.2 in /usr/local/lib/python3.10/dist-packages (from kubernetes>=28.1.0->chromadb!=0.5.4,!=0.5.5,<0.6.0,>=0.4.0->langchain_chroma==0.1.4) (3.2.2)\n",
      "Requirement already satisfied: durationpy>=0.7 in /home/jupyter/.local/lib/python3.10/site-packages (from kubernetes>=28.1.0->chromadb!=0.5.4,!=0.5.5,<0.6.0,>=0.4.0->langchain_chroma==0.1.4) (0.9)\n",
      "Requirement already satisfied: coloredlogs in /home/jupyter/.local/lib/python3.10/site-packages (from onnxruntime>=1.14.1->chromadb!=0.5.4,!=0.5.5,<0.6.0,>=0.4.0->langchain_chroma==0.1.4) (15.0.1)\n",
      "Requirement already satisfied: flatbuffers in /usr/local/lib/python3.10/dist-packages (from onnxruntime>=1.14.1->chromadb!=0.5.4,!=0.5.5,<0.6.0,>=0.4.0->langchain_chroma==0.1.4) (23.5.26)\n",
      "Requirement already satisfied: deprecated>=1.2.6 in /home/jupyter/.local/lib/python3.10/site-packages (from opentelemetry-api>=1.2.0->chromadb!=0.5.4,!=0.5.5,<0.6.0,>=0.4.0->langchain_chroma==0.1.4) (1.2.14)\n",
      "Requirement already satisfied: importlib-metadata<=8.4.0,>=6.0 in /home/jupyter/.local/lib/python3.10/site-packages (from opentelemetry-api>=1.2.0->chromadb!=0.5.4,!=0.5.5,<0.6.0,>=0.4.0->langchain_chroma==0.1.4) (8.4.0)\n",
      "Requirement already satisfied: opentelemetry-exporter-otlp-proto-common==1.27.0 in /home/jupyter/.local/lib/python3.10/site-packages (from opentelemetry-exporter-otlp-proto-grpc>=1.2.0->chromadb!=0.5.4,!=0.5.5,<0.6.0,>=0.4.0->langchain_chroma==0.1.4) (1.27.0)\n",
      "Requirement already satisfied: opentelemetry-proto==1.27.0 in /home/jupyter/.local/lib/python3.10/site-packages (from opentelemetry-exporter-otlp-proto-grpc>=1.2.0->chromadb!=0.5.4,!=0.5.5,<0.6.0,>=0.4.0->langchain_chroma==0.1.4) (1.27.0)\n",
      "Requirement already satisfied: opentelemetry-instrumentation-asgi==0.48b0 in /home/jupyter/.local/lib/python3.10/site-packages (from opentelemetry-instrumentation-fastapi>=0.41b0->chromadb!=0.5.4,!=0.5.5,<0.6.0,>=0.4.0->langchain_chroma==0.1.4) (0.48b0)\n",
      "Requirement already satisfied: opentelemetry-instrumentation==0.48b0 in /home/jupyter/.local/lib/python3.10/site-packages (from opentelemetry-instrumentation-fastapi>=0.41b0->chromadb!=0.5.4,!=0.5.5,<0.6.0,>=0.4.0->langchain_chroma==0.1.4) (0.48b0)\n",
      "Requirement already satisfied: opentelemetry-semantic-conventions==0.48b0 in /home/jupyter/.local/lib/python3.10/site-packages (from opentelemetry-instrumentation-fastapi>=0.41b0->chromadb!=0.5.4,!=0.5.5,<0.6.0,>=0.4.0->langchain_chroma==0.1.4) (0.48b0)\n",
      "Requirement already satisfied: opentelemetry-util-http==0.48b0 in /home/jupyter/.local/lib/python3.10/site-packages (from opentelemetry-instrumentation-fastapi>=0.41b0->chromadb!=0.5.4,!=0.5.5,<0.6.0,>=0.4.0->langchain_chroma==0.1.4) (0.48b0)\n",
      "Requirement already satisfied: setuptools>=16.0 in /kernel/lib/python3.10/site-packages (from opentelemetry-instrumentation==0.48b0->opentelemetry-instrumentation-fastapi>=0.41b0->chromadb!=0.5.4,!=0.5.5,<0.6.0,>=0.4.0->langchain_chroma==0.1.4) (65.5.0)\n",
      "Requirement already satisfied: asgiref~=3.0 in /home/jupyter/.local/lib/python3.10/site-packages (from opentelemetry-instrumentation-asgi==0.48b0->opentelemetry-instrumentation-fastapi>=0.41b0->chromadb!=0.5.4,!=0.5.5,<0.6.0,>=0.4.0->langchain_chroma==0.1.4) (3.8.1)\n",
      "Requirement already satisfied: monotonic>=1.5 in /home/jupyter/.local/lib/python3.10/site-packages (from posthog>=2.4.0->chromadb!=0.5.4,!=0.5.5,<0.6.0,>=0.4.0->langchain_chroma==0.1.4) (1.6)\n",
      "Requirement already satisfied: markdown-it-py>=2.2.0 in /usr/local/lib/python3.10/dist-packages (from rich>=10.11.0->chromadb!=0.5.4,!=0.5.5,<0.6.0,>=0.4.0->langchain_chroma==0.1.4) (3.0.0)\n",
      "Requirement already satisfied: pygments<3.0.0,>=2.13.0 in /usr/local/lib/python3.10/dist-packages (from rich>=10.11.0->chromadb!=0.5.4,!=0.5.5,<0.6.0,>=0.4.0->langchain_chroma==0.1.4) (2.14.0)\n",
      "Requirement already satisfied: mypy-extensions>=0.3.0 in /home/jupyter/.local/lib/python3.10/site-packages (from typing-inspect<1,>=0.4.0->dataclasses-json<0.7,>=0.5.7->langchain_community==0.2.4) (1.0.0)\n",
      "Requirement already satisfied: httptools>=0.5.0 in /home/jupyter/.local/lib/python3.10/site-packages (from uvicorn[standard]>=0.18.3->chromadb!=0.5.4,!=0.5.5,<0.6.0,>=0.4.0->langchain_chroma==0.1.4) (0.6.4)\n",
      "Requirement already satisfied: python-dotenv>=0.13 in /home/jupyter/.local/lib/python3.10/site-packages (from uvicorn[standard]>=0.18.3->chromadb!=0.5.4,!=0.5.5,<0.6.0,>=0.4.0->langchain_chroma==0.1.4) (1.0.1)\n",
      "Requirement already satisfied: uvloop!=0.15.0,!=0.15.1,>=0.14.0 in /home/jupyter/.local/lib/python3.10/site-packages (from uvicorn[standard]>=0.18.3->chromadb!=0.5.4,!=0.5.5,<0.6.0,>=0.4.0->langchain_chroma==0.1.4) (0.21.0)\n",
      "Requirement already satisfied: watchfiles>=0.13 in /home/jupyter/.local/lib/python3.10/site-packages (from uvicorn[standard]>=0.18.3->chromadb!=0.5.4,!=0.5.5,<0.6.0,>=0.4.0->langchain_chroma==0.1.4) (0.24.0)\n",
      "Requirement already satisfied: websockets>=10.4 in /home/jupyter/.local/lib/python3.10/site-packages (from uvicorn[standard]>=0.18.3->chromadb!=0.5.4,!=0.5.5,<0.6.0,>=0.4.0->langchain_chroma==0.1.4) (13.1)\n",
      "Requirement already satisfied: MarkupSafe>=2.0 in /usr/local/lib/python3.10/dist-packages (from jinja2->torch>=1.11.0->sentence_transformers==3.2.1) (2.1.3)\n",
      "Requirement already satisfied: mpmath>=0.19 in /usr/local/lib/python3.10/dist-packages (from sympy->torch>=1.11.0->sentence_transformers==3.2.1) (1.3.0)\n",
      "Requirement already satisfied: exceptiongroup in /usr/local/lib/python3.10/dist-packages (from anyio->httpx>=0.27.0->chromadb!=0.5.4,!=0.5.5,<0.6.0,>=0.4.0->langchain_chroma==0.1.4) (1.1.2)\n",
      "Requirement already satisfied: cachetools<6.0,>=2.0.0 in /usr/local/lib/python3.10/dist-packages (from google-auth>=1.0.1->kubernetes>=28.1.0->chromadb!=0.5.4,!=0.5.5,<0.6.0,>=0.4.0->langchain_chroma==0.1.4) (5.3.1)\n",
      "Requirement already satisfied: pyasn1-modules>=0.2.1 in /usr/local/lib/python3.10/dist-packages (from google-auth>=1.0.1->kubernetes>=28.1.0->chromadb!=0.5.4,!=0.5.5,<0.6.0,>=0.4.0->langchain_chroma==0.1.4) (0.3.0)\n",
      "Requirement already satisfied: rsa<5,>=3.1.4 in /usr/local/lib/python3.10/dist-packages (from google-auth>=1.0.1->kubernetes>=28.1.0->chromadb!=0.5.4,!=0.5.5,<0.6.0,>=0.4.0->langchain_chroma==0.1.4) (4.9)\n",
      "Requirement already satisfied: zipp>=0.5 in /usr/local/lib/python3.10/dist-packages (from importlib-metadata<=8.4.0,>=6.0->opentelemetry-api>=1.2.0->chromadb!=0.5.4,!=0.5.5,<0.6.0,>=0.4.0->langchain_chroma==0.1.4) (3.16.2)\n",
      "Requirement already satisfied: mdurl~=0.1 in /usr/local/lib/python3.10/dist-packages (from markdown-it-py>=2.2.0->rich>=10.11.0->chromadb!=0.5.4,!=0.5.5,<0.6.0,>=0.4.0->langchain_chroma==0.1.4) (0.1.2)\n",
      "Requirement already satisfied: humanfriendly>=9.1 in /home/jupyter/.local/lib/python3.10/site-packages (from coloredlogs->onnxruntime>=1.14.1->chromadb!=0.5.4,!=0.5.5,<0.6.0,>=0.4.0->langchain_chroma==0.1.4) (10.0)\n",
      "Requirement already satisfied: pyasn1<0.6.0,>=0.4.6 in /usr/local/lib/python3.10/dist-packages (from pyasn1-modules>=0.2.1->google-auth>=1.0.1->kubernetes>=28.1.0->chromadb!=0.5.4,!=0.5.5,<0.6.0,>=0.4.0->langchain_chroma==0.1.4) (0.5.0)\n",
      "\n",
      "\u001b[1m[\u001b[0m\u001b[34;49mnotice\u001b[0m\u001b[1;39;49m]\u001b[0m\u001b[39;49m A new release of pip is available: \u001b[0m\u001b[31;49m23.0.1\u001b[0m\u001b[39;49m -> \u001b[0m\u001b[32;49m24.2\u001b[0m\n",
      "\u001b[1m[\u001b[0m\u001b[34;49mnotice\u001b[0m\u001b[1;39;49m]\u001b[0m\u001b[39;49m To update, run: \u001b[0m\u001b[32;49mpython3 -m pip install --upgrade pip\u001b[0m\n"
     ]
    }
   ],
   "source": [
    "%pip install nltk==3.9.1 telebot==0.0.5 langchain==0.2.1 telebot sentence_transformers==3.2.1 langchain_community==0.2.4 langchain_chroma==0.1.4 unstructured yandex_chain==0.0.9 yandexcloud"
   ]
  },
  {
   "cell_type": "markdown",
   "id": "d0bf3cbc-24e8-4cee-84b4-cd4773454d8c",
   "metadata": {
    "cellId": "01gt55s25xlq8thmgt142tx",
    "execution_id": "202bd627-2f9f-4492-928d-9d30336acd19",
    "tags": []
   },
   "source": [
    "## Википедия Гарри Поттера\n",
    "\n",
    "В нашем примере мы будет строить бота на основе [Harry Potter Fandom Wiki](https://harrypotter.fandom.com/). Тексты из этой вики уже находятся в репозитории, их надо лишь разархивировать:\n"
   ]
  },
  {
   "cell_type": "code",
   "execution_count": 2,
   "id": "fcd8fa52-ae36-4021-9ce4-27b7c41e867f",
   "metadata": {
    "execution": {
     "iopub.execute_input": "2024-10-24T12:50:47.517886Z",
     "iopub.status.busy": "2024-10-24T12:50:47.516858Z",
     "iopub.status.idle": "2024-10-24T12:53:23.274449Z",
     "shell.execute_reply": "2024-10-24T12:53:23.273425Z",
     "shell.execute_reply.started": "2024-10-24T12:50:47.517839Z"
    }
   },
   "outputs": [
    {
     "name": "stdout",
     "output_type": "stream",
     "text": [
      "\n",
      "7-Zip (a) [64] 16.02 : Copyright (c) 1999-2016 Igor Pavlov : 2016-05-21\n",
      "p7zip Version 16.02 (locale=C.UTF-8,Utf16=on,HugeFiles=on,64 bits,4 CPUs Intel Xeon Processor (Icelake) (606A0),ASM,AES-NI)\n",
      "\n",
      "Scanning the drive for archives:\n",
      "1 file, 10889554 bytes (11 MiB)\n",
      "\n",
      "Extracting archive: data/harry_text.zip\n",
      "--\n",
      "Path = data/harry_text.zip\n",
      "Type = zip\n",
      "Physical Size = 10889554\n",
      "\n",
      "Everything is Ok\n",
      "\n",
      "Files: 6571\n",
      "Size:       27144403\n",
      "Compressed: 10889554\n"
     ]
    }
   ],
   "source": [
    "!7za x data/harry_text.zip"
   ]
  },
  {
   "cell_type": "markdown",
   "id": "fac29b3c-ac17-4dc1-928f-e52f25a6ef99",
   "metadata": {},
   "source": [
    "У нас в проекте появилась директория `content`, в которой лежат все текста. Вот как выглядит отдельно взятый текст:"
   ]
  },
  {
   "cell_type": "code",
   "execution_count": 6,
   "id": "d3854730-3448-418a-a401-3f2871b4d85f",
   "metadata": {
    "execution": {
     "iopub.execute_input": "2024-10-24T13:00:18.216508Z",
     "iopub.status.busy": "2024-10-24T13:00:18.215399Z",
     "iopub.status.idle": "2024-10-24T13:00:18.232582Z",
     "shell.execute_reply": "2024-10-24T13:00:18.231662Z",
     "shell.execute_reply.started": "2024-10-24T13:00:18.216457Z"
    },
    "tags": []
   },
   "outputs": [
    {
     "name": "stdout",
     "output_type": "stream",
     "text": [
      "## Белые искры\n",
      "\n",
      "Белые искры\n",
      "Информация о заклинании\n",
      "Формула\n",
      "Неизвестно\n",
      "\n",
      "Тип\n",
      "Чары\n",
      "\n",
      "Эффект\n",
      "Создаёт искры\n",
      "\n",
      "Цвет\n",
      "Белый\n",
      "Белые искры (англ. White sparks) — чары, выпускающие сноп белых искр из кончика волшебной палочки. Если выпустить большое количество этих искр вблизи человека, ему станет трудно дышать и видеть. Его также можно использовать в дуэлях для ослепления соперника.\n",
      "История[]\n",
      "На матче по квиддичу между Сборной США и Сборной Лихтенштейна в 2014 году американские болельщики выпустили огромное количество синих, красных и белых искр, празднуя победу своей команды — это серьёзно затруднило видимость на стадионе.\n",
      "За кулисами[]\n",
      "Баубиллиус, возможно, является вербальной формулой этих чар, хотя это не подтверждено.\n",
      "Появления[]\n",
      "Wizarding World (Первое появление)\n",
      "Гарри Поттер: Коллекционная карточная игра (Возможное появление)\n",
      "\n"
     ]
    }
   ],
   "source": [
    "with open('content/text/Белые искры.txt') as f:\n",
    "    print(f.read().replace('\\n\\n','\\n'))"
   ]
  },
  {
   "cell_type": "markdown",
   "id": "60cda52e-1229-4cf2-810b-83fbaecc01c1",
   "metadata": {},
   "source": [
    "Выполним несколько подготовительных действий..."
   ]
  },
  {
   "cell_type": "code",
   "execution_count": 1,
   "id": "243ae36a-94fe-4bcf-b03a-4442f8931dd2",
   "metadata": {
    "execution": {
     "iopub.execute_input": "2024-10-24T13:11:26.856296Z",
     "iopub.status.busy": "2024-10-24T13:11:26.855117Z",
     "iopub.status.idle": "2024-10-24T13:11:27.897609Z",
     "shell.execute_reply": "2024-10-24T13:11:27.896757Z",
     "shell.execute_reply.started": "2024-10-24T13:11:26.856258Z"
    },
    "tags": []
   },
   "outputs": [
    {
     "name": "stderr",
     "output_type": "stream",
     "text": [
      "[nltk_data] Downloading package punkt to /home/jupyter/nltk_data...\n",
      "[nltk_data]   Package punkt is already up-to-date!\n"
     ]
    },
    {
     "data": {
      "text/plain": [
       "True"
      ]
     },
     "execution_count": 1,
     "metadata": {},
     "output_type": "execute_result"
    }
   ],
   "source": [
    "import nltk\n",
    "nltk.download('punkt')"
   ]
  },
  {
   "cell_type": "markdown",
   "id": "419bbe72-1591-4acf-9fb7-9135b35ddb28",
   "metadata": {},
   "source": [
    "### Разбиваем текст на фрагменты\n",
    "\n",
    "Для поиска нам нужно будет выбирать достаточно небольшие фрагменты текста. Поэтому, если вдруг в базе есть большие тексты, из необходимо разбить на кусочки. Вот как это сделать:"
   ]
  },
  {
   "cell_type": "code",
   "execution_count": 1,
   "id": "3c9d383f",
   "metadata": {
    "cellId": "503n864wu3akn1mjo318yj",
    "execution": {
     "iopub.execute_input": "2024-10-24T16:44:04.689401Z",
     "iopub.status.busy": "2024-10-24T16:44:04.688540Z",
     "iopub.status.idle": "2024-10-24T16:47:40.128853Z",
     "shell.execute_reply": "2024-10-24T16:47:40.127907Z",
     "shell.execute_reply.started": "2024-10-24T16:44:04.689364Z"
    },
    "tags": []
   },
   "outputs": [
    {
     "name": "stderr",
     "output_type": "stream",
     "text": [
      "100%|██████████| 6571/6571 [03:32<00:00, 30.94it/s]\n"
     ]
    },
    {
     "data": {
      "text/plain": [
       "12613"
      ]
     },
     "execution_count": 1,
     "metadata": {},
     "output_type": "execute_result"
    }
   ],
   "source": [
    "import langchain\n",
    "from langchain_text_splitters import RecursiveCharacterTextSplitter\n",
    "from langchain_community.document_loaders import DirectoryLoader\n",
    "\n",
    "chunk_size = 2048\n",
    "chunk_overlap = 100\n",
    "source_dir = \"content/text\"\n",
    "\n",
    "loader = DirectoryLoader(\n",
    "    source_dir, glob=\"*.txt\", show_progress=True, recursive=True\n",
    ")\n",
    "splitter = RecursiveCharacterTextSplitter(\n",
    "    chunk_size=chunk_size, chunk_overlap=chunk_overlap\n",
    ")\n",
    "fragments = splitter.create_documents([x.page_content for x in loader.load()])\n",
    "print(f\"Количество кусочков = {len(fragments)}\")"
   ]
  },
  {
   "cell_type": "markdown",
   "id": "9068ad70",
   "metadata": {
    "cellId": "xmlbo4mkcqt1zjx877mza1",
    "execution_id": "1a16dc51-9ba9-4725-875d-f9a085e1e587"
   },
   "source": [
    "### Сохраняем фрагменты в базу данных\n",
    "\n",
    "Для поиска нужных фрагментов мы будем использовать хитрый подход - **эмбеддинги**. Каждому тексту будет сопоставляться некоторый вектор (набор числел), в соответствии с его смыслом. Мы дальше будем просто искать похожие вектора на наш запрос."
   ]
  },
  {
   "cell_type": "markdown",
   "id": "62246051-d183-44f3-812c-4a7a9b386b38",
   "metadata": {},
   "source": [
    "Вот как можно вычислить такой вектор для текста:\n",
    "\n",
    "> Не забудьте добавить секрет **api_key** и **folder_id** в свой проект DataSphere!\n"
   ]
  },
  {
   "cell_type": "code",
   "execution_count": 2,
   "id": "1a9a5705",
   "metadata": {
    "cellId": "nfqfqhfm1o008d49oy4786s",
    "execution": {
     "iopub.execute_input": "2024-10-24T21:45:16.501718Z",
     "iopub.status.busy": "2024-10-24T21:45:16.500555Z",
     "iopub.status.idle": "2024-10-24T21:45:16.819362Z",
     "shell.execute_reply": "2024-10-24T21:45:16.818593Z",
     "shell.execute_reply.started": "2024-10-24T21:45:16.501674Z"
    },
    "tags": []
   },
   "outputs": [
    {
     "data": {
      "text/plain": [
       "256"
      ]
     },
     "execution_count": 2,
     "metadata": {},
     "output_type": "execute_result"
    }
   ],
   "source": [
    "from yandex_chain import YandexEmbeddings\n",
    "import os\n",
    "\n",
    "api_key = os.environ[\"api_key\"]\n",
    "folder_id = os.environ[\"folder_id\"]\n",
    "\n",
    "embeddings = YandexEmbeddings(folder_id=folder_id, api_key=api_key, sleep_interval=0.1)\n",
    "vec = embeddings.embed_query(\"Hello, world!\")\n",
    "len(vec)"
   ]
  },
  {
   "cell_type": "markdown",
   "id": "9f6f614d",
   "metadata": {
    "cellId": "q5znrcj1wan9h6ddvj28p",
    "execution_id": "dbfc733d-c9d0-4c6f-af7c-301b3d231364"
   },
   "source": [
    "Теперь нам нужно проиндексировать все кусочки текстов\n",
    "\n",
    "> **ВНИМАНИЕ**: Этот код выполняется долго (**20 минут**)! Выполняйте его только в том случае, если вы поменяете содержимое базы знаний, чтобы сделать своего бота!"
   ]
  },
  {
   "cell_type": "code",
   "execution_count": 4,
   "id": "475fab93",
   "metadata": {
    "cellId": "5tmslotcscignkmh50g49p",
    "execution": {
     "iopub.execute_input": "2024-10-24T16:47:49.968475Z",
     "iopub.status.busy": "2024-10-24T16:47:49.967486Z",
     "iopub.status.idle": "2024-10-24T16:47:51.027247Z",
     "shell.execute_reply": "2024-10-24T16:47:51.026392Z",
     "shell.execute_reply.started": "2024-10-24T16:47:49.968437Z"
    },
    "tags": []
   },
   "outputs": [],
   "source": [
    "from langchain_chroma import Chroma\n",
    "\n",
    "db_dir = \"content\"\n",
    "\n",
    "db = Chroma(persist_directory=db_dir, embedding_function=embeddings)"
   ]
  },
  {
   "cell_type": "markdown",
   "id": "1cabc989-711a-40c0-8f2a-784a533e996d",
   "metadata": {},
   "source": [
    "Чтобы просто посмотреть, как работает код, воспользуемся уже созданной ранее векторной базой данных и просто её разархивируем:"
   ]
  },
  {
   "cell_type": "code",
   "execution_count": 16,
   "id": "bcaa8e7d",
   "metadata": {
    "cellId": "j0bkb4g6igstk2umstio2j",
    "execution": {
     "iopub.execute_input": "2024-10-24T21:17:34.264632Z",
     "iopub.status.busy": "2024-10-24T21:17:34.263783Z",
     "iopub.status.idle": "2024-10-24T21:17:37.409483Z",
     "shell.execute_reply": "2024-10-24T21:17:37.408595Z",
     "shell.execute_reply.started": "2024-10-24T21:17:34.264588Z"
    },
    "tags": []
   },
   "outputs": [
    {
     "name": "stdout",
     "output_type": "stream",
     "text": [
      "\n",
      "7-Zip (a) [64] 16.02 : Copyright (c) 1999-2016 Igor Pavlov : 2016-05-21\n",
      "p7zip Version 16.02 (locale=C.UTF-8,Utf16=on,HugeFiles=on,64 bits,4 CPUs Intel Xeon Processor (Icelake) (606A0),ASM,AES-NI)\n",
      "\n",
      "Scanning the drive for archives:\n",
      "1 file, 61684636 bytes (59 MiB)\n",
      "\n",
      "Extracting archive: data/db.zip\n",
      "--\n",
      "Path = data/db.zip\n",
      "Type = zip\n",
      "Physical Size = 61684636\n",
      "\n",
      "Everything is Ok\n",
      "\n",
      "Files: 6\n",
      "Size:       288220132\n",
      "Compressed: 61684636\n"
     ]
    }
   ],
   "source": [
    "!7za x data/db.zip"
   ]
  },
  {
   "cell_type": "markdown",
   "id": "31ff0044-cdea-49dd-a006-a1ef6ce5420a",
   "metadata": {},
   "source": [
    "Подключимся к этой базе:"
   ]
  },
  {
   "cell_type": "code",
   "execution_count": 3,
   "id": "f3ee8720-d4c0-4a99-a046-dac62489a643",
   "metadata": {
    "execution": {
     "iopub.execute_input": "2024-10-24T21:45:21.510286Z",
     "iopub.status.busy": "2024-10-24T21:45:21.509256Z",
     "iopub.status.idle": "2024-10-24T21:45:21.721196Z",
     "shell.execute_reply": "2024-10-24T21:45:21.720445Z",
     "shell.execute_reply.started": "2024-10-24T21:45:21.510242Z"
    },
    "tags": []
   },
   "outputs": [],
   "source": [
    "from langchain_chroma import Chroma\n",
    "\n",
    "db_dir = \"content\"\n",
    "\n",
    "vec_store = Chroma(persist_directory=db_dir, embedding_function=embeddings)"
   ]
  },
  {
   "cell_type": "markdown",
   "id": "6dfb33a2-2946-4c60-899b-f4c0d6ddcbfc",
   "metadata": {},
   "source": [
    "Теперь посмотрим, насколько хорошо находятся фрагменты текста по какому-то запросу:"
   ]
  },
  {
   "cell_type": "code",
   "execution_count": 5,
   "id": "2f4be3a5",
   "metadata": {
    "cellId": "fdty939nkuf433bv37l2cs",
    "execution": {
     "iopub.execute_input": "2024-10-24T21:45:38.524413Z",
     "iopub.status.busy": "2024-10-24T21:45:38.523407Z",
     "iopub.status.idle": "2024-10-24T21:45:39.062062Z",
     "shell.execute_reply": "2024-10-24T21:45:39.061213Z",
     "shell.execute_reply.started": "2024-10-24T21:45:38.524372Z"
    },
    "tags": []
   },
   "outputs": [
    {
     "name": "stdout",
     "output_type": "stream",
     "text": [
      "----------------------------------------\n",
      "## Левитация\n",
      "\n",
      "Это незавершённая статья.Вы можете помочь проекту, исправив и дополнив её.\n",
      "\n",
      "Левитация (англ. Levitation) — это магическая способность, позволяющая левитировать выбранные объекты.\n",
      "\n",
      "Заклинания, используемые для левитации[]\n",
      "\n",
      "Левикорпус\n",
      "\n",
      "Левитационное заклинание\n",
      "\n",
      "Левитационные чары\n",
      "\n",
      "Локомотор\n",
      "\n",
      "Мобилиарбус\n",
      "\n",
      "Мобиликорпус\n",
      "\n",
      "Парящие чары\n",
      "\n",
      "Появления[]\n",
      "\n",
      "Гарри Поттер и Философский камень (Первое появление)\n",
      "\n",
      "Гарри Поттер и Философский камень (фильм)\n",
      "\n",
      "Гарри Поттер и Философский камень (игра)\n",
      "\n",
      "Гарри Поттер и Тайная комната\n",
      "\n",
      "Гарри Поттер и Тайная комната (фильм)\n",
      "\n",
      "Гарри Поттер и Тайная комната (игра)\n",
      "\n",
      "Гарри Поттер и узник Азкабана\n",
      "\n",
      "Гарри Поттер и узник Азкабана (фильм)\n",
      "\n",
      "Гарри Поттер и узник Азкабана (игра)\n",
      "\n",
      "Гарри Поттер и Кубок Огня\n",
      "\n",
      "Гарри Поттер и Кубок огня (фильм)\n",
      "\n",
      "Гарри Поттер и Кубок Огня (игра)\n",
      "\n",
      "Гарри Поттер и Орден Феникса\n",
      "\n",
      "Гарри Поттер и Орден Феникса (фильм)\n",
      "\n",
      "Гарри Поттер и Орден Феникса (игра)\n",
      "\n",
      "Гарри Поттер и Принц-полукровка\n",
      "\n",
      "Гарри Поттер и Принц-полукровка (фильм)\n",
      "\n",
      "Гарри Поттер и Принц-полукровка (игра)\n",
      "\n",
      "Гарри Поттер и Дары Смерти\n",
      "\n",
      "Гарри Поттер и Дары Смерти: Часть 1\n",
      "\n",
      "Гарри Поттер и Дары Смерти: Часть I (игра)\n",
      "\n",
      "Гарри Поттер и Дары Смерти: Часть 2\n",
      "\n",
      "Гарри Поттер и Дары Смерти: Часть II (игра)\n",
      "\n",
      "Гарри Поттер и проклятое дитя. Части 1 и 2\n",
      "\n",
      "Гарри Поттер и Проклятое дитя (пьеса)\n",
      "\n",
      "Фантастические твари и где они обитают: Оригинальный сценарий\n",
      "\n",
      "Фантастические твари и где они обитают\n",
      "\n",
      "Фантастические твари: Преступления Грин-де-Вальда: Оригинальный сценарий\n",
      "\n",
      "Фантастические твари: Преступления Грин-де-Вальда\n",
      "\n",
      "Сказки барда Бидля (реальная книга)\n",
      "\n",
      "Квиддич с древности до наших дней (реальная книга)\n",
      "\n",
      "LEGO Гарри Поттер: годы 1-4\n",
      "\n",
      "LEGO Гарри Поттер: годы 5-7\n",
      "\n",
      "LEGO Гарри Поттер (серия)\n",
      "\n",
      "Волшебный мир Гарри Поттера\n",
      "\n",
      "Wizarding World\n",
      "\n",
      "Гарри Поттер: Коллекционная карточная игра\n",
      "\n",
      "Wonderbook: Книга заклинаний\n",
      "\n",
      "Harry Potter: Hogwarts Mystery\n",
      "\n",
      "Harry Potter: Wizards Unite\n",
      "\n",
      "Harry Potter: Magic Awakened\n",
      "\n",
      "Гарри Поттер: магия и загадки\n",
      "----------------------------------------\n",
      "## Левитационные заклинания\n",
      "\n",
      "Парящий торт  Левитационные заклинания — группа заклинаний, главным действием которых является левитация объектов. Известные заклинания[] Левитационные чары Асцендио Арресто моментум Карпе Ретрактум Левиосо Левикорпус Локомотор Эффект[] Заклинания группы Локомотор способны поднимать объекты в воздух (возможно, они гораздо эффективнее, чем Вингардиум Левиоса). Также с помощью этих заклинаний можно с легкостью перемещать предметы, не используя физических сил. Левитационные заклинания отрицают законы гравитации, помогают волшебнику поднимать тяжелые предметы, которые он не поднял бы без помощи магии. Левитационные заклинания можно наложить неодушевлённый предмет и заставить его летать. Например, мётлы. Заклинание «Вингардиум Левиоса» входило в экзаменационный материал на сдачу СОВ по заклинаниям. Заклинание «Акцио» частично тоже связано с левитацией, так как предметы, подвергнутые этому заклинанию, доставляются к волшебнику по воздуху. Заклинания, начинающиеся со слов «Локомотор...» (например «Локомотор чемодан») или «Мобили...» («Мобилиарбус») так же транспортируют предметы по воздуху, но эти перемещения надо контролировать волшебной палочкой. Заклинание «Левикорпус» было изобретено Северусом Снеггом и предназначается для подвешивания в воздухе человека. Перемещать висящего в воздухе человека можно с помощью того же «Локомотора». Контрзаклятием является «Либеракорпус».\n",
      "\n",
      "Примечания[]\n",
      "----------------------------------------\n",
      "— заклинание левитации, которое заставляет объекты парить в воздухе. Легилименс — позволяет читать мысли противника. Летучемышиный сглаз — противник атакуется стаей летучих мышей, закрывающих обзор, он теряет способность видеть и сопротивляться. Либеракорпус — прекращает действие заклинания Левикорпус. Локомотор — передвижение предметов по воздуху. Локомотор Виббли (2) — заклинание ватных ног. Ноги придётся волочить[16]. Локомотор Мортис — заклинание обезноживания. Склеивает обе ноги. Пиертотум Локомотор — разновидность Локомотора, заставляет двигаться каменные статуи. В книге «Гарри Поттер и Дары Смерти» его использует Минерва Макгонагалл[18]. Люмос — заклинание освещения. Зажигает огонь на конце палочки (в играх показывает скрытые проходы в стенах и платформы). Люмос Дуо(2) — создает световую связь между объектами[15]. Люмос Максима — зажигает огонь на конце палочки и при взмахе палочкой отправляет его вдаль. Люмос Солем (1) — вызывает солнечный луч из конца палочки[14]. Магикус экстримус (2) — усиливает действие заклинаний[5]. Маглоотталкивающие чары — защищает от проникновения маглов на некую территорию. Мелофорс (2) — тыквоголовое заклятие. Превращает голову объекта в тыкву[15]. Метео реканто — останавливает некоторые атмосферные осадки. Мимбл Вимбл (2) — Заклинание Косноязычия. Мешает противнику правильно произнести заклинание тем, что связывает язык в узел[22]. «Мобили...» — Заклинания, начинающиеся с заставляют летать различные предметы. Называть предметы надо по латыни. Так с помощью «Мобилиарбус» Гермиона Грейнджер перенесла по воздуху искусственную ёлочку. Вероятно, использовать родной (в данном случае английский) язык можно в сочетании «Локомотор...» («Локомотор чемодан»). Мобилиарбус — заклинание передвижения деревянных объектов. Мобиликорпус — передвижение человека по воздуху. Так например Волан-де-Морт заставил парить Чарити Бербидж, Сириус Блэк перемещает по воздуху Снегга, Волан-де-Морт и Петтигрю используют это заклинание для того, чтобы заставить Гарри поклониться. Морсмордре — Запускает в\n",
      "----------------------------------------\n",
      "## Левиосо\n",
      "\n",
      "Левиосо\n",
      "\n",
      "Информация о заклинании\n",
      "\n",
      "Формула\n",
      "\n",
      "Левиосо\n",
      "\n",
      "Тип\n",
      "\n",
      "Левитационное\n",
      "\n",
      "Эффект Заставляет предметы парить в воздухе.\n",
      "\n",
      "Цвет Белый Левиосо[1] (англ. Levitation Spell) — заклинание левитации, которое заставляет парить в воздухе объекты. В отличие от Вингардиум Левиоса, это заклинание не позволяет просто перемещать объекты по воздуху, для этого нужно коснуться предмета палочкой.\n",
      "\n",
      "Содержание\n",
      "\n",
      "1 Описание\n",
      "\n",
      "2 Интересные факты\n",
      "\n",
      "3 Этимология\n",
      "\n",
      "4 Появления\n",
      "\n",
      "5 Примечания\n",
      "\n",
      "Описание[] Это заклинание левитации считается одним из самых ранних записанных заклинаний в волшебном мире, а конкретно, в Древней Англии.\n",
      "\n",
      "Интересные факты[] Вингардиум Левиоса и Аларте Аскендаре могут быть вариациями этого заклинания. Это заклинание отличается от Аларте Аскендаре тем, что объект парит, а не взлетает высоко вверх. Этимология[] Есть два варианта проиcхождения Levioso:\n",
      "\n",
      "От латинского слова Levo, что означает «поднять», «подними». От латинского слова 'Levis — «лёгкий». Появления[] Официальный сайт Джоан Роулинг Примечания[]\n",
      "\n",
      "↑ Levitation Spell\n",
      "----------------------------------------\n",
      "Спицы вяжут сами Вяжущие чары Вяжущие чары (вербальная формула неизвестна)  - используются для зачарования вязальных спиц, чтобы они выполняли свою задачу самостоятельно.\n",
      "\n",
      "Лакарнум Инфламаре Лакарнум Инфламаре - формула чар, используемых для поджигания мантии мага путём выбрасывания огненного шара из палочки заклинателя.\n",
      "\n",
      "Волан-де Морт использует Легилименцию на Гарри Поттере Заклинание Легилименции Заклинание Легилименции (Легилименс) позволяет заклинателю использовать легилименцию; иными словами, проникнуть в разум жертвы, позволяя заклинателю просматривать воспоминания, эмоции и мысли.\n",
      "\n",
      "Гермиона Грейнджер использует Вингардиум Левиоса на уроке чар Чары левитации Чары левитации (Вингардиум Левиоса) - чары, используемые, чтобы заставить объект летать или левитировать.\n",
      "\n",
      "Заклинание левитации\n",
      "\n",
      "Заклинание левитации (Левиосо)\n",
      "\n",
      "чары, позволяющие левитировать объекты.\n",
      "\n",
      "Либераре\n",
      "\n",
      "Либераре\n",
      "\n",
      "чары, отпирающие дверь.\n",
      "\n",
      "Волан-де Морт использует заклинание молнии, забрав Старшую Палочку Заклинание молнии Это заклинание (вербальная формула неизвестна) используется, чтобы выстрелить молнией ослепительно белого цвета в небо, в сопровождении некоторого треска, с которым создаётся большое количество электричества.\n",
      "\n",
      "Античары к Туману Лимбо Эти античары используются против Тумана Лимбо, чтобы подвергнуться его эффекту. Чтобы наложить это заклинание, нужно убрать все потенциально мешающие вещи, как шарфы и бижутерия.\n",
      "\n",
      "Северус Снейп использует Коллопортус Запирающее заклинание Запирающее заклинание (Коллопортус) - чары, накладываемые на замок или закрытую дверь, чтобы исключить возможность открытия вручную.\n",
      "\n",
      "Передвигающие чары Передвигающие чары (Локомотор) - чары, позволяющие волшебнику приподнять цель на несколько дюймов от земли и затем двигать её в любом направлении.\n",
      "\n",
      "Чары Люмос Дуо Чары Люмос Дуо (Люмос Дуо) - современная вариация чар света. Создаёт интенсивный источник света из палочки, соединяющий палочку заклинателя и цель чар.\n"
     ]
    }
   ],
   "source": [
    "q = \"Какое заклинание помогает левитировать?\"\n",
    "\n",
    "retriever = vec_store.as_retriever(search_kwargs={\"k\": 5})\n",
    "res = retriever.invoke(q)\n",
    "for x in res:\n",
    "    print(\"-\" * 40)\n",
    "    print(x.page_content)"
   ]
  },
  {
   "cell_type": "markdown",
   "id": "13c08e24-b385-4853-bad4-73c5aae88425",
   "metadata": {},
   "source": [
    "### Подключаемся к Yandex GPT\n",
    "\n",
    "Для формирования целостного ответа на вопрос пользователей нам потребуется обработать найденные фрагменты текста с помощью Yandex GPT. "
   ]
  },
  {
   "cell_type": "code",
   "execution_count": 7,
   "id": "423a58c1",
   "metadata": {
    "cellId": "j17m1mbp5hgxbgxvx0xnz",
    "execution": {
     "iopub.execute_input": "2024-10-24T21:45:51.771490Z",
     "iopub.status.busy": "2024-10-24T21:45:51.770408Z",
     "iopub.status.idle": "2024-10-24T21:45:56.311945Z",
     "shell.execute_reply": "2024-10-24T21:45:56.311157Z",
     "shell.execute_reply.started": "2024-10-24T21:45:51.771446Z"
    },
    "tags": []
   },
   "outputs": [
    {
     "data": {
      "text/plain": [
       "'Во вселенной Гарри Поттера существует множество заклинаний, которые позволяют левитировать или управлять полетом объектов и даже людей. Одно из основных заклинаний для левитации — это заклинание *«Вингардиум Левиоса»*.\\n\\nОднако стоит помнить, что большинство заклинаний во вселенной Гарри Поттера требуют определенного уровня подготовки и магической силы, чтобы их выполнить.'"
      ]
     },
     "execution_count": 7,
     "metadata": {},
     "output_type": "execute_result"
    }
   ],
   "source": [
    "from yandex_chain import YandexLLM,YandexGPTModel\n",
    "\n",
    "instructions = \"\"\"\n",
    "Ты - дружелюбный чат-бот, отвечающий на вопросы про вселенную Гарри Поттера\n",
    "\"\"\"\n",
    "\n",
    "llm = YandexLLM(folder_id=folder_id,api_key=api_key, instruction_text=instructions, model=YandexGPTModel.Pro)\n",
    "\n",
    "llm.invoke(q)"
   ]
  },
  {
   "cell_type": "markdown",
   "id": "9bd75c79-ae33-4558-ae30-a2680ba6e67d",
   "metadata": {},
   "source": [
    "В данном примере мы пока что никак не использовали наши текстовые документы.\n",
    "\n",
    "### Собираем Retrieval-Augmented Generation\n",
    "\n",
    "Пришла пора соединить всё вместе и научить бота отвечать на вопросы, подглядывая в нашу текстовую базу знаний . Для этого используем механизм цепочек (*chains*):"
   ]
  },
  {
   "cell_type": "code",
   "execution_count": 8,
   "id": "4a500165",
   "metadata": {
    "cellId": "77y4w5s6seg08g1utincn7a",
    "execution": {
     "iopub.execute_input": "2024-10-24T21:46:07.381364Z",
     "iopub.status.busy": "2024-10-24T21:46:07.380326Z",
     "iopub.status.idle": "2024-10-24T21:46:13.634493Z",
     "shell.execute_reply": "2024-10-24T21:46:13.633570Z",
     "shell.execute_reply.started": "2024-10-24T21:46:07.381321Z"
    },
    "tags": []
   },
   "outputs": [
    {
     "name": "stdout",
     "output_type": "stream",
     "text": [
      "В мире Гарри Поттера есть несколько заклинаний, которые помогают левитировать предметы. Например, «Вингардиум Левиоса», «Левикорпус», «Локомотор» и другие.\n",
      "\n",
      "Заклинание «Вингардиум Левиоса» часто используется для перемещения предметов по воздуху. С его помощью можно заставить объекты парить в воздухе. «Локомотор», как и его разновидность «Пиертотум Локомотор», также позволяет транспортировать предметы по воздуху, но эти перемещения надо контролировать волшебной палочкой. \n",
      "\n",
      "«Левикорпус» поднимает человека в воздух вверх ногами, а «Мобиликорпус» позволяет перемещать человека по воздуху в любом направлении. Также существует заклинание «Левиосо», которое заставляет предметы парить в воздухе, но при этом не позволяет их перемещать.\n"
     ]
    }
   ],
   "source": [
    "import langchain \n",
    "import langchain.prompts\n",
    "from langchain_core.output_parsers import StrOutputParser\n",
    "from langchain_core.runnables import RunnablePassthrough\n",
    "\n",
    "\n",
    "prompt = \"\"\"\n",
    "Ты - бот, умеющий разноваривать про вселенную Гарри Поттера. Пожалуйста, посмотри на \n",
    "текст ниже и ответь на вопрос, используя информацию из этого текста. Не надо писать про текст,\n",
    "пиши просто ответ, но достаточно подробный.\n",
    "Текст:\n",
    "-----\n",
    "{context}\n",
    "-----\n",
    "Вопрос:\n",
    "{question}\"\"\"\n",
    "\n",
    "prompt = langchain.prompts.PromptTemplate(\n",
    "    template=prompt, input_variables=[\"context\", \"question\"]\n",
    ")\n",
    "\n",
    "def join_docs(docs):\n",
    "    return \"\\n\\n\".join(doc.page_content for doc in docs)\n",
    "\n",
    "# Создаём цепочку\n",
    "chain = (\n",
    "    {\"context\": retriever | join_docs, \"question\": RunnablePassthrough()}\n",
    "    | prompt\n",
    "    | llm\n",
    "    | StrOutputParser()\n",
    ")\n",
    "\n",
    "answer = chain.invoke(q)\n",
    "print(answer)"
   ]
  },
  {
   "cell_type": "markdown",
   "id": "56c6c178-a3fe-411d-88d6-b0ee55498f5e",
   "metadata": {},
   "source": [
    "### Делаем телеграм-бота\n",
    "\n",
    "Теперь сделаем телеграм-бота для ответа на вопросы про вселенную Гарри Поттера. Как делать телеграм-бота мы уже знаем из примеров в файле **Кирпичики**. Сначала надо создать телеграм-бота в телеграме (с помощью **botfather**), и запомнить его секретный ключ в секрете DataSphere `tg_token`."
   ]
  },
  {
   "cell_type": "code",
   "execution_count": 10,
   "id": "f511df20-551e-47b8-809c-52a9169a6c7c",
   "metadata": {
    "execution": {
     "iopub.execute_input": "2024-10-24T21:46:26.250459Z",
     "iopub.status.busy": "2024-10-24T21:46:26.249164Z",
     "iopub.status.idle": "2024-10-24T21:47:31.207482Z",
     "shell.execute_reply": "2024-10-24T21:47:31.206561Z",
     "shell.execute_reply.started": "2024-10-24T21:46:26.250415Z"
    },
    "tags": []
   },
   "outputs": [
    {
     "name": "stdout",
     "output_type": "stream",
     "text": [
      "Бот готов к работе\n"
     ]
    }
   ],
   "source": [
    "import io,os\n",
    "import telebot\n",
    "from PIL import Image\n",
    "\n",
    "telegram_token = os.environ['tg_token']\n",
    "\n",
    "bot = telebot.TeleBot(telegram_token)\n",
    "\n",
    "# Обработчик команды /start\n",
    "@bot.message_handler(commands=['start'])\n",
    "def start(message):\n",
    "    # Отправляем приветственное сообщение\n",
    "    bot.send_message(message.chat.id,\n",
    "                     'Привет, я бот, который знает всё про вселенную Гарри Поттера. Спрашивай!')\n",
    "\n",
    "# Обработчик для всех входящих сообщений\n",
    "@bot.message_handler(func=lambda message: True)\n",
    "def handle_message(message):\n",
    "    answer = chain.invoke(message.text)\n",
    "    bot.send_message(message.chat.id, answer)\n",
    "    \n",
    "# Запуск бота\n",
    "print(\"Бот готов к работе\")\n",
    "bot.polling(none_stop=True)"
   ]
  },
  {
   "cell_type": "code",
   "execution_count": null,
   "id": "2a66bd8e-5ec1-44ff-a676-db22ca956a1b",
   "metadata": {},
   "outputs": [],
   "source": []
  }
 ],
 "metadata": {
  "kernelspec": {
   "display_name": "DataSphere Kernel",
   "language": "python",
   "name": "python3"
  },
  "language_info": {
   "codemirror_mode": {
    "name": "ipython",
    "version": 3
   },
   "file_extension": ".py",
   "mimetype": "text/x-python",
   "name": "python",
   "nbconvert_exporter": "python",
   "pygments_lexer": "ipython3",
   "version": "3.10.12"
  },
  "notebookId": "369d3e82-763a-4bcd-b5cc-0cfe14f13f53",
  "notebookPath": "VideoQABot/LangChainQA.ipynb"
 },
 "nbformat": 4,
 "nbformat_minor": 5
}
